{
 "cells": [
  {
   "cell_type": "markdown",
   "metadata": {},
   "source": [
    "# Modeling and Simulation in Python\n",
    "\n",
    "Richard Gao\n"
   ]
  },
  {
   "cell_type": "code",
   "execution_count": 1,
   "metadata": {},
   "outputs": [],
   "source": [
    "# Configure Jupyter so figures appear in the notebook\n",
    "%matplotlib inline\n",
    "\n",
    "# Configure Jupyter to display the assigned value after an assignment\n",
    "%config InteractiveShell.ast_node_interactivity='last_expr_or_assign'\n",
    "\n",
    "# import functions from the modsim.py module\n",
    "from modsim import *\n",
    "from matplotlib import patches\n",
    "import math"
   ]
  },
  {
   "cell_type": "code",
   "execution_count": 2,
   "metadata": {},
   "outputs": [
    {
     "data": {
      "text/html": [
       "meter"
      ],
      "text/latex": [
       "$\\mathrm{meter}$"
      ],
      "text/plain": [
       "<Unit('meter')>"
      ]
     },
     "execution_count": 2,
     "metadata": {},
     "output_type": "execute_result"
    }
   ],
   "source": [
    "# Here are the units we'll need\n",
    "\n",
    "s = UNITS.second\n",
    "N = UNITS.newton\n",
    "kg = UNITS.kilogram\n",
    "m = UNITS.meter"
   ]
  },
  {
   "cell_type": "code",
   "execution_count": 3,
   "metadata": {},
   "outputs": [
    {
     "data": {
      "text/html": [
       "<div>\n",
       "<style scoped>\n",
       "    .dataframe tbody tr th:only-of-type {\n",
       "        vertical-align: middle;\n",
       "    }\n",
       "\n",
       "    .dataframe tbody tr th {\n",
       "        vertical-align: top;\n",
       "    }\n",
       "\n",
       "    .dataframe thead th {\n",
       "        text-align: right;\n",
       "    }\n",
       "</style>\n",
       "<table border=\"1\" class=\"dataframe\">\n",
       "  <thead>\n",
       "    <tr style=\"text-align: right;\">\n",
       "      <th></th>\n",
       "      <th>values</th>\n",
       "    </tr>\n",
       "  </thead>\n",
       "  <tbody>\n",
       "    <tr>\n",
       "      <th>x_earth</th>\n",
       "      <td>147000000000.0 meter</td>\n",
       "    </tr>\n",
       "    <tr>\n",
       "      <th>y_earth</th>\n",
       "      <td>0 meter</td>\n",
       "    </tr>\n",
       "    <tr>\n",
       "      <th>vx_earth</th>\n",
       "      <td>0.0 meter / second</td>\n",
       "    </tr>\n",
       "    <tr>\n",
       "      <th>vy_earth</th>\n",
       "      <td>-30330.0 meter / second</td>\n",
       "    </tr>\n",
       "    <tr>\n",
       "      <th>x_asteroid</th>\n",
       "      <td>145000000000.0 meter</td>\n",
       "    </tr>\n",
       "    <tr>\n",
       "      <th>y_asteroid</th>\n",
       "      <td>0 meter</td>\n",
       "    </tr>\n",
       "    <tr>\n",
       "      <th>vx_asteroid</th>\n",
       "      <td>-15870.0 meter / second</td>\n",
       "    </tr>\n",
       "    <tr>\n",
       "      <th>vy_asteroid</th>\n",
       "      <td>0.0 meter / second</td>\n",
       "    </tr>\n",
       "  </tbody>\n",
       "</table>\n",
       "</div>"
      ],
      "text/plain": [
       "x_earth           147000000000.0 meter\n",
       "y_earth                        0 meter\n",
       "vx_earth            0.0 meter / second\n",
       "vy_earth       -30330.0 meter / second\n",
       "x_asteroid        145000000000.0 meter\n",
       "y_asteroid                     0 meter\n",
       "vx_asteroid    -15870.0 meter / second\n",
       "vy_asteroid         0.0 meter / second\n",
       "dtype: object"
      ]
     },
     "execution_count": 3,
     "metadata": {},
     "output_type": "execute_result"
    }
   ],
   "source": [
    "# And an inition condition (with everything in SI units)\n",
    "\n",
    "r_0 = 147e9 * m\n",
    "\n",
    "init = State(x_earth=r_0,\n",
    "             y_earth=0 * m,\n",
    "             vx_earth=0 * m / s,\n",
    "             vy_earth=-30330 * m / s,\n",
    "             x_asteroid=145e9 * m,\n",
    "             y_asteroid=0 * m,\n",
    "             vx_asteroid = -15.87e3 * m / s,\n",
    "             vy_asteroid = 0 * m / s)"
   ]
  },
  {
   "cell_type": "code",
   "execution_count": 4,
   "metadata": {},
   "outputs": [
    {
     "data": {
      "text/html": [
       "<div>\n",
       "<style scoped>\n",
       "    .dataframe tbody tr th:only-of-type {\n",
       "        vertical-align: middle;\n",
       "    }\n",
       "\n",
       "    .dataframe tbody tr th {\n",
       "        vertical-align: top;\n",
       "    }\n",
       "\n",
       "    .dataframe thead th {\n",
       "        text-align: right;\n",
       "    }\n",
       "</style>\n",
       "<table border=\"1\" class=\"dataframe\">\n",
       "  <thead>\n",
       "    <tr style=\"text-align: right;\">\n",
       "      <th></th>\n",
       "      <th>values</th>\n",
       "    </tr>\n",
       "  </thead>\n",
       "  <tbody>\n",
       "    <tr>\n",
       "      <th>init</th>\n",
       "      <td>x_earth           147000000000.0 meter\n",
       "y_earth...</td>\n",
       "    </tr>\n",
       "    <tr>\n",
       "      <th>G</th>\n",
       "      <td>6.674e-11 meter ** 2 * newton / kilogram ** 2</td>\n",
       "    </tr>\n",
       "    <tr>\n",
       "      <th>m_sun</th>\n",
       "      <td>1.989e+30 kilogram</td>\n",
       "    </tr>\n",
       "    <tr>\n",
       "      <th>m_earth</th>\n",
       "      <td>5.972e+24 kilogram</td>\n",
       "    </tr>\n",
       "    <tr>\n",
       "      <th>m_asteroid</th>\n",
       "      <td>3200000000.0 kilogram</td>\n",
       "    </tr>\n",
       "    <tr>\n",
       "      <th>r_final</th>\n",
       "      <td>701879000.0 meter</td>\n",
       "    </tr>\n",
       "    <tr>\n",
       "      <th>t_0</th>\n",
       "      <td>0 second</td>\n",
       "    </tr>\n",
       "    <tr>\n",
       "      <th>t_end</th>\n",
       "      <td>1 year</td>\n",
       "    </tr>\n",
       "  </tbody>\n",
       "</table>\n",
       "</div>"
      ],
      "text/plain": [
       "init          x_earth           147000000000.0 meter\n",
       "y_earth...\n",
       "G                 6.674e-11 meter ** 2 * newton / kilogram ** 2\n",
       "m_sun                                        1.989e+30 kilogram\n",
       "m_earth                                      5.972e+24 kilogram\n",
       "m_asteroid                                3200000000.0 kilogram\n",
       "r_final                                       701879000.0 meter\n",
       "t_0                                                    0 second\n",
       "t_end                                                    1 year\n",
       "dtype: object"
      ]
     },
     "execution_count": 4,
     "metadata": {},
     "output_type": "execute_result"
    }
   ],
   "source": [
    "# Making a system object\n",
    "\n",
    "r_earth = 6.371e6 * m\n",
    "r_sun = 695.508e6 * m\n",
    "\n",
    "system = System(init=init,\n",
    "                G=6.674e-11 * N / kg**2 * m**2,\n",
    "                m_sun=1.989e30 * kg,\n",
    "                m_earth=5.972e24 * kg,\n",
    "                m_asteroid=3.2e9 * kg,\n",
    "                r_final=r_sun + r_earth,\n",
    "                t_0=0 * s,\n",
    "                t_end=1 * UNITS.year)"
   ]
  },
  {
   "cell_type": "code",
   "execution_count": 5,
   "metadata": {},
   "outputs": [],
   "source": [
    "# Here's a function that computes the force of gravity\n",
    "\n",
    "def universal_gravitation(state, system):\n",
    "    \"\"\"Computes gravitational force.\n",
    "    \n",
    "    state: State object with distance r\n",
    "    system: System object with m1, m2, and G\n",
    "    \"\"\"\n",
    "    x_earth, y_earth, vx_earth, vy_earth, x_asteroid, y_asteroid, vx_asteroid, vy_asteroid = state\n",
    "    unpack(system)\n",
    "    \n",
    "    displacement = Vector(x_earth, y_earth)\n",
    "    \n",
    "    force = G * m_sun * m_earth / displacement.mag**2\n",
    "\n",
    "    return displacement.hat() * force "
   ]
  },
  {
   "cell_type": "code",
   "execution_count": 6,
   "metadata": {},
   "outputs": [
    {
     "data": {
      "text/html": [
       "\\[\\begin{pmatrix}3.6686485997501037e+22 & 0.0\\end{pmatrix} newton\\]"
      ],
      "text/latex": [
       "$\\begin{pmatrix}3.6686485997501037e+22 & 0.0\\end{pmatrix}\\ \\mathrm{newton}$"
      ],
      "text/plain": [
       "<Quantity([3.6686486e+22 0.0000000e+00], 'newton')>"
      ]
     },
     "execution_count": 6,
     "metadata": {},
     "output_type": "execute_result"
    }
   ],
   "source": [
    "universal_gravitation(init, system)"
   ]
  },
  {
   "cell_type": "code",
   "execution_count": 7,
   "metadata": {},
   "outputs": [],
   "source": [
    "def force_on_asteroid(state, system):\n",
    "    x_earth, y_earth, vx_earth, vy_earth, x_asteroid, y_asteroid, vx_asteroid, vy_asteroid = state\n",
    "    unpack(system)\n",
    "    \n",
    "    displacement_s_e = Vector(x_earth, y_earth)\n",
    "    displacement_s_a = Vector(x_asteroid, y_asteroid)\n",
    "    \n",
    "    # Get distance between earth and asteroid\n",
    "    displacement_e_a = (displacement_s_e - displacement_s_a)\n",
    "    \n",
    "    force_sun = displacement_s_a.hat() * (G * m_sun * m_asteroid / displacement_s_a.mag**2)\n",
    "    force_earth = displacement_e_a.hat() * (G * m_earth * m_asteroid / displacement_e_a.mag**2)\n",
    "    \n",
    "    return force_sun + force_earth"
   ]
  },
  {
   "cell_type": "code",
   "execution_count": 8,
   "metadata": {},
   "outputs": [],
   "source": [
    "# The slope function\n",
    "\n",
    "def slope_func(state, t, system):\n",
    "    x_earth, y_earth, vx_earth, vy_earth, x_asteroid, y_asteroid, vx_asteroid, vy_asteroid = state\n",
    "    unpack(system)    \n",
    "\n",
    "    force_earth = -universal_gravitation(state, system)\n",
    "    \n",
    "    dvxdt_earth = force_earth.x / m_earth\n",
    "    dvydt_earth = force_earth.y / m_earth\n",
    "    \n",
    "    force_asteroid = -force_on_asteroid(state, system)\n",
    "    \n",
    "    dvxdt_asteroid = force_asteroid.x / m_asteroid\n",
    "    dvydt_asteroid = force_asteroid.y / m_asteroid\n",
    "    \n",
    "    return vx_earth, vy_earth, dvxdt_earth, dvydt_earth, vx_asteroid, vy_asteroid, dvxdt_asteroid, dvydt_asteroid "
   ]
  },
  {
   "cell_type": "code",
   "execution_count": 9,
   "metadata": {},
   "outputs": [
    {
     "data": {
      "text/plain": [
       "(<Quantity(0.0, 'meter / second')>,\n",
       " <Quantity(-30330.0, 'meter / second')>,\n",
       " <Quantity(-0.006143082049146188, 'newton / kilogram')>,\n",
       " <Quantity(-0.0, 'newton / kilogram')>,\n",
       " <Quantity(-15870.0, 'meter / second')>,\n",
       " <Quantity(0.0, 'meter / second')>,\n",
       " <Quantity(-0.006413357921070153, 'newton / kilogram')>,\n",
       " <Quantity(-0.0, 'newton / kilogram')>)"
      ]
     },
     "execution_count": 9,
     "metadata": {},
     "output_type": "execute_result"
    }
   ],
   "source": [
    "# Always test the slope function!\n",
    "\n",
    "slope_func(init, 0, system)"
   ]
  },
  {
   "cell_type": "code",
   "execution_count": 10,
   "metadata": {},
   "outputs": [],
   "source": [
    "results, details = run_ode_solver(system, slope_func, max_step=20*UNITS.day)"
   ]
  },
  {
   "cell_type": "code",
   "execution_count": 11,
   "metadata": {},
   "outputs": [
    {
     "data": {
      "text/html": [
       "<div>\n",
       "<style scoped>\n",
       "    .dataframe tbody tr th:only-of-type {\n",
       "        vertical-align: middle;\n",
       "    }\n",
       "\n",
       "    .dataframe tbody tr th {\n",
       "        vertical-align: top;\n",
       "    }\n",
       "\n",
       "    .dataframe thead th {\n",
       "        text-align: right;\n",
       "    }\n",
       "</style>\n",
       "<table border=\"1\" class=\"dataframe\">\n",
       "  <thead>\n",
       "    <tr style=\"text-align: right;\">\n",
       "      <th></th>\n",
       "      <th>values</th>\n",
       "    </tr>\n",
       "  </thead>\n",
       "  <tbody>\n",
       "    <tr>\n",
       "      <th>sol</th>\n",
       "      <td>None</td>\n",
       "    </tr>\n",
       "    <tr>\n",
       "      <th>t_events</th>\n",
       "      <td>[]</td>\n",
       "    </tr>\n",
       "    <tr>\n",
       "      <th>nfev</th>\n",
       "      <td>2864</td>\n",
       "    </tr>\n",
       "    <tr>\n",
       "      <th>njev</th>\n",
       "      <td>0</td>\n",
       "    </tr>\n",
       "    <tr>\n",
       "      <th>nlu</th>\n",
       "      <td>0</td>\n",
       "    </tr>\n",
       "    <tr>\n",
       "      <th>status</th>\n",
       "      <td>0</td>\n",
       "    </tr>\n",
       "    <tr>\n",
       "      <th>message</th>\n",
       "      <td>The solver successfully reached the end of the...</td>\n",
       "    </tr>\n",
       "    <tr>\n",
       "      <th>success</th>\n",
       "      <td>True</td>\n",
       "    </tr>\n",
       "  </tbody>\n",
       "</table>\n",
       "</div>"
      ],
      "text/plain": [
       "sol                                                      None\n",
       "t_events                                                   []\n",
       "nfev                                                     2864\n",
       "njev                                                        0\n",
       "nlu                                                         0\n",
       "status                                                      0\n",
       "message     The solver successfully reached the end of the...\n",
       "success                                                  True\n",
       "dtype: object"
      ]
     },
     "execution_count": 11,
     "metadata": {},
     "output_type": "execute_result"
    }
   ],
   "source": [
    "details"
   ]
  },
  {
   "cell_type": "code",
   "execution_count": 12,
   "metadata": {},
   "outputs": [
    {
     "data": {
      "text/html": [
       "<div>\n",
       "<style scoped>\n",
       "    .dataframe tbody tr th:only-of-type {\n",
       "        vertical-align: middle;\n",
       "    }\n",
       "\n",
       "    .dataframe tbody tr th {\n",
       "        vertical-align: top;\n",
       "    }\n",
       "\n",
       "    .dataframe thead th {\n",
       "        text-align: right;\n",
       "    }\n",
       "</style>\n",
       "<table border=\"1\" class=\"dataframe\">\n",
       "  <thead>\n",
       "    <tr style=\"text-align: right;\">\n",
       "      <th></th>\n",
       "      <th>x_earth</th>\n",
       "      <th>y_earth</th>\n",
       "      <th>vx_earth</th>\n",
       "      <th>vy_earth</th>\n",
       "      <th>x_asteroid</th>\n",
       "      <th>y_asteroid</th>\n",
       "      <th>vx_asteroid</th>\n",
       "      <th>vy_asteroid</th>\n",
       "    </tr>\n",
       "  </thead>\n",
       "  <tbody>\n",
       "    <tr>\n",
       "      <th>2.552575e+07</th>\n",
       "      <td>4.754556e+10</td>\n",
       "      <td>1.410539e+11</td>\n",
       "      <td>28215.000434</td>\n",
       "      <td>-10066.595015</td>\n",
       "      <td>5.797877e+14</td>\n",
       "      <td>-7.755583e+13</td>\n",
       "      <td>2.641987e+07</td>\n",
       "      <td>-3.534079e+06</td>\n",
       "    </tr>\n",
       "    <tr>\n",
       "      <th>2.725375e+07</th>\n",
       "      <td>9.247644e+10</td>\n",
       "      <td>1.155671e+11</td>\n",
       "      <td>23247.959523</td>\n",
       "      <td>-19158.924901</td>\n",
       "      <td>6.254412e+14</td>\n",
       "      <td>-8.366272e+13</td>\n",
       "      <td>2.641987e+07</td>\n",
       "      <td>-3.534079e+06</td>\n",
       "    </tr>\n",
       "    <tr>\n",
       "      <th>2.898175e+07</th>\n",
       "      <td>1.262088e+11</td>\n",
       "      <td>7.611104e+10</td>\n",
       "      <td>15376.272545</td>\n",
       "      <td>-26053.142983</td>\n",
       "      <td>6.710948e+14</td>\n",
       "      <td>-8.976961e+13</td>\n",
       "      <td>2.641987e+07</td>\n",
       "      <td>-3.534079e+06</td>\n",
       "    </tr>\n",
       "    <tr>\n",
       "      <th>3.070975e+07</th>\n",
       "      <td>1.444768e+11</td>\n",
       "      <td>2.734162e+10</td>\n",
       "      <td>5536.493981</td>\n",
       "      <td>-29811.406923</td>\n",
       "      <td>7.167483e+14</td>\n",
       "      <td>-9.587649e+13</td>\n",
       "      <td>2.641987e+07</td>\n",
       "      <td>-3.534079e+06</td>\n",
       "    </tr>\n",
       "    <tr>\n",
       "      <th>3.155693e+07</th>\n",
       "      <td>1.469833e+11</td>\n",
       "      <td>1.803356e+09</td>\n",
       "      <td>365.407105</td>\n",
       "      <td>-30328.425354</td>\n",
       "      <td>7.391306e+14</td>\n",
       "      <td>-9.887047e+13</td>\n",
       "      <td>2.641987e+07</td>\n",
       "      <td>-3.534079e+06</td>\n",
       "    </tr>\n",
       "  </tbody>\n",
       "</table>\n",
       "</div>"
      ],
      "text/plain": [
       "                   x_earth       y_earth      vx_earth      vy_earth  \\\n",
       "2.552575e+07  4.754556e+10  1.410539e+11  28215.000434 -10066.595015   \n",
       "2.725375e+07  9.247644e+10  1.155671e+11  23247.959523 -19158.924901   \n",
       "2.898175e+07  1.262088e+11  7.611104e+10  15376.272545 -26053.142983   \n",
       "3.070975e+07  1.444768e+11  2.734162e+10   5536.493981 -29811.406923   \n",
       "3.155693e+07  1.469833e+11  1.803356e+09    365.407105 -30328.425354   \n",
       "\n",
       "                x_asteroid    y_asteroid   vx_asteroid   vy_asteroid  \n",
       "2.552575e+07  5.797877e+14 -7.755583e+13  2.641987e+07 -3.534079e+06  \n",
       "2.725375e+07  6.254412e+14 -8.366272e+13  2.641987e+07 -3.534079e+06  \n",
       "2.898175e+07  6.710948e+14 -8.976961e+13  2.641987e+07 -3.534079e+06  \n",
       "3.070975e+07  7.167483e+14 -9.587649e+13  2.641987e+07 -3.534079e+06  \n",
       "3.155693e+07  7.391306e+14 -9.887047e+13  2.641987e+07 -3.534079e+06  "
      ]
     },
     "execution_count": 12,
     "metadata": {},
     "output_type": "execute_result"
    }
   ],
   "source": [
    "results.tail()"
   ]
  },
  {
   "cell_type": "code",
   "execution_count": 13,
   "metadata": {},
   "outputs": [],
   "source": [
    "# Scaling the time steps to days\n",
    "\n",
    "results.index /= 60 * 60 * 24"
   ]
  },
  {
   "cell_type": "code",
   "execution_count": 14,
   "metadata": {},
   "outputs": [],
   "source": [
    "# Scaling the distance to million km\n",
    "\n",
    "x_earth = results.x_earth / 1e9;\n",
    "y_earth = results.y_earth / 1e9;"
   ]
  },
  {
   "cell_type": "code",
   "execution_count": 15,
   "metadata": {},
   "outputs": [
    {
     "data": {
      "image/png": "[encoded data removed]",
      "text/plain": [
       "<Figure size 432x288 with 1 Axes>"
      ]
     },
     "metadata": {},
     "output_type": "display_data"
    }
   ],
   "source": [
    "plot(x_earth, label='x')\n",
    "plot(y_earth, label='y')\n",
    "\n",
    "decorate(xlabel='Time (day)',\n",
    "         ylabel='Distance from sun (million km)')"
   ]
  },
  {
   "cell_type": "code",
   "execution_count": 21,
   "metadata": {},
   "outputs": [],
   "source": [
    "#Scaling the distance to million km\n",
    "\n",
    "x_asteroid = results.x_asteroid / 1e9;\n",
    "y_asteroid = results.y_asteroid / 1e9;"
   ]
  },
  {
   "cell_type": "code",
   "execution_count": 22,
   "metadata": {},
   "outputs": [
    {
     "data": {
      "image/png": "[encoded data removed]",
      "text/plain": [
       "<Figure size 432x288 with 1 Axes>"
      ]
     },
     "metadata": {},
     "output_type": "display_data"
    }
   ],
   "source": [
    "plot(x_asteroid, label='x')\n",
    "plot(y_asteroid, label='y')\n",
    "\n",
    "decorate(xlabel='Time (day)',\n",
    "         ylabel='Distance from sun (million km)')"
   ]
  },
  {
   "cell_type": "code",
   "execution_count": 23,
   "metadata": {},
   "outputs": [
    {
     "data": {
      "text/plain": [
       "[<matplotlib.lines.Line2D at 0x22bba39ab00>]"
      ]
     },
     "execution_count": 23,
     "metadata": {},
     "output_type": "execute_result"
    },
    {
     "data": {
      "image/png": "[encoded data removed]",
      "text/plain": [
       "<Figure size 432x288 with 1 Axes>"
      ]
     },
     "metadata": {},
     "output_type": "display_data"
    }
   ],
   "source": [
    "# And plotting\n",
    "\n",
    "plot(x_earth, y_earth, label='earth')\n",
    "plot(x_asteroid, y_asteroid, label='asteroid')\n",
    "\n",
    "# # Plot sun as a circle with realistic radius\n",
    "# ax = plt.gca()\n",
    "# circle = Circle((0,0), radius=.695, color='orange')\n",
    "# elements = [circle]\n",
    "# ax.add_patch(circle)\n",
    "\n",
    "# decorate(xlabel='x (million km)',\n",
    "#          ylabel='y (million km)',\n",
    "#          loc='upper center')\n",
    "\n",
    "# # Plot with equal aspect ratio\n",
    "# ax.set_aspect('equal')"
   ]
  },
  {
   "cell_type": "code",
   "execution_count": null,
   "metadata": {},
   "outputs": [],
   "source": []
  },
  {
   "cell_type": "code",
   "execution_count": null,
   "metadata": {},
   "outputs": [],
   "source": []
  }
 ],
 "metadata": {
  "kernelspec": {
   "display_name": "Python 3",
   "language": "python",
   "name": "python3"
  },
  "language_info": {
   "codemirror_mode": {
    "name": "ipython",
    "version": 3
   },
   "file_extension": ".py",
   "mimetype": "text/x-python",
   "name": "python",
   "nbconvert_exporter": "python",
   "pygments_lexer": "ipython3",
   "version": "3.6.5"
  }
 },
 "nbformat": 4,
 "nbformat_minor": 2
}
