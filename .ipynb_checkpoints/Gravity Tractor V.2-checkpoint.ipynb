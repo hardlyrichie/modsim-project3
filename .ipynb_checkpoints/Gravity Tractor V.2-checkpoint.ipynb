{
 "cells": [
  {
   "cell_type": "markdown",
   "metadata": {},
   "source": [
    "# Modeling and Simulation in Python\n",
    "\n",
    "Richard Gao\n"
   ]
  },
  {
   "cell_type": "code",
   "execution_count": 311,
   "metadata": {},
   "outputs": [],
   "source": [
    "# Configure Jupyter so figures appear in the notebook\n",
    "%matplotlib inline\n",
    "\n",
    "# Configure Jupyter to display the assigned value after an assignment\n",
    "%config InteractiveShell.ast_node_interactivity='last_expr_or_assign'\n",
    "\n",
    "# import functions from the modsim.py module\n",
    "from modsim import *\n",
    "from matplotlib import patches\n",
    "import math"
   ]
  },
  {
   "cell_type": "markdown",
   "metadata": {},
   "source": [
    "## Asteroid Data \n",
    "\n",
    "https://cneos.jpl.nasa.gov/sentry/details.html#?des=410777\n",
    "\n",
    "We are simulating a real life asteroid that has relatively high possiblity of hitting earth if any."
   ]
  },
  {
   "cell_type": "markdown",
   "metadata": {},
   "source": [
    "## Assumptions\n",
    "\n",
    "Rocket has enough ionic fuel to keep from crashing into the asteroid indefinitely.\n",
    "Spaceship is able to constantly apply a 5.4N force on the asteroid.\n",
    "Assume that the tractor is applying an average force in one direction. We are abstracting the 3D motion to 2D.\n",
    "\n",
    "Asteroid is orbiting around the earth and sun\n"
   ]
  },
  {
   "cell_type": "code",
   "execution_count": 312,
   "metadata": {},
   "outputs": [
    {
     "data": {
      "text/html": [
       "meter"
      ],
      "text/latex": [
       "$\\mathrm{meter}$"
      ],
      "text/plain": [
       "<Unit('meter')>"
      ]
     },
     "execution_count": 312,
     "metadata": {},
     "output_type": "execute_result"
    }
   ],
   "source": [
    "# Here are the units we'll need\n",
    "\n",
    "s = UNITS.second\n",
    "N = UNITS.newton\n",
    "kg = UNITS.kilogram\n",
    "m = UNITS.meter"
   ]
  },
  {
   "cell_type": "code",
   "execution_count": 313,
   "metadata": {},
   "outputs": [
    {
     "data": {
      "text/html": [
       "<div>\n",
       "<style scoped>\n",
       "    .dataframe tbody tr th:only-of-type {\n",
       "        vertical-align: middle;\n",
       "    }\n",
       "\n",
       "    .dataframe tbody tr th {\n",
       "        vertical-align: top;\n",
       "    }\n",
       "\n",
       "    .dataframe thead th {\n",
       "        text-align: right;\n",
       "    }\n",
       "</style>\n",
       "<table border=\"1\" class=\"dataframe\">\n",
       "  <thead>\n",
       "    <tr style=\"text-align: right;\">\n",
       "      <th></th>\n",
       "      <th>values</th>\n",
       "    </tr>\n",
       "  </thead>\n",
       "  <tbody>\n",
       "    <tr>\n",
       "      <th>x_earth</th>\n",
       "      <td>147000000000.0 meter</td>\n",
       "    </tr>\n",
       "    <tr>\n",
       "      <th>y_earth</th>\n",
       "      <td>0 meter</td>\n",
       "    </tr>\n",
       "    <tr>\n",
       "      <th>vx_earth</th>\n",
       "      <td>0.0 meter / second</td>\n",
       "    </tr>\n",
       "    <tr>\n",
       "      <th>vy_earth</th>\n",
       "      <td>-30330.0 meter / second</td>\n",
       "    </tr>\n",
       "    <tr>\n",
       "      <th>x_asteroid</th>\n",
       "      <td>294000000000.0 meter</td>\n",
       "    </tr>\n",
       "    <tr>\n",
       "      <th>y_asteroid</th>\n",
       "      <td>0 meter</td>\n",
       "    </tr>\n",
       "    <tr>\n",
       "      <th>vx_asteroid</th>\n",
       "      <td>0.0 meter / second</td>\n",
       "    </tr>\n",
       "    <tr>\n",
       "      <th>vy_asteroid</th>\n",
       "      <td>15870.0 meter / second</td>\n",
       "    </tr>\n",
       "  </tbody>\n",
       "</table>\n",
       "</div>"
      ],
      "text/plain": [
       "x_earth           147000000000.0 meter\n",
       "y_earth                        0 meter\n",
       "vx_earth            0.0 meter / second\n",
       "vy_earth       -30330.0 meter / second\n",
       "x_asteroid        294000000000.0 meter\n",
       "y_asteroid                     0 meter\n",
       "vx_asteroid         0.0 meter / second\n",
       "vy_asteroid     15870.0 meter / second\n",
       "dtype: object"
      ]
     },
     "execution_count": 313,
     "metadata": {},
     "output_type": "execute_result"
    }
   ],
   "source": [
    "# And an inition condition (with everything in SI units)\n",
    "\n",
    "r_0 = 147e9 * m\n",
    "xinit_asteroid = 147e9 * 2 * m\n",
    "yinit_asteroid = 0 * m\n",
    "\n",
    "init = State(x_earth=r_0,\n",
    "             y_earth=0 * m,\n",
    "             vx_earth=0 * m / s,\n",
    "             vy_earth=-30330 * m / s,\n",
    "             x_asteroid=xinit_asteroid,\n",
    "             y_asteroid=yinit_asteroid,\n",
    "             vx_asteroid=0 * m / s,\n",
    "             vy_asteroid=15.87e3 * m / s)"
   ]
  },
  {
   "cell_type": "code",
   "execution_count": 342,
   "metadata": {},
   "outputs": [
    {
     "data": {
      "text/html": [
       "<div>\n",
       "<style scoped>\n",
       "    .dataframe tbody tr th:only-of-type {\n",
       "        vertical-align: middle;\n",
       "    }\n",
       "\n",
       "    .dataframe tbody tr th {\n",
       "        vertical-align: top;\n",
       "    }\n",
       "\n",
       "    .dataframe thead th {\n",
       "        text-align: right;\n",
       "    }\n",
       "</style>\n",
       "<table border=\"1\" class=\"dataframe\">\n",
       "  <thead>\n",
       "    <tr style=\"text-align: right;\">\n",
       "      <th></th>\n",
       "      <th>values</th>\n",
       "    </tr>\n",
       "  </thead>\n",
       "  <tbody>\n",
       "    <tr>\n",
       "      <th>init</th>\n",
       "      <td>x_earth           147000000000.0 meter\n",
       "y_earth...</td>\n",
       "    </tr>\n",
       "    <tr>\n",
       "      <th>G</th>\n",
       "      <td>6.674e-11 meter ** 2 * newton / kilogram ** 2</td>\n",
       "    </tr>\n",
       "    <tr>\n",
       "      <th>m_sun</th>\n",
       "      <td>1.989e+30 kilogram</td>\n",
       "    </tr>\n",
       "    <tr>\n",
       "      <th>m_earth</th>\n",
       "      <td>5.972e+24 kilogram</td>\n",
       "    </tr>\n",
       "    <tr>\n",
       "      <th>m_asteroid</th>\n",
       "      <td>3200000000.0 kilogram</td>\n",
       "    </tr>\n",
       "    <tr>\n",
       "      <th>r_earth</th>\n",
       "      <td>6371000.0 meter</td>\n",
       "    </tr>\n",
       "    <tr>\n",
       "      <th>r_asteroid</th>\n",
       "      <td>236.0 meter</td>\n",
       "    </tr>\n",
       "    <tr>\n",
       "      <th>t_0</th>\n",
       "      <td>0 second</td>\n",
       "    </tr>\n",
       "    <tr>\n",
       "      <th>t_end</th>\n",
       "      <td>1.2499999999999996 year</td>\n",
       "    </tr>\n",
       "  </tbody>\n",
       "</table>\n",
       "</div>"
      ],
      "text/plain": [
       "init          x_earth           147000000000.0 meter\n",
       "y_earth...\n",
       "G                 6.674e-11 meter ** 2 * newton / kilogram ** 2\n",
       "m_sun                                        1.989e+30 kilogram\n",
       "m_earth                                      5.972e+24 kilogram\n",
       "m_asteroid                                3200000000.0 kilogram\n",
       "r_earth                                         6371000.0 meter\n",
       "r_asteroid                                          236.0 meter\n",
       "t_0                                                    0 second\n",
       "t_end                                   1.2499999999999996 year\n",
       "dtype: object"
      ]
     },
     "execution_count": 342,
     "metadata": {},
     "output_type": "execute_result"
    }
   ],
   "source": [
    "# Making a system object\n",
    "\n",
    "system = System(init=init,\n",
    "                G=6.674e-11 * N / kg**2 * m**2,\n",
    "                m_sun=1.989e30 * kg,\n",
    "                m_earth=5.972e24 * kg,\n",
    "                m_asteroid=3.2e9 * kg,\n",
    "                r_earth=6.371e6 * m,\n",
    "                r_asteroid=0.472e3 / 2 * m,\n",
    "                t_0=0 * s,\n",
    "                t_end=(456.5527484765624 * UNITS.day).to(UNITS.year))"
   ]
  },
  {
   "cell_type": "code",
   "execution_count": 343,
   "metadata": {},
   "outputs": [],
   "source": [
    "# Here's a function that computes the force of gravity\n",
    "\n",
    "def universal_gravitation(state, system):\n",
    "    \"\"\"Computes gravitational force.\n",
    "    \n",
    "    state: State object with distance r\n",
    "    system: System object with m1, m2, and G\n",
    "    \"\"\"\n",
    "    x_earth, y_earth, vx_earth, vy_earth, x_asteroid, y_asteroid, vx_asteroid, vy_asteroid = state\n",
    "    unpack(system)\n",
    "    \n",
    "    displacement = Vector(x_earth, y_earth)\n",
    "    \n",
    "    force = G * m_sun * m_earth / displacement.mag**2\n",
    "\n",
    "    return displacement.hat() * force "
   ]
  },
  {
   "cell_type": "code",
   "execution_count": 344,
   "metadata": {},
   "outputs": [
    {
     "data": {
      "text/html": [
       "\\[\\begin{pmatrix}3.6686485997501037e+22 & 0.0\\end{pmatrix} newton\\]"
      ],
      "text/latex": [
       "$\\begin{pmatrix}3.6686485997501037e+22 & 0.0\\end{pmatrix}\\ \\mathrm{newton}$"
      ],
      "text/plain": [
       "<Quantity([3.6686486e+22 0.0000000e+00], 'newton')>"
      ]
     },
     "execution_count": 344,
     "metadata": {},
     "output_type": "execute_result"
    }
   ],
   "source": [
    "universal_gravitation(init, system)"
   ]
  },
  {
   "cell_type": "code",
   "execution_count": 345,
   "metadata": {},
   "outputs": [],
   "source": [
    "def force_on_asteroid(state, system):\n",
    "    x_earth, y_earth, vx_earth, vy_earth, x_asteroid, y_asteroid, vx_asteroid, vy_asteroid = state\n",
    "    unpack(system)\n",
    "    \n",
    "    displacement_s_e = Vector(x_earth, y_earth)\n",
    "    displacement_s_a = Vector(x_asteroid, y_asteroid)\n",
    "    \n",
    "    # Get distance between earth and asteroid\n",
    "    displacement_e_a = (displacement_s_e - displacement_s_a)\n",
    "    \n",
    "    force_sun = displacement_s_a.hat() * (G * m_sun * m_asteroid / displacement_s_a.mag**2)\n",
    "    force_earth = displacement_e_a.hat() * (G * m_earth * m_asteroid / displacement_e_a.mag**2)\n",
    "    \n",
    "    return force_sun + force_earth"
   ]
  },
  {
   "cell_type": "code",
   "execution_count": 346,
   "metadata": {},
   "outputs": [],
   "source": [
    "# The slope function\n",
    "\n",
    "def slope_func(state, t, system):\n",
    "    x_earth, y_earth, vx_earth, vy_earth, x_asteroid, y_asteroid, vx_asteroid, vy_asteroid = state\n",
    "    unpack(system)    \n",
    "\n",
    "    force_earth = -universal_gravitation(state, system)\n",
    "    \n",
    "    dvxdt_earth = force_earth.x / m_earth\n",
    "    dvydt_earth = force_earth.y / m_earth\n",
    "    \n",
    "    force_asteroid = -force_on_asteroid(state, system)\n",
    "    \n",
    "    dvxdt_asteroid = force_asteroid.x / m_asteroid\n",
    "    dvydt_asteroid = force_asteroid.y / m_asteroid\n",
    "    \n",
    "    return vx_earth, vy_earth, dvxdt_earth, dvydt_earth, vx_asteroid, vy_asteroid, dvxdt_asteroid, dvydt_asteroid "
   ]
  },
  {
   "cell_type": "code",
   "execution_count": 347,
   "metadata": {},
   "outputs": [
    {
     "data": {
      "text/plain": [
       "(<Quantity(0.0, 'meter / second')>,\n",
       " <Quantity(-30330.0, 'meter / second')>,\n",
       " <Quantity(-0.006143082049146188, 'newton / kilogram')>,\n",
       " <Quantity(-0.0, 'newton / kilogram')>,\n",
       " <Quantity(0.0, 'meter / second')>,\n",
       " <Quantity(15870.0, 'meter / second')>,\n",
       " <Quantity(-0.00153575206759776, 'newton / kilogram')>,\n",
       " <Quantity(-0.0, 'newton / kilogram')>)"
      ]
     },
     "execution_count": 347,
     "metadata": {},
     "output_type": "execute_result"
    }
   ],
   "source": [
    "# Always test the slope function!\n",
    "\n",
    "slope_func(init, 0, system)"
   ]
  },
  {
   "cell_type": "code",
   "execution_count": 348,
   "metadata": {},
   "outputs": [],
   "source": [
    "results, details = run_ode_solver(system, slope_func, max_step=20*UNITS.day)"
   ]
  },
  {
   "cell_type": "code",
   "execution_count": 349,
   "metadata": {},
   "outputs": [
    {
     "data": {
      "text/html": [
       "<div>\n",
       "<style scoped>\n",
       "    .dataframe tbody tr th:only-of-type {\n",
       "        vertical-align: middle;\n",
       "    }\n",
       "\n",
       "    .dataframe tbody tr th {\n",
       "        vertical-align: top;\n",
       "    }\n",
       "\n",
       "    .dataframe thead th {\n",
       "        text-align: right;\n",
       "    }\n",
       "</style>\n",
       "<table border=\"1\" class=\"dataframe\">\n",
       "  <thead>\n",
       "    <tr style=\"text-align: right;\">\n",
       "      <th></th>\n",
       "      <th>values</th>\n",
       "    </tr>\n",
       "  </thead>\n",
       "  <tbody>\n",
       "    <tr>\n",
       "      <th>sol</th>\n",
       "      <td>None</td>\n",
       "    </tr>\n",
       "    <tr>\n",
       "      <th>t_events</th>\n",
       "      <td>[]</td>\n",
       "    </tr>\n",
       "    <tr>\n",
       "      <th>nfev</th>\n",
       "      <td>224</td>\n",
       "    </tr>\n",
       "    <tr>\n",
       "      <th>njev</th>\n",
       "      <td>0</td>\n",
       "    </tr>\n",
       "    <tr>\n",
       "      <th>nlu</th>\n",
       "      <td>0</td>\n",
       "    </tr>\n",
       "    <tr>\n",
       "      <th>status</th>\n",
       "      <td>0</td>\n",
       "    </tr>\n",
       "    <tr>\n",
       "      <th>message</th>\n",
       "      <td>The solver successfully reached the end of the...</td>\n",
       "    </tr>\n",
       "    <tr>\n",
       "      <th>success</th>\n",
       "      <td>True</td>\n",
       "    </tr>\n",
       "  </tbody>\n",
       "</table>\n",
       "</div>"
      ],
      "text/plain": [
       "sol                                                      None\n",
       "t_events                                                   []\n",
       "nfev                                                      224\n",
       "njev                                                        0\n",
       "nlu                                                         0\n",
       "status                                                      0\n",
       "message     The solver successfully reached the end of the...\n",
       "success                                                  True\n",
       "dtype: object"
      ]
     },
     "execution_count": 349,
     "metadata": {},
     "output_type": "execute_result"
    }
   ],
   "source": [
    "details"
   ]
  },
  {
   "cell_type": "code",
   "execution_count": 350,
   "metadata": {},
   "outputs": [
    {
     "data": {
      "text/html": [
       "<div>\n",
       "<style scoped>\n",
       "    .dataframe tbody tr th:only-of-type {\n",
       "        vertical-align: middle;\n",
       "    }\n",
       "\n",
       "    .dataframe tbody tr th {\n",
       "        vertical-align: top;\n",
       "    }\n",
       "\n",
       "    .dataframe thead th {\n",
       "        text-align: right;\n",
       "    }\n",
       "</style>\n",
       "<table border=\"1\" class=\"dataframe\">\n",
       "  <thead>\n",
       "    <tr style=\"text-align: right;\">\n",
       "      <th></th>\n",
       "      <th>x_earth</th>\n",
       "      <th>y_earth</th>\n",
       "      <th>vx_earth</th>\n",
       "      <th>vy_earth</th>\n",
       "      <th>x_asteroid</th>\n",
       "      <th>y_asteroid</th>\n",
       "      <th>vx_asteroid</th>\n",
       "      <th>vy_asteroid</th>\n",
       "    </tr>\n",
       "  </thead>\n",
       "  <tbody>\n",
       "    <tr>\n",
       "      <th>3.348118e+07</th>\n",
       "      <td>1.364436e+11</td>\n",
       "      <td>-5.521165e+10</td>\n",
       "      <td>-11169.050574</td>\n",
       "      <td>-28156.268118</td>\n",
       "      <td>7.381420e+10</td>\n",
       "      <td>-1.821123e+11</td>\n",
       "      <td>26377.695440</td>\n",
       "      <td>-1878.311699</td>\n",
       "    </tr>\n",
       "    <tr>\n",
       "      <th>3.520918e+07</th>\n",
       "      <td>1.091708e+11</td>\n",
       "      <td>-9.948225e+10</td>\n",
       "      <td>-20055.255872</td>\n",
       "      <td>-22563.332409</td>\n",
       "      <td>1.173061e+11</td>\n",
       "      <td>-1.810268e+11</td>\n",
       "      <td>23886.205357</td>\n",
       "      <td>2907.011076</td>\n",
       "    </tr>\n",
       "    <tr>\n",
       "      <th>3.693718e+07</th>\n",
       "      <td>6.860080e+10</td>\n",
       "      <td>-1.316542e+11</td>\n",
       "      <td>-26405.710376</td>\n",
       "      <td>-14314.273738</td>\n",
       "      <td>1.562065e+11</td>\n",
       "      <td>-1.727396e+11</td>\n",
       "      <td>21111.928774</td>\n",
       "      <td>6518.206571</td>\n",
       "    </tr>\n",
       "    <tr>\n",
       "      <th>3.866518e+07</th>\n",
       "      <td>1.978959e+10</td>\n",
       "      <td>-1.480483e+11</td>\n",
       "      <td>-29512.890021</td>\n",
       "      <td>-4500.222398</td>\n",
       "      <td>1.902234e+11</td>\n",
       "      <td>-1.589954e+11</td>\n",
       "      <td>18255.231215</td>\n",
       "      <td>9265.734786</td>\n",
       "    </tr>\n",
       "    <tr>\n",
       "      <th>3.944616e+07</th>\n",
       "      <td>-3.405644e+09</td>\n",
       "      <td>-1.497589e+11</td>\n",
       "      <td>-29767.681200</td>\n",
       "      <td>121.550085</td>\n",
       "      <td>2.039753e+11</td>\n",
       "      <td>-1.513534e+11</td>\n",
       "      <td>16962.603444</td>\n",
       "      <td>10284.147927</td>\n",
       "    </tr>\n",
       "  </tbody>\n",
       "</table>\n",
       "</div>"
      ],
      "text/plain": [
       "                   x_earth       y_earth      vx_earth      vy_earth  \\\n",
       "3.348118e+07  1.364436e+11 -5.521165e+10 -11169.050574 -28156.268118   \n",
       "3.520918e+07  1.091708e+11 -9.948225e+10 -20055.255872 -22563.332409   \n",
       "3.693718e+07  6.860080e+10 -1.316542e+11 -26405.710376 -14314.273738   \n",
       "3.866518e+07  1.978959e+10 -1.480483e+11 -29512.890021  -4500.222398   \n",
       "3.944616e+07 -3.405644e+09 -1.497589e+11 -29767.681200    121.550085   \n",
       "\n",
       "                x_asteroid    y_asteroid   vx_asteroid   vy_asteroid  \n",
       "3.348118e+07  7.381420e+10 -1.821123e+11  26377.695440  -1878.311699  \n",
       "3.520918e+07  1.173061e+11 -1.810268e+11  23886.205357   2907.011076  \n",
       "3.693718e+07  1.562065e+11 -1.727396e+11  21111.928774   6518.206571  \n",
       "3.866518e+07  1.902234e+11 -1.589954e+11  18255.231215   9265.734786  \n",
       "3.944616e+07  2.039753e+11 -1.513534e+11  16962.603444  10284.147927  "
      ]
     },
     "execution_count": 350,
     "metadata": {},
     "output_type": "execute_result"
    }
   ],
   "source": [
    "results.tail()"
   ]
  },
  {
   "cell_type": "code",
   "execution_count": 351,
   "metadata": {},
   "outputs": [],
   "source": [
    "# Scaling the time steps to days\n",
    "\n",
    "results.index /= 60 * 60 * 24"
   ]
  },
  {
   "cell_type": "code",
   "execution_count": 352,
   "metadata": {},
   "outputs": [],
   "source": [
    "# Scaling the distance to million km\n",
    "\n",
    "x_earth = results.x_earth / 1e9;\n",
    "y_earth = results.y_earth / 1e9;"
   ]
  },
  {
   "cell_type": "code",
   "execution_count": 353,
   "metadata": {},
   "outputs": [
    {
     "data": {
      "image/png": "[encoded data removed]",
      "text/plain": [
       "<Figure size 432x288 with 1 Axes>"
      ]
     },
     "metadata": {},
     "output_type": "display_data"
    }
   ],
   "source": [
    "plot(x_earth, label='x')\n",
    "plot(y_earth, label='y')\n",
    "\n",
    "decorate(xlabel='Time (day)',\n",
    "         ylabel='Distance from sun (million km)')"
   ]
  },
  {
   "cell_type": "code",
   "execution_count": 354,
   "metadata": {},
   "outputs": [],
   "source": [
    "#Scaling the distance to million km\n",
    "\n",
    "x_asteroid = results.x_asteroid / 1e9;\n",
    "y_asteroid = results.y_asteroid / 1e9;"
   ]
  },
  {
   "cell_type": "code",
   "execution_count": 355,
   "metadata": {},
   "outputs": [
    {
     "data": {
      "image/png": "[encoded data removed]",
      "text/plain": [
       "<Figure size 432x288 with 1 Axes>"
      ]
     },
     "metadata": {},
     "output_type": "display_data"
    }
   ],
   "source": [
    "plot(x_asteroid, label='x')\n",
    "plot(y_asteroid, label='y')\n",
    "\n",
    "decorate(xlabel='Time (day)',\n",
    "         ylabel='Distance from sun (million km)')"
   ]
  },
  {
   "cell_type": "code",
   "execution_count": 356,
   "metadata": {},
   "outputs": [
    {
     "data": {
      "image/png": "[encoded data removed]",
      "text/plain": [
       "<Figure size 432x288 with 1 Axes>"
      ]
     },
     "metadata": {},
     "output_type": "display_data"
    }
   ],
   "source": [
    "# And plotting\n",
    "\n",
    "plot(x_earth, y_earth, label='earth')\n",
    "plot(x_asteroid, y_asteroid, label='asteroid')\n",
    "\n",
    "# Plot sun as a circle with realistic radius\n",
    "ax = plt.gca()\n",
    "circle = patches.Circle((0,0), radius=.695, color='orange')\n",
    "elements = [circle]\n",
    "ax.add_patch(circle)\n",
    "\n",
    "decorate(xlabel='x (million km)',\n",
    "         ylabel='y (million km)',\n",
    "         loc='upper center')\n",
    "\n",
    "# Plot with equal aspect ratio\n",
    "ax.set_aspect('equal')"
   ]
  },
  {
   "cell_type": "markdown",
   "metadata": {},
   "source": [
    "## Introduce Event Function to see when asteroid hits"
   ]
  },
  {
   "cell_type": "code",
   "execution_count": 329,
   "metadata": {},
   "outputs": [],
   "source": [
    "def event_func(state, t, system):\n",
    "    x_earth, y_earth, vx_earth, vy_earth, x_asteroid, y_asteroid, vx_asteroid, vy_asteroid = state\n",
    "    unpack(system)\n",
    "#     print('Earth: (' + str(x_earth) + ', ' + str(y_earth) + ')', 'Asteroid: (' + str(x_asteroid) + ', ' + str(y_asteroid) + ')' )\n",
    "    result = 1\n",
    "    \n",
    "    \n",
    "#     if x_earth == x_asteroid and y_earth == y_asteroid:\n",
    "#         result = 0\n",
    "\n",
    "    # Test if asteroid hits earth with radius into account \n",
    "    if sqrt((x_earth - x_asteroid)**2 + (y_earth - y_asteroid)**2) < (r_earth + r_asteroid):\n",
    "        result = 0\n",
    "    \n",
    "    return result"
   ]
  },
  {
   "cell_type": "code",
   "execution_count": 330,
   "metadata": {},
   "outputs": [],
   "source": [
    "results, details = run_ode_solver(system, slope_func, max_step=20*UNITS.day, events=event_func)"
   ]
  },
  {
   "cell_type": "code",
   "execution_count": 331,
   "metadata": {},
   "outputs": [
    {
     "data": {
      "text/html": [
       "<div>\n",
       "<style scoped>\n",
       "    .dataframe tbody tr th:only-of-type {\n",
       "        vertical-align: middle;\n",
       "    }\n",
       "\n",
       "    .dataframe tbody tr th {\n",
       "        vertical-align: top;\n",
       "    }\n",
       "\n",
       "    .dataframe thead th {\n",
       "        text-align: right;\n",
       "    }\n",
       "</style>\n",
       "<table border=\"1\" class=\"dataframe\">\n",
       "  <thead>\n",
       "    <tr style=\"text-align: right;\">\n",
       "      <th></th>\n",
       "      <th>values</th>\n",
       "    </tr>\n",
       "  </thead>\n",
       "  <tbody>\n",
       "    <tr>\n",
       "      <th>sol</th>\n",
       "      <td>None</td>\n",
       "    </tr>\n",
       "    <tr>\n",
       "      <th>t_events</th>\n",
       "      <td>[[]]</td>\n",
       "    </tr>\n",
       "    <tr>\n",
       "      <th>nfev</th>\n",
       "      <td>224</td>\n",
       "    </tr>\n",
       "    <tr>\n",
       "      <th>njev</th>\n",
       "      <td>0</td>\n",
       "    </tr>\n",
       "    <tr>\n",
       "      <th>nlu</th>\n",
       "      <td>0</td>\n",
       "    </tr>\n",
       "    <tr>\n",
       "      <th>status</th>\n",
       "      <td>0</td>\n",
       "    </tr>\n",
       "    <tr>\n",
       "      <th>message</th>\n",
       "      <td>The solver successfully reached the end of the...</td>\n",
       "    </tr>\n",
       "    <tr>\n",
       "      <th>success</th>\n",
       "      <td>True</td>\n",
       "    </tr>\n",
       "  </tbody>\n",
       "</table>\n",
       "</div>"
      ],
      "text/plain": [
       "sol                                                      None\n",
       "t_events                                                 [[]]\n",
       "nfev                                                      224\n",
       "njev                                                        0\n",
       "nlu                                                         0\n",
       "status                                                      0\n",
       "message     The solver successfully reached the end of the...\n",
       "success                                                  True\n",
       "dtype: object"
      ]
     },
     "execution_count": 331,
     "metadata": {},
     "output_type": "execute_result"
    }
   ],
   "source": [
    "details"
   ]
  },
  {
   "cell_type": "code",
   "execution_count": 332,
   "metadata": {},
   "outputs": [],
   "source": [
    "x_asteroid = results.x_asteroid / 1e9;\n",
    "y_asteroid = results.y_asteroid / 1e9;"
   ]
  },
  {
   "cell_type": "code",
   "execution_count": 333,
   "metadata": {},
   "outputs": [
    {
     "data": {
      "image/png": "[encoded data removed]",
      "text/plain": [
       "<Figure size 432x288 with 1 Axes>"
      ]
     },
     "metadata": {},
     "output_type": "display_data"
    }
   ],
   "source": [
    "plot(x_asteroid, label='x')\n",
    "plot(y_asteroid, label='y')\n",
    "\n",
    "decorate(xlabel='Time (day)',\n",
    "         ylabel='Distance from sun (million km)')"
   ]
  },
  {
   "cell_type": "code",
   "execution_count": 334,
   "metadata": {},
   "outputs": [
    {
     "data": {
      "image/png": "[encoded data removed]",
      "text/plain": [
       "<Figure size 432x288 with 1 Axes>"
      ]
     },
     "metadata": {},
     "output_type": "display_data"
    }
   ],
   "source": [
    "# And plotting\n",
    "\n",
    "plot(x_earth, y_earth, label='earth')\n",
    "plot(x_asteroid, y_asteroid, label='asteroid')\n",
    "\n",
    "# Plot end points of earth and asteroid orbit\n",
    "plot(results.x_earth.values[-1] / 1e9, results.y_earth.values[-1] / 1e9, 'ob')\n",
    "plot(results.x_asteroid.values[-1] / 1e9, results.y_asteroid.values[-1] / 1e9, 'og')\n",
    "\n",
    "# Plot sun as a circle with realistic radius\n",
    "ax = plt.gca()\n",
    "\n",
    "# Plot realistic sun size\n",
    "# circle = patches.Circle((0,0), radius=.695, color='orange')\n",
    "\n",
    "circle = patches.Circle((0,0), radius=10, color='orange')\n",
    "elements = [circle]\n",
    "ax.add_patch(circle)\n",
    "\n",
    "decorate(xlabel='x (million km)',\n",
    "         ylabel='y (million km)',\n",
    "         loc='upper center')\n",
    "\n",
    "# Plot with equal aspect ratio\n",
    "ax.set_aspect('equal')"
   ]
  },
  {
   "cell_type": "code",
   "execution_count": 335,
   "metadata": {},
   "outputs": [
    {
     "data": {
      "text/html": [
       "39446157.468375 second"
      ],
      "text/latex": [
       "$39446157.468375\\ \\mathrm{second}$"
      ],
      "text/plain": [
       "<Quantity(39446157.468375, 'second')>"
      ]
     },
     "execution_count": 335,
     "metadata": {},
     "output_type": "execute_result"
    }
   ],
   "source": [
    "t_final = get_last_label(results) * s"
   ]
  },
  {
   "cell_type": "code",
   "execution_count": 336,
   "metadata": {},
   "outputs": [
    {
     "data": {
      "text/html": [
       "456.5527484765624 day"
      ],
      "text/latex": [
       "$456.5527484765624\\ \\mathrm{day}$"
      ],
      "text/plain": [
       "<Quantity(456.5527484765624, 'day')>"
      ]
     },
     "execution_count": 336,
     "metadata": {},
     "output_type": "execute_result"
    }
   ],
   "source": [
    "t_final.to(UNITS.day)"
   ]
  },
  {
   "cell_type": "code",
   "execution_count": null,
   "metadata": {},
   "outputs": [],
   "source": []
  },
  {
   "cell_type": "markdown",
   "metadata": {},
   "source": [
    "## Finding period"
   ]
  },
  {
   "cell_type": "code",
   "execution_count": 374,
   "metadata": {},
   "outputs": [],
   "source": [
    "def event_func(state, t, system):\n",
    "    x_earth, y_earth, vx_earth, vy_earth, x_asteroid, y_asteroid, vx_asteroid, vy_asteroid = state\n",
    "    \n",
    "    result = 1\n",
    "    if x_asteroid == xinit_asteroid and y_asteroid == yinit_asteroid:\n",
    "        result = 0\n",
    "    \n",
    "    return result"
   ]
  },
  {
   "cell_type": "code",
   "execution_count": 375,
   "metadata": {},
   "outputs": [],
   "source": [
    "results, details = run_ode_solver(system, slope_func, max_step=20*UNITS.day, events=event_func)"
   ]
  },
  {
   "cell_type": "code",
   "execution_count": 376,
   "metadata": {},
   "outputs": [
    {
     "data": {
      "text/html": [
       "<div>\n",
       "<style scoped>\n",
       "    .dataframe tbody tr th:only-of-type {\n",
       "        vertical-align: middle;\n",
       "    }\n",
       "\n",
       "    .dataframe tbody tr th {\n",
       "        vertical-align: top;\n",
       "    }\n",
       "\n",
       "    .dataframe thead th {\n",
       "        text-align: right;\n",
       "    }\n",
       "</style>\n",
       "<table border=\"1\" class=\"dataframe\">\n",
       "  <thead>\n",
       "    <tr style=\"text-align: right;\">\n",
       "      <th></th>\n",
       "      <th>values</th>\n",
       "    </tr>\n",
       "  </thead>\n",
       "  <tbody>\n",
       "    <tr>\n",
       "      <th>sol</th>\n",
       "      <td>None</td>\n",
       "    </tr>\n",
       "    <tr>\n",
       "      <th>t_events</th>\n",
       "      <td>[[0.0]]</td>\n",
       "    </tr>\n",
       "    <tr>\n",
       "      <th>nfev</th>\n",
       "      <td>8</td>\n",
       "    </tr>\n",
       "    <tr>\n",
       "      <th>njev</th>\n",
       "      <td>0</td>\n",
       "    </tr>\n",
       "    <tr>\n",
       "      <th>nlu</th>\n",
       "      <td>0</td>\n",
       "    </tr>\n",
       "    <tr>\n",
       "      <th>status</th>\n",
       "      <td>1</td>\n",
       "    </tr>\n",
       "    <tr>\n",
       "      <th>message</th>\n",
       "      <td>A termination event occurred.</td>\n",
       "    </tr>\n",
       "    <tr>\n",
       "      <th>success</th>\n",
       "      <td>True</td>\n",
       "    </tr>\n",
       "  </tbody>\n",
       "</table>\n",
       "</div>"
      ],
      "text/plain": [
       "sol                                  None\n",
       "t_events                          [[0.0]]\n",
       "nfev                                    8\n",
       "njev                                    0\n",
       "nlu                                     0\n",
       "status                                  1\n",
       "message     A termination event occurred.\n",
       "success                              True\n",
       "dtype: object"
      ]
     },
     "execution_count": 376,
     "metadata": {},
     "output_type": "execute_result"
    }
   ],
   "source": [
    "details"
   ]
  },
  {
   "cell_type": "code",
   "execution_count": 377,
   "metadata": {},
   "outputs": [
    {
     "data": {
      "text/html": [
       "<div>\n",
       "<style scoped>\n",
       "    .dataframe tbody tr th:only-of-type {\n",
       "        vertical-align: middle;\n",
       "    }\n",
       "\n",
       "    .dataframe tbody tr th {\n",
       "        vertical-align: top;\n",
       "    }\n",
       "\n",
       "    .dataframe thead th {\n",
       "        text-align: right;\n",
       "    }\n",
       "</style>\n",
       "<table border=\"1\" class=\"dataframe\">\n",
       "  <thead>\n",
       "    <tr style=\"text-align: right;\">\n",
       "      <th></th>\n",
       "      <th>x_earth</th>\n",
       "      <th>y_earth</th>\n",
       "      <th>vx_earth</th>\n",
       "      <th>vy_earth</th>\n",
       "      <th>x_asteroid</th>\n",
       "      <th>y_asteroid</th>\n",
       "      <th>vx_asteroid</th>\n",
       "      <th>vy_asteroid</th>\n",
       "    </tr>\n",
       "  </thead>\n",
       "  <tbody>\n",
       "    <tr>\n",
       "      <th>0.0</th>\n",
       "      <td>1.470000e+11</td>\n",
       "      <td>0.0</td>\n",
       "      <td>0.0</td>\n",
       "      <td>-30330.0</td>\n",
       "      <td>2.940000e+11</td>\n",
       "      <td>0.0</td>\n",
       "      <td>0.0</td>\n",
       "      <td>15870.0</td>\n",
       "    </tr>\n",
       "    <tr>\n",
       "      <th>0.0</th>\n",
       "      <td>1.470000e+11</td>\n",
       "      <td>0.0</td>\n",
       "      <td>0.0</td>\n",
       "      <td>-30330.0</td>\n",
       "      <td>2.940000e+11</td>\n",
       "      <td>0.0</td>\n",
       "      <td>0.0</td>\n",
       "      <td>15870.0</td>\n",
       "    </tr>\n",
       "  </tbody>\n",
       "</table>\n",
       "</div>"
      ],
      "text/plain": [
       "          x_earth  y_earth  vx_earth  vy_earth    x_asteroid  y_asteroid  \\\n",
       "0.0  1.470000e+11      0.0       0.0  -30330.0  2.940000e+11         0.0   \n",
       "0.0  1.470000e+11      0.0       0.0  -30330.0  2.940000e+11         0.0   \n",
       "\n",
       "     vx_asteroid  vy_asteroid  \n",
       "0.0          0.0      15870.0  \n",
       "0.0          0.0      15870.0  "
      ]
     },
     "execution_count": 377,
     "metadata": {},
     "output_type": "execute_result"
    }
   ],
   "source": [
    "results.tail()"
   ]
  },
  {
   "cell_type": "code",
   "execution_count": 378,
   "metadata": {},
   "outputs": [
    {
     "data": {
      "text/html": [
       "0.0 second"
      ],
      "text/latex": [
       "$0.0\\ \\mathrm{second}$"
      ],
      "text/plain": [
       "<Quantity(0.0, 'second')>"
      ]
     },
     "execution_count": 378,
     "metadata": {},
     "output_type": "execute_result"
    }
   ],
   "source": [
    "t_final = get_last_label(results) * s"
   ]
  },
  {
   "cell_type": "code",
   "execution_count": 379,
   "metadata": {},
   "outputs": [
    {
     "data": {
      "text/html": [
       "0.0 day"
      ],
      "text/latex": [
       "$0.0\\ \\mathrm{day}$"
      ],
      "text/plain": [
       "<Quantity(0.0, 'day')>"
      ]
     },
     "execution_count": 379,
     "metadata": {},
     "output_type": "execute_result"
    }
   ],
   "source": [
    "t_final.to(UNITS.day)"
   ]
  },
  {
   "cell_type": "code",
   "execution_count": 380,
   "metadata": {},
   "outputs": [],
   "source": [
    "x_asteroid = results.x_asteroid / 1e9;\n",
    "y_asteroid = results.y_asteroid / 1e9;"
   ]
  },
  {
   "cell_type": "code",
   "execution_count": 381,
   "metadata": {},
   "outputs": [
    {
     "data": {
      "image/png": "[encoded data removed]",
      "text/plain": [
       "<Figure size 432x288 with 1 Axes>"
      ]
     },
     "metadata": {},
     "output_type": "display_data"
    }
   ],
   "source": [
    "plot(x_asteroid, label='x')\n",
    "plot(y_asteroid, label='y')\n",
    "\n",
    "decorate(xlabel='Time (day)',\n",
    "         ylabel='Distance from sun (million km)')"
   ]
  },
  {
   "cell_type": "code",
   "execution_count": 382,
   "metadata": {},
   "outputs": [
    {
     "data": {
      "image/png": "[encoded data removed]",
      "text/plain": [
       "<Figure size 432x288 with 1 Axes>"
      ]
     },
     "metadata": {},
     "output_type": "display_data"
    }
   ],
   "source": [
    "# And plotting\n",
    "\n",
    "plot(x_earth, y_earth, label='earth')\n",
    "plot(x_asteroid, y_asteroid, label='asteroid')\n",
    "\n",
    "# Plot end points of earth and asteroid orbit\n",
    "plot(results.x_earth.values[-1] / 1e9, results.y_earth.values[-1] / 1e9, 'ob')\n",
    "plot(results.x_asteroid.values[-1] / 1e9, results.y_asteroid.values[-1] / 1e9, 'og')\n",
    "\n",
    "# Plot sun as a circle with realistic radius\n",
    "ax = plt.gca()\n",
    "\n",
    "# Plot realistic sun size\n",
    "# circle = patches.Circle((0,0), radius=.695, color='orange')\n",
    "\n",
    "circle = patches.Circle((0,0), radius=10, color='orange')\n",
    "elements = [circle]\n",
    "ax.add_patch(circle)\n",
    "\n",
    "decorate(xlabel='x (million km)',\n",
    "         ylabel='y (million km)',\n",
    "         loc='upper center')\n",
    "\n",
    "# Plot with equal aspect ratio\n",
    "ax.set_aspect('equal')"
   ]
  },
  {
   "cell_type": "code",
   "execution_count": null,
   "metadata": {},
   "outputs": [],
   "source": []
  }
 ],
 "metadata": {
  "kernelspec": {
   "display_name": "Python 3",
   "language": "python",
   "name": "python3"
  },
  "language_info": {
   "codemirror_mode": {
    "name": "ipython",
    "version": 3
   },
   "file_extension": ".py",
   "mimetype": "text/x-python",
   "name": "python",
   "nbconvert_exporter": "python",
   "pygments_lexer": "ipython3",
   "version": "3.6.5"
  }
 },
 "nbformat": 4,
 "nbformat_minor": 2
}
