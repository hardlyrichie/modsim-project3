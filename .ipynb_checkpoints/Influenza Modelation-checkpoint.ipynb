{
 "cells": [
  {
   "cell_type": "markdown",
   "metadata": {},
   "source": [
    "## Modeling and Simulation in Python\n",
    "\n",
    "Project 1\n",
    "\n",
    "Manu Patil & Richard Gao"
   ]
  },
  {
   "cell_type": "code",
   "execution_count": 59,
   "metadata": {},
   "outputs": [],
   "source": [
    "# Configure Jupyter so figures appear in the notebook\n",
    "%matplotlib inline\n",
    "\n",
    "# Configure Jupyter to display the assigned value after an assignment\n",
    "%config InteractiveShell.ast_node_interactivity='last_expr_or_assign'\n",
    "\n",
    "# import functions from the modsim library\n",
    "from modsim import *\n",
    "from pandas import read_csv\n",
    "import numpy\n",
    "import math\n",
    "import pprint\n",
    "from functools import reduce"
   ]
  },
  {
   "cell_type": "markdown",
   "metadata": {},
   "source": [
    "### What would be the impact on the U.S. population if the flu vaccination was never introduced during the 2016-2017 season?\n",
    "\n",
    "There has been a growing population that believes that the flu vaccine has no effect in preventing the disease. With massive advances in sciences over the years, there is most likely a non-negligble effect of the vaccine. \n",
    "\n",
    "To further dive into this question, we will attempt to model the U.S. population with and without the influenza vaccine. In order to model this hypothetical situation we will look at the following parameters:\n",
    "\n",
    "* total population\n",
    "* vaccination percent\n",
    "* rate of disease spread\n",
    "* vaccine effective rate\n",
    "* death probability due to influenza\n",
    "* recovery probability from influenza"
   ]
  },
  {
   "cell_type": "markdown",
   "metadata": {},
   "source": [
    "### Read data in from csv\n",
    "\n",
    "Using the read_csv function from pandas we parse and read in vaccination rate per month from the Center for Disease Control and Prevention database."
   ]
  },
  {
   "cell_type": "code",
   "execution_count": 60,
   "metadata": {},
   "outputs": [],
   "source": [
    "def fill_list(x, y):\n",
    "    interval = list(range(x, y))\n",
    "    return interval"
   ]
  },
  {
   "cell_type": "code",
   "execution_count": 61,
   "metadata": {},
   "outputs": [],
   "source": [
    "csv = read_csv(\"data/2016-2017.csv\", encoding = \"ISO-8859-1\")\n",
    "\n",
    "# Get the index of where each age group starts\n",
    "new_group_start = []\n",
    "\n",
    "size_of_csv = None\n",
    "\n",
    "for size_of_csv, age_group in enumerate(csv.values[0]):\n",
    "    if not isinstance(age_group, float):\n",
    "        new_group_start.append(size_of_csv)  \n",
    "\n",
    "# Isolate and retrieve just the U.S population row\n",
    "us_pop_row = 54\n",
    "skiprows = list(filter(lambda x : x != 2 and x != us_pop_row, range(0, us_pop_row + 1)))\n",
    "\n",
    "# Go through each age group and get SAMPLE and puth each age groups months into a month array\n",
    "rates_by_month = [[], [], [], [], [], [], [], [], [], [], []] # 2D array containing arrays of rates by different months\n",
    "sample_sizes = [] # 1D array, each index corresponds to an array in rates_by_month\n",
    "months = ['Jul', 'Aug', 'Sep', 'Oct', 'Nov', 'Dec', 'Jan', 'Feb', 'Mar', 'Apr', 'May',]\n",
    "\n",
    "# Loop through each age group    \n",
    "for index in range(0, len(new_group_start)):\n",
    "    if index + 1 == len(new_group_start): # Last age group\n",
    "        interval = fill_list(new_group_start[index], size_of_csv)\n",
    "    else: \n",
    "        interval = fill_list(new_group_start[index], new_group_start[index + 1])\n",
    "\n",
    "    # Get data for an age group\n",
    "    df = read_csv('data/2016-2017.csv',\n",
    "                  skipinitialspace=True,\n",
    "                  skiprows=skiprows,\n",
    "                  usecols=interval,\n",
    "                  nrows=1,\n",
    "                  encoding=\"ISO-8859-1\")\n",
    "\n",
    "    # Put sample size for each age group into sample_sizes\n",
    "    sample_sizes.append(df[df.columns[4]].iloc[0])\n",
    "\n",
    "    # Put each month's rate into rates_by_month\n",
    "    for month_num, month in enumerate(months):\n",
    "        month_name = f'{month}.{index}'\n",
    "        if index == 0:\n",
    "            month_name = month\n",
    "        if not isinstance(df[[month_name]].iloc[0][month_name], float):\n",
    "            rates_by_month[month_num].append(0)\n",
    "        else:\n",
    "            rates_by_month[month_num].append(df[[month_name]].iloc[0][month_name])\n",
    "\n",
    "# Compute total sample population in us\n",
    "sample_total = reduce((lambda x, y: x + y), sample_sizes)\n",
    "\n",
    "# Calculate influeza rates by month in us\n",
    "us_influeza_vac_by_month = []\n",
    "for month in rates_by_month:\n",
    "    sum = 0\n",
    "    for index, rate in enumerate(month):\n",
    "        sum += sample_sizes[index] * rate\n",
    "    us_influeza_vac_by_month.append(sum / sample_total)"
   ]
  },
  {
   "cell_type": "markdown",
   "metadata": {},
   "source": [
    "Here we are reporting the U.S. vaccination rates per month."
   ]
  },
  {
   "cell_type": "code",
   "execution_count": 62,
   "metadata": {},
   "outputs": [
    {
     "data": {
      "text/plain": [
       "[0.5773903547413106,\n",
       " 1.9599099541610336,\n",
       " 7.396958847845715,\n",
       " 16.582065523889124,\n",
       " 8.808580499389514,\n",
       " 3.6116506030170896,\n",
       " 2.869650799492078,\n",
       " 1.8789011330577452,\n",
       " 0.9065990127391785,\n",
       " 0.6696581802985406]"
      ]
     },
     "execution_count": 62,
     "metadata": {},
     "output_type": "execute_result"
    }
   ],
   "source": [
    "# Print us population vaccination by month without compounding \n",
    "vacc = []\n",
    "vacc.insert(0, us_influeza_vac_by_month[0])\n",
    "vacc_prev = vacc[0];\n",
    "for i in range(1,10,1):\n",
    "    vacc.insert(i, us_influeza_vac_by_month[i] - vacc_prev)\n",
    "    vacc_prev = us_influeza_vac_by_month[i] \n",
    "vacc"
   ]
  },
  {
   "cell_type": "markdown",
   "metadata": {},
   "source": [
    "We'll read in the number of people who are born and die each month in the U.S."
   ]
  },
  {
   "cell_type": "code",
   "execution_count": 63,
   "metadata": {},
   "outputs": [],
   "source": [
    "birth_pop = read_csv('data/BirthRates2016-2017.csv', skipinitialspace=True, usecols=[2]);\n",
    "death_pop = read_csv(\"data/DeathRates2016-2017.csv\", skipinitialspace=True, usecols=[2]);"
   ]
  },
  {
   "cell_type": "markdown",
   "metadata": {},
   "source": [
    "### Model"
   ]
  },
  {
   "cell_type": "markdown",
   "metadata": {},
   "source": [
    "The following function sets up the initial parameters for running the simulations."
   ]
  },
  {
   "cell_type": "code",
   "execution_count": 64,
   "metadata": {},
   "outputs": [],
   "source": [
    "def Initialize_Simulation(\n",
    "    initPopulation,\n",
    "    vaccinationPercent,\n",
    "    infectionRate,\n",
    "    vaccineEffectiveRate,\n",
    "    infectDeathRate,\n",
    "    diseaseRecoveryRate):\n",
    "    return System(initpopulation=initPopulation,\n",
    "                  vaccinationPercent=vaccinationPercent,\n",
    "                  infection_rate=infectionRate,\n",
    "                  vaccineEffectiveRate=vaccineEffectiveRate,\n",
    "                  infectionDeathRate=infectDeathRate,\n",
    "                  diseaseRecoveryRate=diseaseRecoveryRate)"
   ]
  },
  {
   "cell_type": "markdown",
   "metadata": {},
   "source": [
    "The next three cells are iterative tests that show the devlopment of the model. The first one simply shows the changes in population by month. The second and third one seperate out the vaccinated and infected populations."
   ]
  },
  {
   "cell_type": "code",
   "execution_count": 65,
   "metadata": {},
   "outputs": [],
   "source": [
    "def Initialize_Simulation_Test(\n",
    "    initPopulation,\n",
    "    vaccinationPercent,\n",
    "    infectionRate,\n",
    "    vaccineEffectiveRate,\n",
    "    infectDeathRate,\n",
    "    diseaseRecoveryRate):\n",
    "    pops = State(population=TimeSeries(), vaccinated=TimeSeries(), infected=TimeSeries())\n",
    "    system = System(initpopulation=initPopulation,\n",
    "                    vaccinationPercent=vaccinationPercent,\n",
    "                    infection_rate=infectionRate,\n",
    "                    vaccineEffectiveRate=vaccineEffectiveRate,\n",
    "                    infectionDeathRate=infectDeathRate,\n",
    "                    diseaseRecoveryRate=diseaseRecoveryRate)\n",
    "    return pops, system\n"
   ]
  },
  {
   "cell_type": "code",
   "execution_count": 66,
   "metadata": {},
   "outputs": [
    {
     "data": {
      "image/png": "[encoded data removed]",
      "text/plain": [
       "<Figure size 432x288 with 1 Axes>"
      ]
     },
     "metadata": {},
     "output_type": "display_data"
    }
   ],
   "source": [
    "def Population_test():\n",
    "    pops, system = Initialize_Simulation_Test(300000000, vacc, .1,1,1.6/100000, .2) #initPopulation, vaccinationPercent, #infectionRate, vaccineEffectiveRate, infectDeathRate, #diseaseRecoveryRate\n",
    "\n",
    "    pops.population[0] = system.initpopulation\n",
    "    for month in range(1, 11):       \n",
    "        pops.population[month] = pops.population[month-1] + birth_pop[birth_pop.columns[0]].iloc[month] \\\n",
    "        - death_pop[death_pop.columns[0]].iloc[month]\n",
    "    plot(pops.population,':', label = 'Population')\n",
    "Population_test()"
   ]
  },
  {
   "cell_type": "code",
   "execution_count": 67,
   "metadata": {},
   "outputs": [
    {
     "data": {
      "image/png": "[encoded data removed]",
      "text/plain": [
       "<Figure size 432x288 with 1 Axes>"
      ]
     },
     "metadata": {},
     "output_type": "display_data"
    }
   ],
   "source": [
    "def Vaccine_population_Test():\n",
    "    pops, system = Initialize_Simulation_Test(300000000, vacc, .1,1,1.6/100000, .2) #initPopulation, vaccinationPercent, #infectionRate, vaccineEffectiveRate, infectDeathRate, #diseaseRecoveryRate\n",
    "\n",
    "    pops.population[0] = system.initpopulation\n",
    "    pops.vaccinated[0] = 0\n",
    "    for month in range(1, 11):\n",
    "        deltavaccinated = pops.population[month-1] * system.vaccinationPercent[month-1]/100 \n",
    "       \n",
    "        pops.vaccinated[month] = pops.vaccinated[month-1] + deltavaccinated\n",
    "\n",
    "        pops.population[month] = pops.population[month-1] + birth_pop[birth_pop.columns[0]].iloc[month] \\\n",
    "        - death_pop[death_pop.columns[0]].iloc[month] - deltavaccinated\n",
    "\n",
    "    plot(pops.population,':', label = 'Population');\n",
    "    plot(pops.vaccinated, label ='Vaccinated');\n",
    "Vaccine_population_Test()"
   ]
  },
  {
   "cell_type": "markdown",
   "metadata": {},
   "source": [
    "This function considers the actual flu in its calculations. "
   ]
  },
  {
   "cell_type": "code",
   "execution_count": 68,
   "metadata": {},
   "outputs": [
    {
     "data": {
      "image/png": "[encoded data removed]",
      "text/plain": [
       "<Figure size 432x288 with 1 Axes>"
      ]
     },
     "metadata": {},
     "output_type": "display_data"
    }
   ],
   "source": [
    "def Infection_population_vaccine_Test():\n",
    "    pops, system = Initialize_Simulation_Test(300000000, vacc, .1,1,1.6/100000, .2) #initPopulation, vaccinationPercent, #infectionRate, vaccineEffectiveRate, infectDeathRate, #diseaseRecoveryRate\n",
    "    \n",
    "    pops.population[0] = system.initpopulation\n",
    "    pops.vaccinated[0] = 0;\n",
    "    pops.infected[0] = 0;\n",
    "    for month in range(1, 11):\n",
    "        deltavaccinated = pops.population[month-1] * system.vaccinationPercent[month-1]/100 \n",
    "        pops.vaccinated[month] = pops.vaccinated[month-1] + deltavaccinated\n",
    "\n",
    "        deltainfected = pops.population[month-1] * system.infection_rate - pops.infected[month-1] \\\n",
    "        * system.infectionDeathRate - pops.infected[month-1] * system.diseaseRecoveryRate\n",
    "        \n",
    "        pops.infected[month] = pops.infected[month-1] + deltainfected \n",
    "\n",
    "        pops.population[month] = pops.population[month-1] + birth_pop[birth_pop.columns[0]].iloc[month] \\\n",
    "        - death_pop[death_pop.columns[0]].iloc[month] - deltavaccinated\n",
    "\n",
    "    plot(pops.population,':', label = 'Population');\n",
    "    plot(pops.vaccinated, label ='Vaccinated');\n",
    "    plot(pops.infected, \"--g\", label = 'Infected');\n",
    "    \n",
    "Infection_population_vaccine_Test();"
   ]
  },
  {
   "cell_type": "markdown",
   "metadata": {},
   "source": [
    "The next few functions set up the model for the simulating the effects of the flu vaccine on the population. Each function condsiders a different case: that the vaccine is 100% effective, that even with the vaccine one can still catch the flu, and that no vaccine is ever administered."
   ]
  },
  {
   "cell_type": "code",
   "execution_count": 69,
   "metadata": {},
   "outputs": [],
   "source": [
    "def sim_perfect_vaccine(system,vaccinated, infected, population):\n",
    "    for month in range(1, 11):\n",
    "        deltavaccinated = population[month-1] * system.vaccinationPercent[month-1] / 100 \\\n",
    "        + infected[month-1] * system.diseaseRecoveryRate\n",
    "        deltainfected = population[month-1] * system.infection_rate - infected[month-1] * \\\n",
    "        system.infectionDeathRate - infected[month-1] * system.diseaseRecoveryRate\n",
    "      \n",
    "        vaccinated[month] = vaccinated[month-1] + deltavaccinated\n",
    "        infected[month] = infected[month-1] + deltainfected \n",
    "\n",
    "        population[month] = population[month-1] + birth_pop[birth_pop.columns[0]].iloc[month] \\\n",
    "        - death_pop[death_pop.columns[0]].iloc[month] - deltavaccinated - deltainfected\n",
    "\n",
    "    return vaccinated, infected, population"
   ]
  },
  {
   "cell_type": "code",
   "execution_count": 70,
   "metadata": {},
   "outputs": [],
   "source": [
    "def sim_imperfect_vaccine(system,vaccinated, infected, population):\n",
    "    for month in range(1, 11):\n",
    "        deltavaccinated = population[month-1] * system.vaccinationPercent[month-1] / 100 \\\n",
    "        + infected[month-1] * system.diseaseRecoveryRate\n",
    "        deltainfected = population[month-1] * system.infection_rate - infected[month-1] * \\\n",
    "        system.infectionDeathRate - infected[month-1] * system.diseaseRecoveryRate\n",
    "         \n",
    "        vaccinated[month] = vaccinated[month-1] + deltavaccinated\n",
    "        infected[month] = infected[month-1] + deltainfected \n",
    "        \n",
    "        population[month] = population[month-1] + birth_pop[birth_pop.columns[0]].iloc[month] - \\\n",
    "        death_pop[death_pop.columns[0]].iloc[month] - deltavaccinated - deltainfected\n",
    "\n",
    "    return vaccinated, infected, population"
   ]
  },
  {
   "cell_type": "code",
   "execution_count": 71,
   "metadata": {},
   "outputs": [],
   "source": [
    "def sim_without_vaccine(system,vaccinated, infected, population):\n",
    "    for month in range(1, 11):\n",
    "        vaccinated[month] = 0;\n",
    "\n",
    "        deltainfected = population[month-1] * system.infection_rate - infected[month-1] \\\n",
    "        * system.infectionDeathRate - infected[month-1] * system.diseaseRecoveryRate\n",
    "        infected[month] = infected[month-1] + deltainfected \n",
    "\n",
    "\n",
    "        population[month] = population[month-1] + birth_pop[birth_pop.columns[0]].iloc[month] \\\n",
    "        - death_pop[death_pop.columns[0]].iloc[month] - deltainfected \n",
    "\n",
    "    return vaccinated, infected, population"
   ]
  },
  {
   "cell_type": "code",
   "execution_count": 72,
   "metadata": {},
   "outputs": [],
   "source": [
    "def run_Simulation(system, vaccine_function):\n",
    "    vaccinated = TimeSeries();\n",
    "    infected = TimeSeries();\n",
    "    population = TimeSeries();\n",
    "    population[0] = system.initpopulation\n",
    "    vaccinated[0] = 0;\n",
    "    infected[0] = 0;\n",
    "    \n",
    "    vaccinated, infected, population = vaccine_function(system,vaccinated, infected, population);\n",
    "    \n",
    "    return population, vaccinated, infected"
   ]
  },
  {
   "cell_type": "code",
   "execution_count": 73,
   "metadata": {},
   "outputs": [],
   "source": [
    "def plot_results(population, vaccinated, infected):\n",
    "    plot(population,':', label = 'Population');\n",
    "    plot(vaccinated, label ='Vaccinated');\n",
    "    plot(infected, \"--g\", label = 'Infected');\n",
    "    "
   ]
  },
  {
   "cell_type": "markdown",
   "metadata": {},
   "source": [
    "### Simulation"
   ]
  },
  {
   "cell_type": "markdown",
   "metadata": {},
   "source": [
    "We'll simulate the population change with a perfect flu vaccine. Note, the system parameters numbers come from the CDC or are justified assumptions. "
   ]
  },
  {
   "cell_type": "code",
   "execution_count": 74,
   "metadata": {},
   "outputs": [],
   "source": [
    "init_population = 300000000\n",
    "infection_rate = .1\n",
    "vaccine_effective_rate = 1\n",
    "infect_death_rate = 1.6 / 100000\n",
    "disease_recovery_rate = .2;"
   ]
  },
  {
   "cell_type": "code",
   "execution_count": 75,
   "metadata": {
    "scrolled": true
   },
   "outputs": [
    {
     "data": {
      "image/png": "[encoded data removed]",
      "text/plain": [
       "<Figure size 432x288 with 1 Axes>"
      ]
     },
     "metadata": {},
     "output_type": "display_data"
    }
   ],
   "source": [
    "system = Initialize_Simulation(init_population,\n",
    "                               vacc,\n",
    "                               infection_rate,\n",
    "                               vaccine_effective_rate,\n",
    "                               infect_death_rate,\n",
    "                               disease_recovery_rate)\n",
    "\n",
    "population, vaccinated, infected = run_Simulation(system, sim_perfect_vaccine)\n",
    "\n",
    "plot_results(population, vaccinated, infected)"
   ]
  },
  {
   "cell_type": "markdown",
   "metadata": {},
   "source": [
    "We'll simulate the population change without any vaccine."
   ]
  },
  {
   "cell_type": "code",
   "execution_count": 76,
   "metadata": {},
   "outputs": [
    {
     "data": {
      "image/png": "[encoded data removed]",
      "text/plain": [
       "<Figure size 432x288 with 1 Axes>"
      ]
     },
     "metadata": {},
     "output_type": "display_data"
    }
   ],
   "source": [
    "system = Initialize_Simulation(init_population,\n",
    "                               vacc,\n",
    "                               infection_rate,\n",
    "                               vaccine_effective_rate,\n",
    "                               infect_death_rate,\n",
    "                               disease_recovery_rate)\n",
    "\n",
    "population, vaccinated, infected = run_Simulation(system, sim_without_vaccine)\n",
    "\n",
    "plot_results(population, vaccinated, infected)"
   ]
  },
  {
   "cell_type": "markdown",
   "metadata": {},
   "source": [
    "### Metrics"
   ]
  },
  {
   "cell_type": "markdown",
   "metadata": {},
   "source": [
    "Well, we made a cool graph. Swell. But, how does that help us. In order to be able to draw results we need to consider some form of a metric. \n",
    "Enter: Death!\n",
    "We can measure how many people die in the two variations of the model and compare the results to see what sort of effect the vaccine has had.\n"
   ]
  },
  {
   "cell_type": "markdown",
   "metadata": {},
   "source": [
    "Let's start by adding a TimeSeries to measure death in our model and change the functions accordingly to handle death measurement."
   ]
  },
  {
   "cell_type": "code",
   "execution_count": 77,
   "metadata": {},
   "outputs": [],
   "source": [
    "def Initialize_Simulation(\n",
    "    initPopulation,\n",
    "    vaccinationPercent,\n",
    "    infectionRate,\n",
    "    vaccineEffectiveRate,\n",
    "    infectDeathRate,\n",
    "    diseaseRecoveryRate):\n",
    "    return System(initpopulation=initPopulation,\n",
    "                  vaccinationPercent=vaccinationPercent,\n",
    "                  infection_rate=infectionRate,\n",
    "                  vaccineEffectiveRate=vaccineEffectiveRate,\n",
    "                  infectionDeathRate=infectDeathRate,\n",
    "                  diseaseRecoveryRate=diseaseRecoveryRate)"
   ]
  },
  {
   "cell_type": "code",
   "execution_count": 78,
   "metadata": {},
   "outputs": [],
   "source": [
    "def run_Simulation(system, vaccine_function):\n",
    "    vaccinated = TimeSeries();\n",
    "    infected = TimeSeries();\n",
    "    population = TimeSeries();\n",
    "    death = TimeSeries();\n",
    "    population[0] = system.initpopulation\n",
    "    vaccinated[0] = 0;\n",
    "    infected[0] = 0;\n",
    "    death[0] = 0;\n",
    "    \n",
    "    vaccinated, infected, population, death = vaccine_function(system,vaccinated, infected, population, death);\n",
    "    \n",
    "    return population, vaccinated, infected, death;"
   ]
  },
  {
   "cell_type": "code",
   "execution_count": 79,
   "metadata": {},
   "outputs": [],
   "source": [
    "def sim_imperfect_vaccine(system, vaccinated, infected, population, death):\n",
    "    for month in range(1, 11):\n",
    "        populationRatio = population[month-1] / (population[month-1] + vaccinated[month-1] +infected[month-1])\n",
    "        vaccinatedRatio = vaccinated[month-1] / (population[month-1] + vaccinated[month-1] +infected[month-1])\n",
    "        infectedRatio = infected[month-1] / (population[month-1] + vaccinated[month-1] + infected[month-1])\n",
    "        \n",
    "        deltavaccinated = population[month-1] * system.vaccinationPercent[month-1] / 100 \\\n",
    "        + infected[month-1] * system.diseaseRecoveryRate \\\n",
    "        - death_pop[death_pop.columns[0]].iloc[month] * vaccinatedRatio;\n",
    "        \n",
    "        deltainfected = population[month-1] * system.infection_rate - infected[month-1] * system.infectionDeathRate \\\n",
    "        - infected[month-1] * system.diseaseRecoveryRate \\\n",
    "        - death_pop[death_pop.columns[0]].iloc[month] * infectedRatio\n",
    "         \n",
    "        vaccinated[month] = vaccinated[month-1] + deltavaccinated\n",
    "        infected[month] = infected[month-1] + deltainfected \n",
    "        population[month] = population[month-1] + birth_pop[birth_pop.columns[0]].iloc[month] - \\\n",
    "        death_pop[death_pop.columns[0]].iloc[month] * populationRatio - deltavaccinated - deltainfected\n",
    "        \n",
    "        death[i] = infected[month-1] * system.infectionDeathRate + death_pop[death_pop.columns[0]].iloc[month]\n",
    "\n",
    "    return vaccinated, infected, population, death"
   ]
  },
  {
   "cell_type": "code",
   "execution_count": 80,
   "metadata": {},
   "outputs": [],
   "source": [
    "def sim_without_vaccine(system, vaccinated, infected, population, death):\n",
    "    for month in range(1, 11):\n",
    "        populationRatio = population[month-1] / (population[month-1] + vaccinated[month-1] + infected[month-1])\n",
    "        vaccinatedRatio = vaccinated[month-1] / (population[month-1] + vaccinated[month-1] + infected[month-1])\n",
    "        infectedRatio = infected[month-1] / (population[month-1] + vaccinated[month-1] + infected[month-1])\n",
    "\n",
    "        deltainfected = population[month-1] * system.infection_rate - infected[month-1] \\\n",
    "        * system.infectionDeathRate - infected[month-1] * system.diseaseRecoveryRate \\\n",
    "        - death_pop[death_pop.columns[0]].iloc[month] * infectedRatio;\n",
    "        \n",
    "        deltavaccinated = infected[month-1] * system.diseaseRecoveryRate \\\n",
    "        - death_pop[death_pop.columns[0]].iloc[month] * vaccinatedRatio; \n",
    "        \n",
    "        vaccinated[month] = vaccinated[month-1] + deltavaccinated;\n",
    "        infected[month] = infected[month-1] + deltainfected; \n",
    "        population[month] = population[month-1] + birth_pop[birth_pop.columns[0]].iloc[month] \\\n",
    "        - death_pop[death_pop.columns[0]].iloc[month] * populationRatio - deltainfected - deltavaccinated;\n",
    "        \n",
    "        death[i] = infected[month-1] * system.infectionDeathRate + death_pop[death_pop.columns[0]].iloc[month]\n",
    "\n",
    "    return vaccinated, infected, population, death"
   ]
  },
  {
   "cell_type": "code",
   "execution_count": 81,
   "metadata": {},
   "outputs": [],
   "source": [
    "def plot_results(population, vaccinated, infected):\n",
    "    plot(population,':', label = 'Population');\n",
    "    plot(vaccinated, label ='Vaccinated');\n",
    "    plot(infected, \"--g\", label = 'Infected');    "
   ]
  },
  {
   "cell_type": "markdown",
   "metadata": {},
   "source": [
    "With these changes, We can now run the simulation and plot the deaths over time."
   ]
  },
  {
   "cell_type": "code",
   "execution_count": 82,
   "metadata": {},
   "outputs": [],
   "source": [
    "def vaccine_simulation():\n",
    "    system = Initialize_Simulation(init_population,\n",
    "                                   vacc,\n",
    "                                   infection_rate,\n",
    "                                   vaccine_effective_rate,\n",
    "                                   infect_death_rate,\n",
    "                                   disease_recovery_rate) \n",
    "\n",
    "    population, vaccinated, infected, death= run_Simulation(system, sim_imperfect_vaccine)\n",
    "\n",
    "    return death;"
   ]
  },
  {
   "cell_type": "code",
   "execution_count": 83,
   "metadata": {},
   "outputs": [],
   "source": [
    "def nonvaccine_simulation():\n",
    "    system = Initialize_Simulation(init_population,\n",
    "                                   vacc,\n",
    "                                   infection_rate,\n",
    "                                   vaccine_effective_rate,\n",
    "                                   infect_death_rate,\n",
    "                                   disease_recovery_rate)\n",
    "\n",
    "    population, vaccinated, infected, death= run_Simulation(system, sim_without_vaccine)\n",
    "    return death;"
   ]
  },
  {
   "cell_type": "code",
   "execution_count": 84,
   "metadata": {},
   "outputs": [
    {
     "data": {
      "image/png": "[encoded data removed]",
      "text/plain": [
       "<Figure size 432x288 with 1 Axes>"
      ]
     },
     "metadata": {},
     "output_type": "display_data"
    }
   ],
   "source": [
    "with_vaccine_death = vaccine_simulation();\n",
    "without_vaccine_death = nonvaccine_simulation();\n",
    "\n",
    "plot(with_vaccine_death);\n",
    "plot(without_vaccine_death);\n",
    "plot(with_vaccine_death, label = 'With Vaccine');\n",
    "plot(without_vaccine_death, label = \"Without Vaccine\");\n",
    "decorate(title='Deaths',\n",
    "             xlabel='Months', \n",
    "             ylabel='Population (People)')"
   ]
  },
  {
   "cell_type": "markdown",
   "metadata": {},
   "source": [
    "The above plot shows the two lines as very nearly overlapping. In order to see a clearer picture, let us remove the general deaths and focus only on the deaths due to influenza."
   ]
  },
  {
   "cell_type": "code",
   "execution_count": 85,
   "metadata": {},
   "outputs": [],
   "source": [
    "def sim_without_vaccine(system, vaccinated, infected, population, death):\n",
    "    for month in range(1, 11):\n",
    "        populationRatio = population[month-1] / (population[month-1] + vaccinated[month-1] + infected[month-1])\n",
    "        vaccinatedRatio = vaccinated[month-1] / (population[month-1] + vaccinated[month-1] + infected[month-1])\n",
    "        infectedRatio = infected[month-1] / (population[month-1] + vaccinated[month-1] + infected[month-1])\n",
    "\n",
    "        deltainfected = population[month-1] * system.infection_rate - infected[month-1] \\\n",
    "        * system.infectionDeathRate - infected[month-1] * system.diseaseRecoveryRate \\\n",
    "        - death_pop[death_pop.columns[0]].iloc[month] * infectedRatio;\n",
    "        \n",
    "        deltavaccinated = infected[month-1] * system.diseaseRecoveryRate \\\n",
    "        - death_pop[death_pop.columns[0]].iloc[month] *vaccinatedRatio; \n",
    "        \n",
    "        vaccinated[month] = vaccinated[month-1] + deltavaccinated;\n",
    "        infected[month] = infected[month-1] + deltainfected; \n",
    "        population[month] = population[month-1] + birth_pop[birth_pop.columns[0]].iloc[month] \\\n",
    "        - death_pop[death_pop.columns[0]].iloc[month] * populationRatio - deltainfected -deltavaccinated;\n",
    "        \n",
    "        death[i] = infected[month-1] * system.infectionDeathRate\n",
    "\n",
    "    return vaccinated, infected, population, death"
   ]
  },
  {
   "cell_type": "code",
   "execution_count": 86,
   "metadata": {},
   "outputs": [],
   "source": [
    "def sim_imperfect_vaccine(system, vaccinated, infected, population, death):\n",
    "    for month in range(1, 11):\n",
    "        populationRatio = population[month-1] / (population[month-1] + vaccinated[month-1] + infected[month-1])\n",
    "        vaccinatedRatio = vaccinated[month-1] / (population[month-1] + vaccinated[month-1] + infected[month-1])\n",
    "        infectedRatio = infected[month-1]/(population[month-1]+ vaccinated[month-1]+infected[month-1])\n",
    "        \n",
    "        deltavaccinated = population[month-1] * system.vaccinationPercent[month-1] / 100 \\\n",
    "        + infected[month-1] * system.diseaseRecoveryRate \\\n",
    "        - death_pop[death_pop.columns[0]].iloc[month] * vaccinatedRatio;\n",
    "        \n",
    "        deltainfected = population[month-1] * system.infection_rate - infected[month-1] * system.infectionDeathRate \\\n",
    "        - infected[month-1] * system.diseaseRecoveryRate \\\n",
    "        - death_pop[death_pop.columns[0]].iloc[month] * infectedRatio\n",
    "         \n",
    "        vaccinated[month] = vaccinated[month-1] + deltavaccinated\n",
    "        infected[month] = infected[month-1] + deltainfected \n",
    "        population[month] = population[month-1] + birth_pop[birth_pop.columns[0]].iloc[month] - \\\n",
    "        death_pop[death_pop.columns[0]].iloc[month] * populationRatio - deltavaccinated - deltainfected\n",
    "        \n",
    "        death[i] = infected[month-1] * system.infectionDeathRate \n",
    "\n",
    "    return vaccinated, infected, population, death"
   ]
  },
  {
   "cell_type": "code",
   "execution_count": 87,
   "metadata": {},
   "outputs": [
    {
     "name": "stdout",
     "output_type": "stream",
     "text": [
      "Death Count at end of year with Vaccine: 902.5168524731355\n",
      "Death Count at end of year without Vaccine: 1217.4114020402621\n"
     ]
    },
    {
     "data": {
      "image/png": "[encoded data removed]",
      "text/plain": [
       "<Figure size 432x288 with 1 Axes>"
      ]
     },
     "metadata": {},
     "output_type": "display_data"
    }
   ],
   "source": [
    "with_vaccine_death = vaccine_simulation();\n",
    "without_vaccine_death = nonvaccine_simulation();\n",
    "\n",
    "plot(with_vaccine_death, label = 'With Vaccine');\n",
    "plot(without_vaccine_death, label = \"Without Vaccine\");\n",
    "decorate(title='Deaths',\n",
    "             xlabel='Months', \n",
    "             ylabel='Population (People)')\n",
    "print('Death Count at end of year with Vaccine:', with_vaccine_death[9])\n",
    "print('Death Count at end of year without Vaccine:', without_vaccine_death[9])"
   ]
  },
  {
   "cell_type": "markdown",
   "metadata": {},
   "source": [
    "With this graphic and the death values displayed above it seems that the effects of the vaccine is indeed a benefitial one. The model, therefore, supports the idea that if not given any flu vaccine during the 2016-2017 season, there would be an increase in deaths due to the influenza.\n",
    "\n",
    "Based on the results of this simulation, it would not be illogical to make the assumption that given any other flu season in the future, it would be recommended that the vaccine be administered to lower the death count.  \n",
    "\n",
    "In future work, we could consider a changing infection rate and a different percentage of the population that would get vaccinated. Modeling a changing infection rate would potentailly be closer to a real world situation where the more people that have a certain disease the more it spreads. In the current model, the infection rate is constant. Modeling with a different percentage of the population getting vaccinated would be an insightful simulation as the percentage reported from data maxes out at fourty-four percent of the U.S. population. A higher percentage of vaccinations would result in more dramatic differences between a society with a vaccination and in one without.  "
   ]
  }
 ],
 "metadata": {
  "kernelspec": {
   "display_name": "Python 3",
   "language": "python",
   "name": "python3"
  },
  "language_info": {
   "codemirror_mode": {
    "name": "ipython",
    "version": 3
   },
   "file_extension": ".py",
   "mimetype": "text/x-python",
   "name": "python",
   "nbconvert_exporter": "python",
   "pygments_lexer": "ipython3",
   "version": "3.6.5"
  }
 },
 "nbformat": 4,
 "nbformat_minor": 2
}
