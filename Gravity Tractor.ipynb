{
 "cells": [
  {
   "cell_type": "markdown",
   "metadata": {},
   "source": [
    "# Modeling and Simulation in Python\n",
    "\n",
    "Project 3\n",
    "\n",
    "James Ho & Richard Gao"
   ]
  },
  {
   "cell_type": "code",
   "execution_count": 328,
   "metadata": {},
   "outputs": [],
   "source": [
    "# Configure Jupyter so figures appear in the notebook\n",
    "%matplotlib inline\n",
    "\n",
    "# Configure Jupyter to display the assigned value after an assignment\n",
    "%config InteractiveShell.ast_node_interactivity='last_expr_or_assign'\n",
    "\n",
    "# import functions from the modsim.py module\n",
    "from modsim import *"
   ]
  },
  {
   "cell_type": "markdown",
   "metadata": {},
   "source": [
    "## Asteroid Data \n",
    "\n",
    "https://cneos.jpl.nasa.gov/sentry/details.html#?des=410777"
   ]
  },
  {
   "cell_type": "markdown",
   "metadata": {},
   "source": [
    "## Assumptions\n",
    "\n",
    "Asteroid is moving linearly toward the earth.\n",
    "Rocket has enough ionic fuel to keep from crashing into the asteroid indefinitely.\n",
    "Spaceship is able to constantly apply a 5.4N force on the asteroid.\n",
    "Assume that the tractor is applying an average force in one direction. We are abstracting the 3D motion to 2D.\n"
   ]
  },
  {
   "cell_type": "markdown",
   "metadata": {},
   "source": [
    "## Implementation"
   ]
  },
  {
   "cell_type": "code",
   "execution_count": 329,
   "metadata": {},
   "outputs": [
    {
     "data": {
      "text/html": [
       "meter"
      ],
      "text/latex": [
       "$\\mathrm{meter}$"
      ],
      "text/plain": [
       "<Unit('meter')>"
      ]
     },
     "execution_count": 329,
     "metadata": {},
     "output_type": "execute_result"
    }
   ],
   "source": [
    "# Here are the units we'll need\n",
    "\n",
    "s = UNITS.second\n",
    "N = UNITS.newton\n",
    "kg = UNITS.kilogram\n",
    "m = UNITS.meter"
   ]
  },
  {
   "cell_type": "code",
   "execution_count": 330,
   "metadata": {},
   "outputs": [
    {
     "data": {
      "text/html": [
       "<div>\n",
       "<style scoped>\n",
       "    .dataframe tbody tr th:only-of-type {\n",
       "        vertical-align: middle;\n",
       "    }\n",
       "\n",
       "    .dataframe tbody tr th {\n",
       "        vertical-align: top;\n",
       "    }\n",
       "\n",
       "    .dataframe thead th {\n",
       "        text-align: right;\n",
       "    }\n",
       "</style>\n",
       "<table border=\"1\" class=\"dataframe\">\n",
       "  <thead>\n",
       "    <tr style=\"text-align: right;\">\n",
       "      <th></th>\n",
       "      <th>values</th>\n",
       "    </tr>\n",
       "  </thead>\n",
       "  <tbody>\n",
       "    <tr>\n",
       "      <th>x</th>\n",
       "      <td>145000000000.0 meter</td>\n",
       "    </tr>\n",
       "    <tr>\n",
       "      <th>y</th>\n",
       "      <td>5000 meter</td>\n",
       "    </tr>\n",
       "    <tr>\n",
       "      <th>vx</th>\n",
       "      <td>-15870.0 meter / second</td>\n",
       "    </tr>\n",
       "    <tr>\n",
       "      <th>vy</th>\n",
       "      <td>0.0 meter / second</td>\n",
       "    </tr>\n",
       "  </tbody>\n",
       "</table>\n",
       "</div>"
      ],
      "text/plain": [
       "x        145000000000.0 meter\n",
       "y                  5000 meter\n",
       "vx    -15870.0 meter / second\n",
       "vy         0.0 meter / second\n",
       "dtype: object"
      ]
     },
     "execution_count": 330,
     "metadata": {},
     "output_type": "execute_result"
    }
   ],
   "source": [
    "init = State(x = 145e9 * m,\n",
    "             y = 5000 * m, # initially 0 because assumption that asteroid is in line with earth\n",
    "             vx = -15.87e3 * m / s,\n",
    "             vy = 0 * m / s)"
   ]
  },
  {
   "cell_type": "code",
   "execution_count": 331,
   "metadata": {},
   "outputs": [
    {
     "data": {
      "text/html": [
       "<div>\n",
       "<style scoped>\n",
       "    .dataframe tbody tr th:only-of-type {\n",
       "        vertical-align: middle;\n",
       "    }\n",
       "\n",
       "    .dataframe tbody tr th {\n",
       "        vertical-align: top;\n",
       "    }\n",
       "\n",
       "    .dataframe thead th {\n",
       "        text-align: right;\n",
       "    }\n",
       "</style>\n",
       "<table border=\"1\" class=\"dataframe\">\n",
       "  <thead>\n",
       "    <tr style=\"text-align: right;\">\n",
       "      <th></th>\n",
       "      <th>values</th>\n",
       "    </tr>\n",
       "  </thead>\n",
       "  <tbody>\n",
       "    <tr>\n",
       "      <th>init</th>\n",
       "      <td>x        145000000000.0 meter\n",
       "y               ...</td>\n",
       "    </tr>\n",
       "    <tr>\n",
       "      <th>G</th>\n",
       "      <td>6.674e-11 meter ** 2 * newton / kilogram ** 2</td>\n",
       "    </tr>\n",
       "    <tr>\n",
       "      <th>mass_earth</th>\n",
       "      <td>5.972e+24 kilogram</td>\n",
       "    </tr>\n",
       "    <tr>\n",
       "      <th>mass_asteroid</th>\n",
       "      <td>3200000000.0 kilogram</td>\n",
       "    </tr>\n",
       "    <tr>\n",
       "      <th>mass_spaceship</th>\n",
       "      <td>6910.0 kilogram</td>\n",
       "    </tr>\n",
       "    <tr>\n",
       "      <th>force_spaceship</th>\n",
       "      <td>500 newton</td>\n",
       "    </tr>\n",
       "    <tr>\n",
       "      <th>r</th>\n",
       "      <td>1.7179958556411015 meter</td>\n",
       "    </tr>\n",
       "    <tr>\n",
       "      <th>t_0</th>\n",
       "      <td>0 second</td>\n",
       "    </tr>\n",
       "    <tr>\n",
       "      <th>t_end</th>\n",
       "      <td>0.5 year</td>\n",
       "    </tr>\n",
       "  </tbody>\n",
       "</table>\n",
       "</div>"
      ],
      "text/plain": [
       "init               x        145000000000.0 meter\n",
       "y               ...\n",
       "G                      6.674e-11 meter ** 2 * newton / kilogram ** 2\n",
       "mass_earth                                        5.972e+24 kilogram\n",
       "mass_asteroid                                  3200000000.0 kilogram\n",
       "mass_spaceship                                       6910.0 kilogram\n",
       "force_spaceship                                           500 newton\n",
       "r                                           1.7179958556411015 meter\n",
       "t_0                                                         0 second\n",
       "t_end                                                       0.5 year\n",
       "dtype: object"
      ]
     },
     "execution_count": 331,
     "metadata": {},
     "output_type": "execute_result"
    }
   ],
   "source": [
    "G = 6.674e-11 * N / kg**2 * m**2\n",
    "mass_asteroid = 3.2e9 * kg\n",
    "mass_spaceship = 6.91e3 * kg\n",
    "force_spaceship=500 * N\n",
    "r = (G * mass_asteroid * mass_spaceship / force_spaceship) ** .5\n",
    "\n",
    "system = System(init=init,\n",
    "                G=G,\n",
    "                mass_earth=5.972e24 * kg,\n",
    "                mass_asteroid=mass_asteroid,\n",
    "                mass_spaceship=mass_spaceship,\n",
    "                force_spaceship=force_spaceship,\n",
    "                r=r,\n",
    "                t_0=0 * s,\n",
    "                t_end=0.5 * UNITS.year)"
   ]
  },
  {
   "cell_type": "code",
   "execution_count": 332,
   "metadata": {},
   "outputs": [],
   "source": [
    "# Here's a function that computes the force of gravity\n",
    "\n",
    "def universal_gravitation(state, system):\n",
    "    \"\"\"Computes gravitational force.\n",
    "    \n",
    "    state: State object with distance r\n",
    "    system: System object with m1, m2, and G\n",
    "    \"\"\"\n",
    "    x, y, vx, vy = state\n",
    "    unpack(system)\n",
    "    \n",
    "    displacement = Vector(x, y)\n",
    "    \n",
    "    force = G * mass_earth * mass_asteroid / displacement.mag**2\n",
    "    \n",
    "    return displacement.hat() * force "
   ]
  },
  {
   "cell_type": "code",
   "execution_count": 333,
   "metadata": {},
   "outputs": [
    {
     "data": {
      "text/html": [
       "\\[\\begin{pmatrix}60.662454030915455 & 2.0918087596867397e-06\\end{pmatrix} newton\\]"
      ],
      "text/latex": [
       "$\\begin{pmatrix}60.662454030915455 & 2.0918087596867397e-06\\end{pmatrix}\\ \\mathrm{newton}$"
      ],
      "text/plain": [
       "<Quantity([6.06624540e+01 2.09180876e-06], 'newton')>"
      ]
     },
     "execution_count": 333,
     "metadata": {},
     "output_type": "execute_result"
    }
   ],
   "source": [
    "universal_gravitation(init, system)"
   ]
  },
  {
   "cell_type": "code",
   "execution_count": 334,
   "metadata": {},
   "outputs": [],
   "source": [
    "def slope_func(state, t, system):\n",
    "    \"\"\"Compute derivatives of the state.\n",
    "    \n",
    "    state: position, velocity\n",
    "    t: time\n",
    "    system: System object containing `g`\n",
    "    \n",
    "    returns: derivatives of y and v\n",
    "    \"\"\"\n",
    "    x, y, vx, vy = state\n",
    "    unpack(system)    \n",
    "    \n",
    "    force = -universal_gravitation(state, system)\n",
    "    \n",
    "    dvxdt = force.x / mass_asteroid\n",
    "#     dvydt = force.y / mass_asteroid\n",
    "    \n",
    "    try:\n",
    "        if x.magnitude <= 0:\n",
    "            dvydt = force.y / mass_asteroid\n",
    "#             print('passed')\n",
    "        else:\n",
    "            dvydt = (force.y - force_spaceship) / mass_asteroid\n",
    "    except:\n",
    "        if x <= 0:\n",
    "            dvydt = force.y / mass_asteroid\n",
    "#             print('passed')\n",
    "        else:\n",
    "            dvydt = (force.y - force_spaceship) / mass_asteroid\n",
    "\n",
    "#     print('x, y:',x, y)    \n",
    "#     print('dvxdt, dvydt:',dvxdt, dvydt)\n",
    "    \n",
    "    return vx, vy, dvxdt, dvydt"
   ]
  },
  {
   "cell_type": "code",
   "execution_count": 335,
   "metadata": {},
   "outputs": [
    {
     "data": {
      "text/plain": [
       "(<Quantity(-15870.0, 'meter / second')>,\n",
       " <Quantity(0.0, 'meter / second')>,\n",
       " <Quantity(-1.895701688466108e-08, 'newton / kilogram')>,\n",
       " <Quantity(-1.5625000065369025e-07, 'newton / kilogram')>)"
      ]
     },
     "execution_count": 335,
     "metadata": {},
     "output_type": "execute_result"
    }
   ],
   "source": [
    "slope_func(init, 0, system)"
   ]
  },
  {
   "cell_type": "code",
   "execution_count": 336,
   "metadata": {},
   "outputs": [],
   "source": [
    "results, details = run_ode_solver(system, slope_func, max_step=20*UNITS.day)\n",
    "# details.tail()"
   ]
  },
  {
   "cell_type": "code",
   "execution_count": 337,
   "metadata": {},
   "outputs": [],
   "source": [
    "# Scaling the time steps to days\n",
    "results.index /= 60 * 60 * 24\n",
    "\n",
    "# Scaling the distance to million km\n",
    "x = results.x / 1e9;\n",
    "y = results.y / 1e9;"
   ]
  },
  {
   "cell_type": "code",
   "execution_count": 338,
   "metadata": {},
   "outputs": [
    {
     "data": {
      "image/png": "[encoded data removed]",
      "text/plain": [
       "<Figure size 432x288 with 1 Axes>"
      ]
     },
     "metadata": {},
     "output_type": "display_data"
    }
   ],
   "source": [
    "plot(x, label='x')\n",
    "plot(y, label='y')\n",
    "\n",
    "decorate(xlabel='Time (day)',\n",
    "         ylabel='Distance from earth (million km)')"
   ]
  },
  {
   "cell_type": "code",
   "execution_count": 339,
   "metadata": {},
   "outputs": [
    {
     "data": {
      "image/png": "[encoded data removed]",
      "text/plain": [
       "<Figure size 432x288 with 1 Axes>"
      ]
     },
     "metadata": {},
     "output_type": "display_data"
    }
   ],
   "source": [
    "plot(x, y, 'r', label='trajectory')\n",
    "plot(0, 0, 'ob', label='earth')\n",
    "\n",
    "decorate(xlabel='x (million km)',\n",
    "         ylabel='y (million km)')"
   ]
  },
  {
   "cell_type": "code",
   "execution_count": null,
   "metadata": {},
   "outputs": [],
   "source": []
  },
  {
   "cell_type": "code",
   "execution_count": null,
   "metadata": {},
   "outputs": [],
   "source": []
  }
 ],
 "metadata": {
  "kernelspec": {
   "display_name": "Python 3",
   "language": "python",
   "name": "python3"
  },
  "language_info": {
   "codemirror_mode": {
    "name": "ipython",
    "version": 3
   },
   "file_extension": ".py",
   "mimetype": "text/x-python",
   "name": "python",
   "nbconvert_exporter": "python",
   "pygments_lexer": "ipython3",
   "version": "3.6.5"
  }
 },
 "nbformat": 4,
 "nbformat_minor": 2
}
