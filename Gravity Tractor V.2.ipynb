{
 "cells": [
  {
   "cell_type": "markdown",
   "metadata": {},
   "source": [
    "# Modeling and Simulation in Python\n",
    "\n",
    "Richard Gao\n"
   ]
  },
  {
   "cell_type": "code",
   "execution_count": 172,
   "metadata": {},
   "outputs": [],
   "source": [
    "# Configure Jupyter so figures appear in the notebook\n",
    "%matplotlib inline\n",
    "\n",
    "# Configure Jupyter to display the assigned value after an assignment\n",
    "%config InteractiveShell.ast_node_interactivity='last_expr_or_assign'\n",
    "\n",
    "# import functions from the modsim.py module\n",
    "from modsim import *\n",
    "from matplotlib import patches\n",
    "import math"
   ]
  },
  {
   "cell_type": "markdown",
   "metadata": {},
   "source": [
    "## Asteroid Data \n",
    "\n",
    "https://cneos.jpl.nasa.gov/sentry/details.html#?des=410777\n",
    "\n",
    "We are simulating a real life asteroid that has relatively high possiblity of hitting earth if any."
   ]
  },
  {
   "cell_type": "markdown",
   "metadata": {},
   "source": [
    "## Assumptions\n",
    "\n",
    "Rocket has enough ionic fuel to keep from crashing into the asteroid indefinitely.\n",
    "Spaceship is able to constantly apply a 5.4N force on the asteroid.\n",
    "Assume that the tractor is applying an average force in one direction. We are abstracting the 3D motion to 2D.\n",
    "\n",
    "Asteroid is orbiting around the earth and sun\n"
   ]
  },
  {
   "cell_type": "code",
   "execution_count": 173,
   "metadata": {},
   "outputs": [
    {
     "data": {
      "text/html": [
       "meter"
      ],
      "text/latex": [
       "$\\mathrm{meter}$"
      ],
      "text/plain": [
       "<Unit('meter')>"
      ]
     },
     "execution_count": 173,
     "metadata": {},
     "output_type": "execute_result"
    }
   ],
   "source": [
    "# Here are the units we'll need\n",
    "\n",
    "s = UNITS.second\n",
    "N = UNITS.newton\n",
    "kg = UNITS.kilogram\n",
    "m = UNITS.meter"
   ]
  },
  {
   "cell_type": "code",
   "execution_count": 174,
   "metadata": {},
   "outputs": [
    {
     "data": {
      "text/html": [
       "<div>\n",
       "<style scoped>\n",
       "    .dataframe tbody tr th:only-of-type {\n",
       "        vertical-align: middle;\n",
       "    }\n",
       "\n",
       "    .dataframe tbody tr th {\n",
       "        vertical-align: top;\n",
       "    }\n",
       "\n",
       "    .dataframe thead th {\n",
       "        text-align: right;\n",
       "    }\n",
       "</style>\n",
       "<table border=\"1\" class=\"dataframe\">\n",
       "  <thead>\n",
       "    <tr style=\"text-align: right;\">\n",
       "      <th></th>\n",
       "      <th>values</th>\n",
       "    </tr>\n",
       "  </thead>\n",
       "  <tbody>\n",
       "    <tr>\n",
       "      <th>x_earth</th>\n",
       "      <td>147000000000.0 meter</td>\n",
       "    </tr>\n",
       "    <tr>\n",
       "      <th>y_earth</th>\n",
       "      <td>0 meter</td>\n",
       "    </tr>\n",
       "    <tr>\n",
       "      <th>vx_earth</th>\n",
       "      <td>0.0 meter / second</td>\n",
       "    </tr>\n",
       "    <tr>\n",
       "      <th>vy_earth</th>\n",
       "      <td>-30330.0 meter / second</td>\n",
       "    </tr>\n",
       "    <tr>\n",
       "      <th>x_asteroid</th>\n",
       "      <td>294000000000.0 meter</td>\n",
       "    </tr>\n",
       "    <tr>\n",
       "      <th>y_asteroid</th>\n",
       "      <td>0 meter</td>\n",
       "    </tr>\n",
       "    <tr>\n",
       "      <th>vx_asteroid</th>\n",
       "      <td>0.0 meter / second</td>\n",
       "    </tr>\n",
       "    <tr>\n",
       "      <th>vy_asteroid</th>\n",
       "      <td>15870.0 meter / second</td>\n",
       "    </tr>\n",
       "  </tbody>\n",
       "</table>\n",
       "</div>"
      ],
      "text/plain": [
       "x_earth           147000000000.0 meter\n",
       "y_earth                        0 meter\n",
       "vx_earth            0.0 meter / second\n",
       "vy_earth       -30330.0 meter / second\n",
       "x_asteroid        294000000000.0 meter\n",
       "y_asteroid                     0 meter\n",
       "vx_asteroid         0.0 meter / second\n",
       "vy_asteroid     15870.0 meter / second\n",
       "dtype: object"
      ]
     },
     "execution_count": 174,
     "metadata": {},
     "output_type": "execute_result"
    }
   ],
   "source": [
    "# And an inition condition (with everything in SI units)\n",
    "\n",
    "r_0 = 147e9 * m\n",
    "\n",
    "# asteroid is two times the distance from earth to sun\n",
    "init_x_asteroid = 147e9 * 2 * m\n",
    "init_y_asteroid = 0 * m\n",
    "\n",
    "init = State(x_earth=r_0,\n",
    "             y_earth=0 * m,\n",
    "             vx_earth=0 * m / s,\n",
    "             vy_earth=-30330 * m / s,\n",
    "             x_asteroid=xinit_asteroid,\n",
    "             y_asteroid=yinit_asteroid,\n",
    "             vx_asteroid=0 * m / s,\n",
    "             vy_asteroid=15.87e3 * m / s)"
   ]
  },
  {
   "cell_type": "code",
   "execution_count": 175,
   "metadata": {},
   "outputs": [
    {
     "data": {
      "text/html": [
       "<div>\n",
       "<style scoped>\n",
       "    .dataframe tbody tr th:only-of-type {\n",
       "        vertical-align: middle;\n",
       "    }\n",
       "\n",
       "    .dataframe tbody tr th {\n",
       "        vertical-align: top;\n",
       "    }\n",
       "\n",
       "    .dataframe thead th {\n",
       "        text-align: right;\n",
       "    }\n",
       "</style>\n",
       "<table border=\"1\" class=\"dataframe\">\n",
       "  <thead>\n",
       "    <tr style=\"text-align: right;\">\n",
       "      <th></th>\n",
       "      <th>values</th>\n",
       "    </tr>\n",
       "  </thead>\n",
       "  <tbody>\n",
       "    <tr>\n",
       "      <th>init</th>\n",
       "      <td>x_earth           147000000000.0 meter\n",
       "y_earth...</td>\n",
       "    </tr>\n",
       "    <tr>\n",
       "      <th>G</th>\n",
       "      <td>6.674e-11 meter ** 2 * newton / kilogram ** 2</td>\n",
       "    </tr>\n",
       "    <tr>\n",
       "      <th>m_sun</th>\n",
       "      <td>1.989e+30 kilogram</td>\n",
       "    </tr>\n",
       "    <tr>\n",
       "      <th>m_earth</th>\n",
       "      <td>5.972e+24 kilogram</td>\n",
       "    </tr>\n",
       "    <tr>\n",
       "      <th>m_asteroid</th>\n",
       "      <td>3200000000.0 kilogram</td>\n",
       "    </tr>\n",
       "    <tr>\n",
       "      <th>r_earth</th>\n",
       "      <td>6371000.0 meter</td>\n",
       "    </tr>\n",
       "    <tr>\n",
       "      <th>r_asteroid</th>\n",
       "      <td>236.0 meter</td>\n",
       "    </tr>\n",
       "    <tr>\n",
       "      <th>dis_init_asteroid</th>\n",
       "      <td>[294000000000.0 meter, 0.0 meter]</td>\n",
       "    </tr>\n",
       "    <tr>\n",
       "      <th>t_0</th>\n",
       "      <td>0 second</td>\n",
       "    </tr>\n",
       "    <tr>\n",
       "      <th>t_end</th>\n",
       "      <td>2 year</td>\n",
       "    </tr>\n",
       "  </tbody>\n",
       "</table>\n",
       "</div>"
      ],
      "text/plain": [
       "init                 x_earth           147000000000.0 meter\n",
       "y_earth...\n",
       "G                        6.674e-11 meter ** 2 * newton / kilogram ** 2\n",
       "m_sun                                               1.989e+30 kilogram\n",
       "m_earth                                             5.972e+24 kilogram\n",
       "m_asteroid                                       3200000000.0 kilogram\n",
       "r_earth                                                6371000.0 meter\n",
       "r_asteroid                                                 236.0 meter\n",
       "dis_init_asteroid                    [294000000000.0 meter, 0.0 meter]\n",
       "t_0                                                           0 second\n",
       "t_end                                                           2 year\n",
       "dtype: object"
      ]
     },
     "execution_count": 175,
     "metadata": {},
     "output_type": "execute_result"
    }
   ],
   "source": [
    "# Making a system object\n",
    "\n",
    "# displacement from initial position of asteroid to the sun\n",
    "dis_init_asteroid = Vector(init_x_asteroid, init_y_asteroid)\n",
    "\n",
    "system = System(init=init,\n",
    "                G=6.674e-11 * N / kg**2 * m**2,\n",
    "                m_sun=1.989e30 * kg,\n",
    "                m_earth=5.972e24 * kg,\n",
    "                m_asteroid=3.2e9 * kg,\n",
    "                r_earth=6.371e6 * m,\n",
    "                r_asteroid=0.472e3 / 2 * m,\n",
    "                dis_init_asteroid=dis_init_asteroid,\n",
    "                t_0=0 * s,\n",
    "                t_end=2 * UNITS.year)"
   ]
  },
  {
   "cell_type": "code",
   "execution_count": 176,
   "metadata": {},
   "outputs": [],
   "source": [
    "# Here's a function that computes the force of gravity\n",
    "\n",
    "def universal_gravitation(state, system):\n",
    "    \"\"\"Computes gravitational force.\n",
    "    \n",
    "    state: State object with distance r\n",
    "    system: System object with m1, m2, and G\n",
    "    \"\"\"\n",
    "    x_earth, y_earth, vx_earth, vy_earth, x_asteroid, y_asteroid, vx_asteroid, vy_asteroid = state\n",
    "    unpack(system)\n",
    "    \n",
    "    displacement = Vector(x_earth, y_earth)\n",
    "    \n",
    "    force = G * m_sun * m_earth / displacement.mag**2\n",
    "\n",
    "    return displacement.hat() * force "
   ]
  },
  {
   "cell_type": "code",
   "execution_count": 177,
   "metadata": {},
   "outputs": [
    {
     "data": {
      "text/html": [
       "\\[\\begin{pmatrix}3.6686485997501037e+22 & 0.0\\end{pmatrix} newton\\]"
      ],
      "text/latex": [
       "$\\begin{pmatrix}3.6686485997501037e+22 & 0.0\\end{pmatrix}\\ \\mathrm{newton}$"
      ],
      "text/plain": [
       "<Quantity([3.6686486e+22 0.0000000e+00], 'newton')>"
      ]
     },
     "execution_count": 177,
     "metadata": {},
     "output_type": "execute_result"
    }
   ],
   "source": [
    "universal_gravitation(init, system)"
   ]
  },
  {
   "cell_type": "code",
   "execution_count": 178,
   "metadata": {},
   "outputs": [],
   "source": [
    "def get_displacement(a, b):\n",
    "    \"\"\"Returns the displacement between two vector objects\n",
    "    \n",
    "    a: object 1\n",
    "    b: object 2 \n",
    "    \n",
    "    returns: displacement between objects\n",
    "    \"\"\"\n",
    "    return a - b"
   ]
  },
  {
   "cell_type": "code",
   "execution_count": 179,
   "metadata": {},
   "outputs": [],
   "source": [
    "def force_on_asteroid(state, system):\n",
    "    x_earth, y_earth, vx_earth, vy_earth, x_asteroid, y_asteroid, vx_asteroid, vy_asteroid = state\n",
    "    unpack(system)\n",
    "    \n",
    "    displacement_s_e = Vector(x_earth, y_earth)\n",
    "    displacement_s_a = Vector(x_asteroid, y_asteroid)\n",
    "    \n",
    "    # Get distance between earth and asteroid\n",
    "    displacement_e_a = get_displacement(displacement_s_e, displacement_s_a)\n",
    "    \n",
    "    force_sun = displacement_s_a.hat() * (G * m_sun * m_asteroid / displacement_s_a.mag**2)\n",
    "    force_earth = displacement_e_a.hat() * (G * m_earth * m_asteroid / displacement_e_a.mag**2)\n",
    "    \n",
    "    return force_sun + force_earth"
   ]
  },
  {
   "cell_type": "code",
   "execution_count": 180,
   "metadata": {},
   "outputs": [],
   "source": [
    "# The slope function\n",
    "\n",
    "def slope_func(state, t, system):\n",
    "    x_earth, y_earth, vx_earth, vy_earth, x_asteroid, y_asteroid, vx_asteroid, vy_asteroid = state\n",
    "    unpack(system)    \n",
    "\n",
    "    force_earth = -universal_gravitation(state, system)\n",
    "    \n",
    "    dvxdt_earth = force_earth.x / m_earth\n",
    "    dvydt_earth = force_earth.y / m_earth\n",
    "    \n",
    "    force_asteroid = -force_on_asteroid(state, system)\n",
    "    \n",
    "    dvxdt_asteroid = force_asteroid.x / m_asteroid\n",
    "    dvydt_asteroid = force_asteroid.y / m_asteroid\n",
    "    \n",
    "    return vx_earth, vy_earth, dvxdt_earth, dvydt_earth, vx_asteroid, vy_asteroid, dvxdt_asteroid, dvydt_asteroid "
   ]
  },
  {
   "cell_type": "code",
   "execution_count": 181,
   "metadata": {},
   "outputs": [
    {
     "data": {
      "text/plain": [
       "(<Quantity(0.0, 'meter / second')>,\n",
       " <Quantity(-30330.0, 'meter / second')>,\n",
       " <Quantity(-0.006143082049146188, 'newton / kilogram')>,\n",
       " <Quantity(-0.0, 'newton / kilogram')>,\n",
       " <Quantity(0.0, 'meter / second')>,\n",
       " <Quantity(15870.0, 'meter / second')>,\n",
       " <Quantity(-0.00153575206759776, 'newton / kilogram')>,\n",
       " <Quantity(-0.0, 'newton / kilogram')>)"
      ]
     },
     "execution_count": 181,
     "metadata": {},
     "output_type": "execute_result"
    }
   ],
   "source": [
    "slope_func(init, 0, system)"
   ]
  },
  {
   "cell_type": "markdown",
   "metadata": {},
   "source": [
    "## Introduce Event Function to see if asteroid hits"
   ]
  },
  {
   "cell_type": "code",
   "execution_count": 182,
   "metadata": {},
   "outputs": [],
   "source": [
    "def event_func(state, t, system):\n",
    "    x_earth, y_earth, vx_earth, vy_earth, x_asteroid, y_asteroid, vx_asteroid, vy_asteroid = state\n",
    "    unpack(system)\n",
    "\n",
    "    result = 1\n",
    "\n",
    "    # Test if asteroid hits earth with radius into account \n",
    "    if get_displacement(Vector(x_earth, y_earth), Vector(x_asteroid, y_asteroid)).mag < (r_earth + r_asteroid):\n",
    "        print('HITS EARTH!! MAYDAY!')\n",
    "        result = 0\n",
    "    \n",
    "    return result"
   ]
  },
  {
   "cell_type": "code",
   "execution_count": 183,
   "metadata": {},
   "outputs": [],
   "source": [
    "results, details = run_ode_solver(system, slope_func, max_step=20*UNITS.day, events=event_func, method='RK23')"
   ]
  },
  {
   "cell_type": "code",
   "execution_count": 184,
   "metadata": {},
   "outputs": [
    {
     "data": {
      "text/html": [
       "<div>\n",
       "<style scoped>\n",
       "    .dataframe tbody tr th:only-of-type {\n",
       "        vertical-align: middle;\n",
       "    }\n",
       "\n",
       "    .dataframe tbody tr th {\n",
       "        vertical-align: top;\n",
       "    }\n",
       "\n",
       "    .dataframe thead th {\n",
       "        text-align: right;\n",
       "    }\n",
       "</style>\n",
       "<table border=\"1\" class=\"dataframe\">\n",
       "  <thead>\n",
       "    <tr style=\"text-align: right;\">\n",
       "      <th></th>\n",
       "      <th>values</th>\n",
       "    </tr>\n",
       "  </thead>\n",
       "  <tbody>\n",
       "    <tr>\n",
       "      <th>sol</th>\n",
       "      <td>None</td>\n",
       "    </tr>\n",
       "    <tr>\n",
       "      <th>t_events</th>\n",
       "      <td>[[]]</td>\n",
       "    </tr>\n",
       "    <tr>\n",
       "      <th>nfev</th>\n",
       "      <td>221</td>\n",
       "    </tr>\n",
       "    <tr>\n",
       "      <th>njev</th>\n",
       "      <td>0</td>\n",
       "    </tr>\n",
       "    <tr>\n",
       "      <th>nlu</th>\n",
       "      <td>0</td>\n",
       "    </tr>\n",
       "    <tr>\n",
       "      <th>status</th>\n",
       "      <td>0</td>\n",
       "    </tr>\n",
       "    <tr>\n",
       "      <th>message</th>\n",
       "      <td>The solver successfully reached the end of the...</td>\n",
       "    </tr>\n",
       "    <tr>\n",
       "      <th>success</th>\n",
       "      <td>True</td>\n",
       "    </tr>\n",
       "  </tbody>\n",
       "</table>\n",
       "</div>"
      ],
      "text/plain": [
       "sol                                                      None\n",
       "t_events                                                 [[]]\n",
       "nfev                                                      221\n",
       "njev                                                        0\n",
       "nlu                                                         0\n",
       "status                                                      0\n",
       "message     The solver successfully reached the end of the...\n",
       "success                                                  True\n",
       "dtype: object"
      ]
     },
     "execution_count": 184,
     "metadata": {},
     "output_type": "execute_result"
    }
   ],
   "source": [
    "details"
   ]
  },
  {
   "cell_type": "code",
   "execution_count": 185,
   "metadata": {},
   "outputs": [
    {
     "data": {
      "text/html": [
       "<div>\n",
       "<style scoped>\n",
       "    .dataframe tbody tr th:only-of-type {\n",
       "        vertical-align: middle;\n",
       "    }\n",
       "\n",
       "    .dataframe tbody tr th {\n",
       "        vertical-align: top;\n",
       "    }\n",
       "\n",
       "    .dataframe thead th {\n",
       "        text-align: right;\n",
       "    }\n",
       "</style>\n",
       "<table border=\"1\" class=\"dataframe\">\n",
       "  <thead>\n",
       "    <tr style=\"text-align: right;\">\n",
       "      <th></th>\n",
       "      <th>x_earth</th>\n",
       "      <th>y_earth</th>\n",
       "      <th>vx_earth</th>\n",
       "      <th>vy_earth</th>\n",
       "      <th>x_asteroid</th>\n",
       "      <th>y_asteroid</th>\n",
       "      <th>vx_asteroid</th>\n",
       "      <th>vy_asteroid</th>\n",
       "    </tr>\n",
       "  </thead>\n",
       "  <tbody>\n",
       "    <tr>\n",
       "      <th>5.711650e+07</th>\n",
       "      <td>4.215781e+10</td>\n",
       "      <td>1.427749e+11</td>\n",
       "      <td>28606.228800</td>\n",
       "      <td>-9065.393827</td>\n",
       "      <td>2.555993e+11</td>\n",
       "      <td>1.057194e+11</td>\n",
       "      <td>-10877.262938</td>\n",
       "      <td>13775.309750</td>\n",
       "    </tr>\n",
       "    <tr>\n",
       "      <th>5.846905e+07</th>\n",
       "      <td>7.885242e+10</td>\n",
       "      <td>1.254746e+11</td>\n",
       "      <td>25255.612345</td>\n",
       "      <td>-16456.996489</td>\n",
       "      <td>2.394172e+11</td>\n",
       "      <td>1.236943e+11</td>\n",
       "      <td>-13059.678189</td>\n",
       "      <td>12762.265072</td>\n",
       "    </tr>\n",
       "    <tr>\n",
       "      <th>6.012094e+07</th>\n",
       "      <td>1.155325e+11</td>\n",
       "      <td>9.194853e+10</td>\n",
       "      <td>18580.241147</td>\n",
       "      <td>-23876.497660</td>\n",
       "      <td>2.156242e+11</td>\n",
       "      <td>1.435249e+11</td>\n",
       "      <td>-15761.820128</td>\n",
       "      <td>11171.080703</td>\n",
       "    </tr>\n",
       "    <tr>\n",
       "      <th>6.184894e+07</th>\n",
       "      <td>1.400828e+11</td>\n",
       "      <td>4.599253e+10</td>\n",
       "      <td>9331.444213</td>\n",
       "      <td>-28826.614622</td>\n",
       "      <td>1.859300e+11</td>\n",
       "      <td>1.610408e+11</td>\n",
       "      <td>-18620.213412</td>\n",
       "      <td>8995.081968</td>\n",
       "    </tr>\n",
       "    <tr>\n",
       "      <th>6.311385e+07</th>\n",
       "      <td>1.471894e+11</td>\n",
       "      <td>8.422577e+09</td>\n",
       "      <td>1758.519180</td>\n",
       "      <td>-30250.951214</td>\n",
       "      <td>1.610551e+11</td>\n",
       "      <td>1.711935e+11</td>\n",
       "      <td>-20712.783840</td>\n",
       "      <td>6986.554844</td>\n",
       "    </tr>\n",
       "  </tbody>\n",
       "</table>\n",
       "</div>"
      ],
      "text/plain": [
       "                   x_earth       y_earth      vx_earth      vy_earth  \\\n",
       "5.711650e+07  4.215781e+10  1.427749e+11  28606.228800  -9065.393827   \n",
       "5.846905e+07  7.885242e+10  1.254746e+11  25255.612345 -16456.996489   \n",
       "6.012094e+07  1.155325e+11  9.194853e+10  18580.241147 -23876.497660   \n",
       "6.184894e+07  1.400828e+11  4.599253e+10   9331.444213 -28826.614622   \n",
       "6.311385e+07  1.471894e+11  8.422577e+09   1758.519180 -30250.951214   \n",
       "\n",
       "                x_asteroid    y_asteroid   vx_asteroid   vy_asteroid  \n",
       "5.711650e+07  2.555993e+11  1.057194e+11 -10877.262938  13775.309750  \n",
       "5.846905e+07  2.394172e+11  1.236943e+11 -13059.678189  12762.265072  \n",
       "6.012094e+07  2.156242e+11  1.435249e+11 -15761.820128  11171.080703  \n",
       "6.184894e+07  1.859300e+11  1.610408e+11 -18620.213412   8995.081968  \n",
       "6.311385e+07  1.610551e+11  1.711935e+11 -20712.783840   6986.554844  "
      ]
     },
     "execution_count": 185,
     "metadata": {},
     "output_type": "execute_result"
    }
   ],
   "source": [
    "results.tail()"
   ]
  },
  {
   "cell_type": "code",
   "execution_count": 186,
   "metadata": {},
   "outputs": [],
   "source": [
    "# Scaling the time steps to days\n",
    "results.index /= 60 * 60 * 24"
   ]
  },
  {
   "cell_type": "code",
   "execution_count": 187,
   "metadata": {},
   "outputs": [],
   "source": [
    "# Scaling the distance to million km\n",
    "x_earth = results.x_earth / 1e9;\n",
    "y_earth = results.y_earth / 1e9;"
   ]
  },
  {
   "cell_type": "code",
   "execution_count": 188,
   "metadata": {},
   "outputs": [
    {
     "data": {
      "image/png": "[encoded data removed]",
      "text/plain": [
       "<Figure size 432x288 with 1 Axes>"
      ]
     },
     "metadata": {},
     "output_type": "display_data"
    }
   ],
   "source": [
    "plot(x_earth, label='x')\n",
    "plot(y_earth, label='y')\n",
    "\n",
    "decorate(xlabel='Time (day)',\n",
    "         ylabel='Distance from sun (million km)')"
   ]
  },
  {
   "cell_type": "code",
   "execution_count": 189,
   "metadata": {},
   "outputs": [],
   "source": [
    "#Scaling the distance to million km\n",
    "x_asteroid = results.x_asteroid / 1e9;\n",
    "y_asteroid = results.y_asteroid / 1e9;"
   ]
  },
  {
   "cell_type": "code",
   "execution_count": 190,
   "metadata": {},
   "outputs": [
    {
     "data": {
      "image/png": "[encoded data removed]",
      "text/plain": [
       "<Figure size 432x288 with 1 Axes>"
      ]
     },
     "metadata": {},
     "output_type": "display_data"
    }
   ],
   "source": [
    "plot(x_asteroid, label='x')\n",
    "plot(y_asteroid, label='y')\n",
    "\n",
    "decorate(xlabel='Time (day)',\n",
    "         ylabel='Distance from sun (million km)')"
   ]
  },
  {
   "cell_type": "code",
   "execution_count": 191,
   "metadata": {},
   "outputs": [
    {
     "data": {
      "image/png": "[encoded data removed]",
      "text/plain": [
       "<Figure size 432x288 with 1 Axes>"
      ]
     },
     "metadata": {},
     "output_type": "display_data"
    }
   ],
   "source": [
    "plot(x_earth, y_earth, label='earth')\n",
    "plot(x_asteroid, y_asteroid, label='asteroid')\n",
    "\n",
    "# Plot end points of earth and asteroid orbit\n",
    "plot(results.x_earth.values[-1] / 1e9, results.y_earth.values[-1] / 1e9, 'ob')\n",
    "plot(results.x_asteroid.values[-1] / 1e9, results.y_asteroid.values[-1] / 1e9, 'og')\n",
    "\n",
    "# Plot sun as a circle with realistic radius\n",
    "ax = plt.gca()\n",
    "\n",
    "# Plot realistic sun size\n",
    "# circle = patches.Circle((0,0), radius=.695, color='orange')\n",
    "\n",
    "circle = patches.Circle((0,0), radius=10, color='orange')\n",
    "elements = [circle]\n",
    "ax.add_patch(circle)\n",
    "\n",
    "decorate(xlabel='x (million km)',\n",
    "         ylabel='y (million km)',\n",
    "         loc='upper center')\n",
    "\n",
    "# Plot with equal aspect ratio\n",
    "ax.set_aspect('equal')"
   ]
  },
  {
   "cell_type": "code",
   "execution_count": 192,
   "metadata": {},
   "outputs": [
    {
     "data": {
      "text/html": [
       "730.4843975625 second"
      ],
      "text/latex": [
       "$730.4843975625\\ \\mathrm{second}$"
      ],
      "text/plain": [
       "<Quantity(730.4843975625, 'second')>"
      ]
     },
     "execution_count": 192,
     "metadata": {},
     "output_type": "execute_result"
    }
   ],
   "source": [
    "t_final = get_last_label(results) * s"
   ]
  },
  {
   "cell_type": "code",
   "execution_count": 193,
   "metadata": {},
   "outputs": [
    {
     "data": {
      "text/html": [
       "0.00845468052734375 day"
      ],
      "text/latex": [
       "$0.00845468052734375\\ \\mathrm{day}$"
      ],
      "text/plain": [
       "<Quantity(0.00845468052734375, 'day')>"
      ]
     },
     "execution_count": 193,
     "metadata": {},
     "output_type": "execute_result"
    }
   ],
   "source": [
    "t_final.to(UNITS.day)"
   ]
  },
  {
   "cell_type": "markdown",
   "metadata": {},
   "source": [
    "## Finding period"
   ]
  },
  {
   "cell_type": "code",
   "execution_count": 194,
   "metadata": {},
   "outputs": [],
   "source": [
    "distances = TimeSeries()\n",
    "# Flag to check if asteroid has left bounding box\n",
    "left_box = False\n",
    "\n",
    "def event_func_period(state, t, system):\n",
    "    global left_box\n",
    "    x_earth, y_earth, vx_earth, vy_earth, x_asteroid, y_asteroid, vx_asteroid, vy_asteroid = state\n",
    "    unpack(system)\n",
    "    print('Earth: (' + str(x_earth) + ', ' + str(y_earth) + ')', 'Asteroid: (' + str(x_asteroid) + ', ' + str(y_asteroid) + ')' )\n",
    "    \n",
    "    result = 1\n",
    "    \n",
    "    distance = get_displacement(Vector(x_asteroid, y_asteroid), dis_init_asteroid).mag\n",
    "    distances[str(t)] = distance\n",
    "    \n",
    "    # If asteroid is back within 100 km of it initial bounding box\n",
    "    if distance < 100e3:\n",
    "        if left_box:\n",
    "            print('################\\nIn bounding box of 100 km', 'Distance: ' + str(distance * UNITS.m) + '\\n################')\n",
    "            result = 0\n",
    "    elif not left_box:\n",
    "        print(\"################\\nAsteroid left bounding box. It's in orbit.\\n################\")\n",
    "        left_box = True\n",
    "    \n",
    "    return result"
   ]
  },
  {
   "cell_type": "code",
   "execution_count": 195,
   "metadata": {},
   "outputs": [
    {
     "name": "stdout",
     "output_type": "stream",
     "text": [
      "Earth: (147000000000.0, 0) Asteroid: (294000000000.0, 0)\n",
      "Earth: (147000000000.0, -0.0017720745419411387) Asteroid: (294000000000.0, 0.000927227925506293)\n",
      "Earth: (147000000000.0, -0.019492819961352527) Asteroid: (294000000000.0, 0.010199507180569223)\n",
      "Earth: (147000000000.0, -0.19670027415546637) Asteroid: (294000000000.0, 0.10292229973119853)\n",
      "Earth: (147000000000.0, -1.968774816096605) Asteroid: (294000000000.0, 1.0301502252374914)\n",
      "Earth: (147000000000.0, -19.689520235507995) Asteroid: (294000000000.0, 10.302429480300423)\n",
      "Earth: (147000000000.0, -196.89697442962188) Asteroid: (294000000000.0, 103.02522203092974)\n",
      "Earth: (147000000000.0, -1968.9715163707604) Asteroid: (294000000000.0, 1030.253147537223)\n",
      "Earth: (146999999999.99872, -19689.716935782086) Asteroid: (293999999999.9997, 10302.53240260015)\n",
      "Earth: (146999999999.87057, -196897.17112983819) Asteroid: (293999999999.96765, 103025.32495322569)\n",
      "################\n",
      "Asteroid left bounding box. It's in orbit.\n",
      "################\n",
      "Earth: (146999999987.05536, -1968971.7130132394) Asteroid: (293999999996.7639, 1030253.2504557427)\n",
      "Earth: (146999998705.5346, -19689717.07468728) Asteroid: (293999999676.3876, 10302532.501742596)\n",
      "Earth: (146999870553.5029, -196897113.5314822) Asteroid: (293999967638.7538, 103025321.27629371)\n",
      "Earth: (146987055795.72043, -1968913920.997973) Asteroid: (293996763881.1618, 1030249470.712184)\n",
      "Earth: (146115924195.65866, -16257674078.816093) Asteroid: (293778508430.6622, 8521667017.831411)\n",
      "Earth: (140247146457.30295, -44524172103.72473) Asteroid: (292293430167.95416, 23613347061.997963)\n",
      "Earth: (123219588488.21909, -81129708773.1695) Asteroid: (287852794790.40906, 44572807189.927345)\n",
      "Earth: (89954059273.0508, -117899234561.49597) Asteroid: (278556749014.9569, 69828366773.73222)\n",
      "Earth: (44606316686.66794 dimensionless, -142475064389.23895 dimensionless) Asteroid: (264267924612.77036 dimensionless, 95107747625.8316 dimensionless)\n",
      "Earth: (4576935143.804146 dimensionless, -149997203760.81418 dimensionless) Asteroid: (249571700212.01782 dimensionless, 113972726198.91855 dimensionless)\n",
      "Earth: (-36052842659.309204 dimensionless, -146454023230.77615 dimensionless) Asteroid: (231737773165.43118 dimensionless, 131565246704.82097 dimensionless)\n",
      "Earth: (-74050571590.124 dimensionless, -132183172956.68208 dimensionless) Asteroid: (210810978228.9413 dimensionless, 147396062203.74158 dimensionless)\n",
      "Earth: (-112603161159.83524 dimensionless, -102445945424.12752 dimensionless) Asteroid: (181402606838.60385 dimensionless, 163530926816.93094 dimensionless)\n",
      "Earth: (-140282952291.5307 dimensionless, -60406625297.79214 dimensionless) Asteroid: (146038157120.6494 dimensionless, 175878975180.15494 dimensionless)\n",
      "Earth: (-151831252187.01114 dimensionless, -17856203135.81617 dimensionless) Asteroid: (111043562433.56302 dimensionless, 181930591800.62872 dimensionless)\n",
      "Earth: (-152057787311.8688 dimensionless, 14846260518.189693 dimensionless) Asteroid: (82858135755.6695 dimensionless, 182779271484.64322 dimensionless)\n",
      "Earth: (-145176518874.72232 dimensionless, 46854604332.99133 dimensionless) Asteroid: (52971790667.33429 dimensionless, 179835263269.5928 dimensionless)\n",
      "Earth: (-127785454744.12158 dimensionless, 82555806767.28653 dimensionless) Asteroid: (15056024729.183327 dimensionless, 170067140363.3789 dimensionless)\n",
      "Earth: (-101648129824.88234 dimensionless, 112429063745.6291 dimensionless) Asteroid: (-23370660556.2294 dimensionless, 151996145941.27493 dimensionless)\n",
      "Earth: (-68440121910.07802 dimensionless, 134475884120.11719 dimensionless) Asteroid: (-60099608396.16302 dimensionless, 123803026869.09906 dimensionless)\n",
      "Earth: (-30410105420.06511 dimensionless, 147037523038.46 dimensionless) Asteroid: (-91074360318.04965 dimensionless, 84248546928.3765 dimensionless)\n",
      "Earth: (270848201.0208397 dimensionless, 149546009408.85052 dimensionless) Asteroid: (-107222463211.2481 dimensionless, 46814526153.44289 dimensionless)\n",
      "Earth: (24357996371.929333 dimensionless, 147073200978.27515 dimensionless) Asteroid: (-113372910632.6453 dimensionless, 14513609374.7706 dimensionless)\n",
      "Earth: (41474111981.595375 dimensionless, 142847130560.9119 dimensionless) Asteroid: (-113729893499.62157 dimensionless, -9557707842.83022 dimensionless)\n",
      "Earth: (58011102372.75903 dimensionless, 136627238624.1401 dimensionless) Asteroid: (-110588804748.02599 dimensionless, -33336896971.41405 dimensionless)\n",
      "Earth: (77422461547.21017 dimensionless, 126223721831.93799 dimensionless) Asteroid: (-102145819057.29767 dimensionless, -61484403044.25056 dimensionless)\n",
      "Earth: (101046221780.90424 dimensionless, 107688272744.977 dimensionless) Asteroid: (-83999643802.07294 dimensionless, -95589607196.32924 dimensionless)\n",
      "Earth: (124191281121.43309 dimensionless, 79261160003.03416 dimensionless) Asteroid: (-54828199999.587494 dimensionless, -128996963130.08563 dimensionless)\n",
      "Earth: (140215258073.92618 dimensionless, 44643185207.25497 dimensionless) Asteroid: (-20302445771.88481 dimensionless, -154072184922.3176 dimensionless)\n",
      "Earth: (146795350194.81808 dimensionless, 10106945619.675331 dimensionless) Asteroid: (12641930723.17162 dimensionless, -169439185588.33237 dimensionless)\n",
      "Earth: (145159176557.10782 dimensionless, -24996310381.661743 dimensionless) Asteroid: (45173396498.56011 dimensionless, -178597987199.84366 dimensionless)\n",
      "Earth: (135422623686.9208 dimensionless, -58707041516.98921 dimensionless) Asteroid: (76438873669.37947 dimensionless, -182618128175.17853 dimensionless)\n",
      "Earth: (113768786927.89015 dimensionless, -94939270861.16888 dimensionless) Asteroid: (111836422016.01483 dimensionless, -181905935625.15704 dimensionless)\n",
      "Earth: (83032711826.16415 dimensionless, -123604083229.63394 dimensionless) Asteroid: (144250253827.39633 dimensionless, -176284617634.1712 dimensionless)\n",
      "Earth: (36994981085.35385 dimensionless, -145342716300.98468 dimensionless) Asteroid: (179486877777.03833 dimensionless, -164207940840.7272 dimensionless)\n",
      "Earth: (-1111907100.7075348 dimensionless, -150732371791.9955 dimensionless) Asteroid: (203005294982.1861 dimensionless, -151989971636.62134 dimensionless)\n",
      "Earth: (-39387795538.89907 dimensionless, -146246349188.92505 dimensionless) Asteroid: (223855873479.08844 dimensionless, -137579538424.97888 dimensionless)\n",
      "Earth: (-75504199101.22519 dimensionless, -132033336554.02094 dimensionless) Asteroid: (242100396881.86075 dimensionless, -121243725412.44826 dimensionless)\n",
      "Earth: (-114200536373.95798 dimensionless, -101507169374.41805 dimensionless) Asteroid: (261290319188.6124 dimensionless, -98349489456.00964 dimensionless)\n",
      "Earth: (-141302629487.03278 dimensionless, -59245897657.731995 dimensionless) Asteroid: (276204354621.6583 dimensionless, -73163844385.74919 dimensionless)\n",
      "Earth: (-152954138728.37103 dimensionless, -10497329283.04097 dimensionless) Asteroid: (286422677707.09924 dimensionless, -46729374003.34004 dimensionless)\n",
      "Earth: (-150326480782.57376 dimensionless, 28942456860.335762 dimensionless) Asteroid: (291192537304.42725 dimensionless, -25365785420.601517 dimensionless)\n",
      "Earth: (-137462790430.22638 dimensionless, 66410243902.68985 dimensionless) Asteroid: (293098512900.30164 dimensionless, -3752141120.7687073 dimensionless)\n",
      "Earth: (-109841983926.16238 dimensionless, 105052315886.73245 dimensionless) Asteroid: (291626856335.0766 dimensionless, 22124801513.05534 dimensionless)\n",
      "Earth: (-68647687108.34009 dimensionless, 134624328577.38362 dimensionless) Asteroid: (285577275054.86163 dimensionless, 49268789717.8867 dimensionless)\n",
      "Earth: (-19647412154.746742 dimensionless, 148860793201.89246 dimensionless) Asteroid: (274875105873.90424 dimensionless, 75607362783.76138 dimensionless)\n",
      "Earth: (11505841556.871918 dimensionless, 149049585630.5885 dimensionless) Asteroid: (266107069631.31998 dimensionless, 90961146122.76721 dimensionless)\n",
      "Earth: (42157814944.21387 dimensionless, 142774907223.1952 dimensionless) Asteroid: (255599256911.61774 dimensionless, 105719350440.84113 dimensionless)\n",
      "Earth: (78852422061.68643 dimensionless, 125474573084.90082 dimensionless) Asteroid: (239417198388.48425 dimensionless, 123694330208.59671 dimensionless)\n",
      "Earth: (115532482455.61649 dimensionless, 91948532337.73236 dimensionless) Asteroid: (215624155386.14246 dimensionless, 143524913652.85797 dimensionless)\n",
      "Earth: (140082802550.18527 dimensionless, 45992533420.34324 dimensionless) Asteroid: (185929986970.45407 dimensionless, 161040837761.81577 dimensionless)\n",
      "Earth: (147189438861.0274 dimensionless, 8422577064.5308 dimensionless) Asteroid: (161055104096.57123 dimensionless, 171193504048.45474 dimensionless)\n"
     ]
    }
   ],
   "source": [
    "results, details = run_ode_solver(system, slope_func, max_step=20*UNITS.day, events=event_func_period, method='RK23')"
   ]
  },
  {
   "cell_type": "code",
   "execution_count": 196,
   "metadata": {},
   "outputs": [
    {
     "data": {
      "text/plain": [
       "modsim.TimeSeries"
      ]
     },
     "execution_count": 196,
     "metadata": {},
     "output_type": "execute_result"
    }
   ],
   "source": [
    "type(distances)"
   ]
  },
  {
   "cell_type": "code",
   "execution_count": 198,
   "metadata": {},
   "outputs": [
    {
     "data": {
      "text/plain": [
       "[<matplotlib.lines.Line2D at 0x1acc5f4a6d8>]"
      ]
     },
     "execution_count": 198,
     "metadata": {},
     "output_type": "execute_result"
    },
    {
     "data": {
      "image/png": "[encoded data removed]",
      "text/plain": [
       "<Figure size 432x288 with 1 Axes>"
      ]
     },
     "metadata": {},
     "output_type": "display_data"
    }
   ],
   "source": [
    "plot(distances)"
   ]
  },
  {
   "cell_type": "code",
   "execution_count": 29,
   "metadata": {},
   "outputs": [
    {
     "data": {
      "text/html": [
       "<div>\n",
       "<style scoped>\n",
       "    .dataframe tbody tr th:only-of-type {\n",
       "        vertical-align: middle;\n",
       "    }\n",
       "\n",
       "    .dataframe tbody tr th {\n",
       "        vertical-align: top;\n",
       "    }\n",
       "\n",
       "    .dataframe thead th {\n",
       "        text-align: right;\n",
       "    }\n",
       "</style>\n",
       "<table border=\"1\" class=\"dataframe\">\n",
       "  <thead>\n",
       "    <tr style=\"text-align: right;\">\n",
       "      <th></th>\n",
       "      <th>values</th>\n",
       "    </tr>\n",
       "  </thead>\n",
       "  <tbody>\n",
       "    <tr>\n",
       "      <th>sol</th>\n",
       "      <td>None</td>\n",
       "    </tr>\n",
       "    <tr>\n",
       "      <th>t_events</th>\n",
       "      <td>[[]]</td>\n",
       "    </tr>\n",
       "    <tr>\n",
       "      <th>nfev</th>\n",
       "      <td>308</td>\n",
       "    </tr>\n",
       "    <tr>\n",
       "      <th>njev</th>\n",
       "      <td>0</td>\n",
       "    </tr>\n",
       "    <tr>\n",
       "      <th>nlu</th>\n",
       "      <td>0</td>\n",
       "    </tr>\n",
       "    <tr>\n",
       "      <th>status</th>\n",
       "      <td>0</td>\n",
       "    </tr>\n",
       "    <tr>\n",
       "      <th>message</th>\n",
       "      <td>The solver successfully reached the end of the...</td>\n",
       "    </tr>\n",
       "    <tr>\n",
       "      <th>success</th>\n",
       "      <td>True</td>\n",
       "    </tr>\n",
       "  </tbody>\n",
       "</table>\n",
       "</div>"
      ],
      "text/plain": [
       "sol                                                      None\n",
       "t_events                                                 [[]]\n",
       "nfev                                                      308\n",
       "njev                                                        0\n",
       "nlu                                                         0\n",
       "status                                                      0\n",
       "message     The solver successfully reached the end of the...\n",
       "success                                                  True\n",
       "dtype: object"
      ]
     },
     "execution_count": 29,
     "metadata": {},
     "output_type": "execute_result"
    }
   ],
   "source": [
    "details"
   ]
  },
  {
   "cell_type": "code",
   "execution_count": 30,
   "metadata": {},
   "outputs": [
    {
     "data": {
      "text/html": [
       "<div>\n",
       "<style scoped>\n",
       "    .dataframe tbody tr th:only-of-type {\n",
       "        vertical-align: middle;\n",
       "    }\n",
       "\n",
       "    .dataframe tbody tr th {\n",
       "        vertical-align: top;\n",
       "    }\n",
       "\n",
       "    .dataframe thead th {\n",
       "        text-align: right;\n",
       "    }\n",
       "</style>\n",
       "<table border=\"1\" class=\"dataframe\">\n",
       "  <thead>\n",
       "    <tr style=\"text-align: right;\">\n",
       "      <th></th>\n",
       "      <th>x_earth</th>\n",
       "      <th>y_earth</th>\n",
       "      <th>vx_earth</th>\n",
       "      <th>vy_earth</th>\n",
       "      <th>x_asteroid</th>\n",
       "      <th>y_asteroid</th>\n",
       "      <th>vx_asteroid</th>\n",
       "      <th>vy_asteroid</th>\n",
       "    </tr>\n",
       "  </thead>\n",
       "  <tbody>\n",
       "    <tr>\n",
       "      <th>5.767318e+07</th>\n",
       "      <td>6.230624e+10</td>\n",
       "      <td>1.348781e+11</td>\n",
       "      <td>27029.886080</td>\n",
       "      <td>-13042.027555</td>\n",
       "      <td>2.497856e+11</td>\n",
       "      <td>1.133169e+11</td>\n",
       "      <td>-11749.364539</td>\n",
       "      <td>13346.075835</td>\n",
       "    </tr>\n",
       "    <tr>\n",
       "      <th>5.940118e+07</th>\n",
       "      <td>1.043227e+11</td>\n",
       "      <td>1.046825e+11</td>\n",
       "      <td>21089.806711</td>\n",
       "      <td>-21573.425723</td>\n",
       "      <td>2.270704e+11</td>\n",
       "      <td>1.351756e+11</td>\n",
       "      <td>-14549.143118</td>\n",
       "      <td>11883.394026</td>\n",
       "    </tr>\n",
       "    <tr>\n",
       "      <th>6.112918e+07</th>\n",
       "      <td>1.336537e+11</td>\n",
       "      <td>6.177836e+10</td>\n",
       "      <td>12492.136114</td>\n",
       "      <td>-27583.076481</td>\n",
       "      <td>1.994795e+11</td>\n",
       "      <td>1.541158e+11</td>\n",
       "      <td>-17390.492324</td>\n",
       "      <td>9950.429626</td>\n",
       "    </tr>\n",
       "    <tr>\n",
       "      <th>6.285718e+07</th>\n",
       "      <td>1.465640e+11</td>\n",
       "      <td>1.129381e+10</td>\n",
       "      <td>2286.739830</td>\n",
       "      <td>-30242.688155</td>\n",
       "      <td>1.669580e+11</td>\n",
       "      <td>1.692200e+11</td>\n",
       "      <td>-20249.369248</td>\n",
       "      <td>7417.803235</td>\n",
       "    </tr>\n",
       "    <tr>\n",
       "      <th>6.311385e+07</th>\n",
       "      <td>1.469489e+11</td>\n",
       "      <td>3.519466e+09</td>\n",
       "      <td>712.063654</td>\n",
       "      <td>-30322.159293</td>\n",
       "      <td>1.617063e+11</td>\n",
       "      <td>1.710681e+11</td>\n",
       "      <td>-20672.313758</td>\n",
       "      <td>6979.857781</td>\n",
       "    </tr>\n",
       "  </tbody>\n",
       "</table>\n",
       "</div>"
      ],
      "text/plain": [
       "                   x_earth       y_earth      vx_earth      vy_earth  \\\n",
       "5.767318e+07  6.230624e+10  1.348781e+11  27029.886080 -13042.027555   \n",
       "5.940118e+07  1.043227e+11  1.046825e+11  21089.806711 -21573.425723   \n",
       "6.112918e+07  1.336537e+11  6.177836e+10  12492.136114 -27583.076481   \n",
       "6.285718e+07  1.465640e+11  1.129381e+10   2286.739830 -30242.688155   \n",
       "6.311385e+07  1.469489e+11  3.519466e+09    712.063654 -30322.159293   \n",
       "\n",
       "                x_asteroid    y_asteroid   vx_asteroid   vy_asteroid  \n",
       "5.767318e+07  2.497856e+11  1.133169e+11 -11749.364539  13346.075835  \n",
       "5.940118e+07  2.270704e+11  1.351756e+11 -14549.143118  11883.394026  \n",
       "6.112918e+07  1.994795e+11  1.541158e+11 -17390.492324   9950.429626  \n",
       "6.285718e+07  1.669580e+11  1.692200e+11 -20249.369248   7417.803235  \n",
       "6.311385e+07  1.617063e+11  1.710681e+11 -20672.313758   6979.857781  "
      ]
     },
     "execution_count": 30,
     "metadata": {},
     "output_type": "execute_result"
    }
   ],
   "source": [
    "results.tail()"
   ]
  },
  {
   "cell_type": "code",
   "execution_count": 287,
   "metadata": {},
   "outputs": [
    {
     "data": {
      "text/html": [
       "63113851.9494 second"
      ],
      "text/latex": [
       "$63113851.9494\\ \\mathrm{second}$"
      ],
      "text/plain": [
       "<Quantity(63113851.9494, 'second')>"
      ]
     },
     "execution_count": 287,
     "metadata": {},
     "output_type": "execute_result"
    }
   ],
   "source": [
    "t_final = get_last_label(results) * s"
   ]
  },
  {
   "cell_type": "code",
   "execution_count": 288,
   "metadata": {},
   "outputs": [
    {
     "data": {
      "text/html": [
       "730.4843975624999 day"
      ],
      "text/latex": [
       "$730.4843975624999\\ \\mathrm{day}$"
      ],
      "text/plain": [
       "<Quantity(730.4843975624999, 'day')>"
      ]
     },
     "execution_count": 288,
     "metadata": {},
     "output_type": "execute_result"
    }
   ],
   "source": [
    "t_final.to(UNITS.day)"
   ]
  },
  {
   "cell_type": "code",
   "execution_count": 289,
   "metadata": {},
   "outputs": [],
   "source": [
    "x_asteroid = results.x_asteroid / 1e9;\n",
    "y_asteroid = results.y_asteroid / 1e9;"
   ]
  },
  {
   "cell_type": "code",
   "execution_count": 290,
   "metadata": {},
   "outputs": [
    {
     "data": {
      "image/png": "[encoded data removed]",
      "text/plain": [
       "<Figure size 432x288 with 1 Axes>"
      ]
     },
     "metadata": {},
     "output_type": "display_data"
    }
   ],
   "source": [
    "plot(x_asteroid, label='x')\n",
    "plot(y_asteroid, label='y')\n",
    "\n",
    "decorate(xlabel='Time (day)',\n",
    "         ylabel='Distance from sun (million km)')"
   ]
  },
  {
   "cell_type": "code",
   "execution_count": 291,
   "metadata": {},
   "outputs": [
    {
     "data": {
      "image/png": "[encoded data removed]",
      "text/plain": [
       "<Figure size 432x288 with 1 Axes>"
      ]
     },
     "metadata": {},
     "output_type": "display_data"
    }
   ],
   "source": [
    "# And plotting\n",
    "\n",
    "plot(x_earth, y_earth, label='earth')\n",
    "plot(x_asteroid, y_asteroid, label='asteroid')\n",
    "\n",
    "# Plot end points of earth and asteroid orbit\n",
    "plot(results.x_earth.values[-1] / 1e9, results.y_earth.values[-1] / 1e9, 'ob')\n",
    "plot(results.x_asteroid.values[-1] / 1e9, results.y_asteroid.values[-1] / 1e9, 'og')\n",
    "\n",
    "# Plot sun as a circle with realistic radius\n",
    "ax = plt.gca()\n",
    "\n",
    "# Plot realistic sun size\n",
    "# circle = patches.Circle((0,0), radius=.695, color='orange')\n",
    "\n",
    "circle = patches.Circle((0,0), radius=10, color='orange')\n",
    "elements = [circle]\n",
    "ax.add_patch(circle)\n",
    "\n",
    "decorate(xlabel='x (million km)',\n",
    "         ylabel='y (million km)',\n",
    "         loc='upper center')\n",
    "\n",
    "# Plot with equal aspect ratio\n",
    "ax.set_aspect('equal')"
   ]
  },
  {
   "cell_type": "code",
   "execution_count": null,
   "metadata": {},
   "outputs": [],
   "source": []
  },
  {
   "cell_type": "code",
   "execution_count": null,
   "metadata": {},
   "outputs": [],
   "source": []
  }
 ],
 "metadata": {
  "kernelspec": {
   "display_name": "Python 3",
   "language": "python",
   "name": "python3"
  },
  "language_info": {
   "codemirror_mode": {
    "name": "ipython",
    "version": 3
   },
   "file_extension": ".py",
   "mimetype": "text/x-python",
   "name": "python",
   "nbconvert_exporter": "python",
   "pygments_lexer": "ipython3",
   "version": "3.6.5"
  }
 },
 "nbformat": 4,
 "nbformat_minor": 2
}
