{
 "cells": [
  {
   "cell_type": "markdown",
   "metadata": {},
   "source": [
    "# Gravity Tractor\n",
    "\n",
    "Richard Gao & James Ho\n"
   ]
  },
  {
   "cell_type": "markdown",
   "metadata": {},
   "source": [
    "### Project Overview\n",
    "\n",
    "Nasa has been tracking near earth objects, or NEOs, in case any body is on a collision course with Earth. Nasa has also developed a variety of deflection methods to change the trajectory of asteroids so that they miss Earth. One of these methods is called the gravity tractor. While the asteroid in question is sigificantly far away from Earth, a space ship would be sent to orbit on one side of it a fixed distance away. The gravitational force, while small, would be enough to deflect the asteroid off of its collision course with Earth. \n",
    "\n",
    "In this project, we model asteroid [410777](https://cneos.jpl.nasa.gov/sentry/details.html#?des=410777), a real asteroid with a relatively high probability of colliding with Earth. \n",
    "\n",
    "### Question\n",
    "Using the largest [ion-thruster](https://www.nasa.gov/multimedia/imagegallery/image_feature_2416.html) we have today, would we be able to deflect this asteroid using the gravity tractor method?"
   ]
  },
  {
   "cell_type": "markdown",
   "metadata": {},
   "source": [
    "### Assumptions\n",
    "\n",
    "- Spaceship has enough ionic fuel to keep from crashing into the asteroid indefinitely.\n",
    "- Spaceship is abstracted to a constant force of 5.4 N acting on the asteroid.\n",
    "- We are abstracting the 3D motion to 2D by assuming that the tractor is applying an average force in one direction.\n",
    "- Sun is not affected by other masses\n",
    "- Earth is only affected by Sun\n",
    "- Asteroid is affected by Earth, Sun and spaceship\n",
    "- Using Newtons Laws of motion, does not account for gravitational shifts. "
   ]
  },
  {
   "cell_type": "markdown",
   "metadata": {},
   "source": [
    "### Model Implementation"
   ]
  },
  {
   "cell_type": "code",
   "execution_count": 1,
   "metadata": {},
   "outputs": [],
   "source": [
    "# Configure Jupyter so figures appear in the notebook\n",
    "%matplotlib inline\n",
    "\n",
    "# Configure Jupyter to display the assigned value after an assignment\n",
    "%config InteractiveShell.ast_node_interactivity='last_expr_or_assign'\n",
    "\n",
    "# import functions from the modsim.py module\n",
    "from modsim import *\n",
    "from matplotlib import patches\n",
    "import math"
   ]
  },
  {
   "cell_type": "code",
   "execution_count": 2,
   "metadata": {},
   "outputs": [],
   "source": [
    "# Define Units\n",
    "\n",
    "s = UNITS.second\n",
    "N = UNITS.newton\n",
    "kg = UNITS.kilogram\n",
    "m = UNITS.meter;"
   ]
  },
  {
   "cell_type": "markdown",
   "metadata": {},
   "source": [
    "Here we define our inital state which consists of the positional parameters of the Earth and Asteroid relative to the Sun. "
   ]
  },
  {
   "cell_type": "code",
   "execution_count": 3,
   "metadata": {},
   "outputs": [
    {
     "data": {
      "text/html": [
       "<div>\n",
       "<style scoped>\n",
       "    .dataframe tbody tr th:only-of-type {\n",
       "        vertical-align: middle;\n",
       "    }\n",
       "\n",
       "    .dataframe tbody tr th {\n",
       "        vertical-align: top;\n",
       "    }\n",
       "\n",
       "    .dataframe thead th {\n",
       "        text-align: right;\n",
       "    }\n",
       "</style>\n",
       "<table border=\"1\" class=\"dataframe\">\n",
       "  <thead>\n",
       "    <tr style=\"text-align: right;\">\n",
       "      <th></th>\n",
       "      <th>values</th>\n",
       "    </tr>\n",
       "  </thead>\n",
       "  <tbody>\n",
       "    <tr>\n",
       "      <th>x_earth</th>\n",
       "      <td>147000000000.0 meter</td>\n",
       "    </tr>\n",
       "    <tr>\n",
       "      <th>y_earth</th>\n",
       "      <td>0 meter</td>\n",
       "    </tr>\n",
       "    <tr>\n",
       "      <th>vx_earth</th>\n",
       "      <td>0.0 meter / second</td>\n",
       "    </tr>\n",
       "    <tr>\n",
       "      <th>vy_earth</th>\n",
       "      <td>-30330.0 meter / second</td>\n",
       "    </tr>\n",
       "    <tr>\n",
       "      <th>x_asteroid</th>\n",
       "      <td>294000000000.0 meter</td>\n",
       "    </tr>\n",
       "    <tr>\n",
       "      <th>y_asteroid</th>\n",
       "      <td>0 meter</td>\n",
       "    </tr>\n",
       "    <tr>\n",
       "      <th>vx_asteroid</th>\n",
       "      <td>0.0 meter / second</td>\n",
       "    </tr>\n",
       "    <tr>\n",
       "      <th>vy_asteroid</th>\n",
       "      <td>15870.0 meter / second</td>\n",
       "    </tr>\n",
       "  </tbody>\n",
       "</table>\n",
       "</div>"
      ],
      "text/plain": [
       "x_earth           147000000000.0 meter\n",
       "y_earth                        0 meter\n",
       "vx_earth            0.0 meter / second\n",
       "vy_earth       -30330.0 meter / second\n",
       "x_asteroid        294000000000.0 meter\n",
       "y_asteroid                     0 meter\n",
       "vx_asteroid         0.0 meter / second\n",
       "vy_asteroid     15870.0 meter / second\n",
       "dtype: object"
      ]
     },
     "execution_count": 3,
     "metadata": {},
     "output_type": "execute_result"
    }
   ],
   "source": [
    "r_0 = 147e9 * m\n",
    "\n",
    "# asteroid is two times the distance from earth to sun\n",
    "init_x_asteroid = 147e9 * 2 * m\n",
    "init_y_asteroid = 0 * m\n",
    "\n",
    "init = State(x_earth=r_0,\n",
    "             y_earth=0 * m,\n",
    "             vx_earth=0 * m / s,\n",
    "             vy_earth=-30330 * m / s,\n",
    "             x_asteroid=init_x_asteroid,\n",
    "             y_asteroid=init_y_asteroid,\n",
    "             vx_asteroid=0 * m / s,\n",
    "             vy_asteroid=15.87e3 * m / s)"
   ]
  },
  {
   "cell_type": "markdown",
   "metadata": {},
   "source": [
    "Here we define our system which consists of information about the masses and radii of the orbital bodies."
   ]
  },
  {
   "cell_type": "code",
   "execution_count": 4,
   "metadata": {},
   "outputs": [
    {
     "data": {
      "text/html": [
       "<div>\n",
       "<style scoped>\n",
       "    .dataframe tbody tr th:only-of-type {\n",
       "        vertical-align: middle;\n",
       "    }\n",
       "\n",
       "    .dataframe tbody tr th {\n",
       "        vertical-align: top;\n",
       "    }\n",
       "\n",
       "    .dataframe thead th {\n",
       "        text-align: right;\n",
       "    }\n",
       "</style>\n",
       "<table border=\"1\" class=\"dataframe\">\n",
       "  <thead>\n",
       "    <tr style=\"text-align: right;\">\n",
       "      <th></th>\n",
       "      <th>values</th>\n",
       "    </tr>\n",
       "  </thead>\n",
       "  <tbody>\n",
       "    <tr>\n",
       "      <th>init</th>\n",
       "      <td>x_earth           147000000000.0 meter\n",
       "y_earth...</td>\n",
       "    </tr>\n",
       "    <tr>\n",
       "      <th>G</th>\n",
       "      <td>6.674e-11 meter ** 2 * newton / kilogram ** 2</td>\n",
       "    </tr>\n",
       "    <tr>\n",
       "      <th>m_sun</th>\n",
       "      <td>1.989e+30 kilogram</td>\n",
       "    </tr>\n",
       "    <tr>\n",
       "      <th>m_earth</th>\n",
       "      <td>5.972e+24 kilogram</td>\n",
       "    </tr>\n",
       "    <tr>\n",
       "      <th>m_asteroid</th>\n",
       "      <td>3200000000.0 kilogram</td>\n",
       "    </tr>\n",
       "    <tr>\n",
       "      <th>r_earth</th>\n",
       "      <td>6371000.0 meter</td>\n",
       "    </tr>\n",
       "    <tr>\n",
       "      <th>r_asteroid</th>\n",
       "      <td>236.0 meter</td>\n",
       "    </tr>\n",
       "    <tr>\n",
       "      <th>dis_init_asteroid</th>\n",
       "      <td>[294000000000.0 meter, 0.0 meter]</td>\n",
       "    </tr>\n",
       "    <tr>\n",
       "      <th>t_0</th>\n",
       "      <td>0 second</td>\n",
       "    </tr>\n",
       "    <tr>\n",
       "      <th>t_end</th>\n",
       "      <td>2 year</td>\n",
       "    </tr>\n",
       "  </tbody>\n",
       "</table>\n",
       "</div>"
      ],
      "text/plain": [
       "init                 x_earth           147000000000.0 meter\n",
       "y_earth...\n",
       "G                        6.674e-11 meter ** 2 * newton / kilogram ** 2\n",
       "m_sun                                               1.989e+30 kilogram\n",
       "m_earth                                             5.972e+24 kilogram\n",
       "m_asteroid                                       3200000000.0 kilogram\n",
       "r_earth                                                6371000.0 meter\n",
       "r_asteroid                                                 236.0 meter\n",
       "dis_init_asteroid                    [294000000000.0 meter, 0.0 meter]\n",
       "t_0                                                           0 second\n",
       "t_end                                                           2 year\n",
       "dtype: object"
      ]
     },
     "execution_count": 4,
     "metadata": {},
     "output_type": "execute_result"
    }
   ],
   "source": [
    "# displacement from initial position of asteroid to the sun\n",
    "dis_init_asteroid = Vector(init_x_asteroid, init_y_asteroid)\n",
    "\n",
    "system = System(init=init,\n",
    "                G=6.674e-11 * N / kg**2 * m**2,\n",
    "                m_sun=1.989e30 * kg,\n",
    "                m_earth=5.972e24 * kg,\n",
    "                m_asteroid=3.2e9 * kg,\n",
    "                r_earth=6.371e6 * m,\n",
    "                r_asteroid=0.472e3 / 2 * m,\n",
    "                dis_init_asteroid=dis_init_asteroid,\n",
    "                t_0=0 * s,\n",
    "                t_end=2 * UNITS.year)"
   ]
  },
  {
   "cell_type": "markdown",
   "metadata": {},
   "source": [
    "Here we define a function that computes the net forces on the Earth using the law of universal gravitation. "
   ]
  },
  {
   "cell_type": "code",
   "execution_count": 5,
   "metadata": {},
   "outputs": [],
   "source": [
    "def universal_gravitation(state, system):\n",
    "    \"\"\"Computes gravitational force.\n",
    "    \n",
    "    state: State object\n",
    "    system: System object\n",
    "    \n",
    "    returns: force vector\n",
    "    \"\"\"\n",
    "    x_earth, y_earth, vx_earth, vy_earth, x_asteroid, y_asteroid, vx_asteroid, vy_asteroid = state\n",
    "    unpack(system)\n",
    "    \n",
    "    displacement = Vector(x_earth, y_earth)\n",
    "    \n",
    "    force = G * m_sun * m_earth / displacement.mag**2\n",
    "\n",
    "    return displacement.hat() * force "
   ]
  },
  {
   "cell_type": "code",
   "execution_count": 6,
   "metadata": {},
   "outputs": [],
   "source": [
    "def get_displacement(a, b):\n",
    "    \"\"\"Returns the displacement between two vector objects\n",
    "    \n",
    "    a: object 1\n",
    "    b: object 2 \n",
    "    \n",
    "    returns: displacement between objects\n",
    "    \"\"\"\n",
    "    return a - b"
   ]
  },
  {
   "cell_type": "code",
   "execution_count": 7,
   "metadata": {},
   "outputs": [],
   "source": [
    "def force_on_asteroid(state, system):\n",
    "    \"\"\"Computes the gravitational forces acting on the asteroid from the Earth and Sun\n",
    "    \n",
    "    state: State object\n",
    "    system: System object\n",
    "    \n",
    "    returns: resultant force vector\n",
    "    \"\"\"\n",
    "    x_earth, y_earth, vx_earth, vy_earth, x_asteroid, y_asteroid, vx_asteroid, vy_asteroid = state\n",
    "    unpack(system)\n",
    "    \n",
    "    displacement_s_e = Vector(x_earth, y_earth)\n",
    "    displacement_s_a = Vector(x_asteroid, y_asteroid)\n",
    "    \n",
    "    # Get distance between earth and asteroid\n",
    "    displacement_e_a = get_displacement(displacement_s_e, displacement_s_a)\n",
    "    \n",
    "    force_sun = displacement_s_a.hat() * (G * m_sun * m_asteroid / displacement_s_a.mag**2)\n",
    "    force_earth = displacement_e_a.hat() * (G * m_earth * m_asteroid / displacement_e_a.mag**2)\n",
    "    \n",
    "    return force_sun + force_earth"
   ]
  },
  {
   "cell_type": "code",
   "execution_count": 8,
   "metadata": {},
   "outputs": [],
   "source": [
    "def slope_func(state, t, system):\n",
    "    \"\"\"Computes the change in state properties\n",
    "    \n",
    "    state: State object\n",
    "    t: time\n",
    "    system: System object\n",
    "    \n",
    "    returns: change in state properties\n",
    "    \"\"\"\n",
    "    x_earth, y_earth, vx_earth, vy_earth, x_asteroid, y_asteroid, vx_asteroid, vy_asteroid = state\n",
    "    unpack(system)    \n",
    "\n",
    "    force_earth = -universal_gravitation(state, system)\n",
    "    \n",
    "    dvxdt_earth = force_earth.x / m_earth\n",
    "    dvydt_earth = force_earth.y / m_earth\n",
    "    \n",
    "    force_asteroid = -force_on_asteroid(state, system)\n",
    "    \n",
    "    dvxdt_asteroid = force_asteroid.x / m_asteroid\n",
    "    dvydt_asteroid = force_asteroid.y / m_asteroid\n",
    "    \n",
    "    return vx_earth, vy_earth, dvxdt_earth, dvydt_earth, vx_asteroid, vy_asteroid, dvxdt_asteroid, dvydt_asteroid "
   ]
  },
  {
   "cell_type": "markdown",
   "metadata": {},
   "source": [
    "### Introduce Event Function to see if asteroid hits Earth"
   ]
  },
  {
   "cell_type": "code",
   "execution_count": 9,
   "metadata": {},
   "outputs": [],
   "source": [
    "def event_func(state, t, system):\n",
    "    \"\"\"Stops run_ode_solver when asteroid hits the Earth\n",
    "    \n",
    "    state: State object\n",
    "    t: time\n",
    "    system: System object\n",
    "    \n",
    "    returns: value indicating state of collision\n",
    "    \"\"\"\n",
    "    x_earth, y_earth, vx_earth, vy_earth, x_asteroid, y_asteroid, vx_asteroid, vy_asteroid = state\n",
    "    unpack(system)\n",
    "\n",
    "    result = 1\n",
    "\n",
    "    # Test if asteroid hits earth with radius into account with tolerance of 10 million km\n",
    "    if get_displacement(Vector(x_earth, y_earth), Vector(x_asteroid, y_asteroid)).mag < r_earth + r_asteroid + 10e9:\n",
    "        print('HITS EARTH!! MAYDAY!')\n",
    "        result = 0\n",
    "    \n",
    "    return result"
   ]
  },
  {
   "cell_type": "code",
   "execution_count": 10,
   "metadata": {},
   "outputs": [],
   "source": [
    "results, details = run_ode_solver(system, slope_func, max_step=20*UNITS.day, events=event_func, method='RK23')"
   ]
  },
  {
   "cell_type": "code",
   "execution_count": 11,
   "metadata": {},
   "outputs": [
    {
     "data": {
      "text/html": [
       "<div>\n",
       "<style scoped>\n",
       "    .dataframe tbody tr th:only-of-type {\n",
       "        vertical-align: middle;\n",
       "    }\n",
       "\n",
       "    .dataframe tbody tr th {\n",
       "        vertical-align: top;\n",
       "    }\n",
       "\n",
       "    .dataframe thead th {\n",
       "        text-align: right;\n",
       "    }\n",
       "</style>\n",
       "<table border=\"1\" class=\"dataframe\">\n",
       "  <thead>\n",
       "    <tr style=\"text-align: right;\">\n",
       "      <th></th>\n",
       "      <th>values</th>\n",
       "    </tr>\n",
       "  </thead>\n",
       "  <tbody>\n",
       "    <tr>\n",
       "      <th>sol</th>\n",
       "      <td>None</td>\n",
       "    </tr>\n",
       "    <tr>\n",
       "      <th>t_events</th>\n",
       "      <td>[[]]</td>\n",
       "    </tr>\n",
       "    <tr>\n",
       "      <th>nfev</th>\n",
       "      <td>221</td>\n",
       "    </tr>\n",
       "    <tr>\n",
       "      <th>njev</th>\n",
       "      <td>0</td>\n",
       "    </tr>\n",
       "    <tr>\n",
       "      <th>nlu</th>\n",
       "      <td>0</td>\n",
       "    </tr>\n",
       "    <tr>\n",
       "      <th>status</th>\n",
       "      <td>0</td>\n",
       "    </tr>\n",
       "    <tr>\n",
       "      <th>message</th>\n",
       "      <td>The solver successfully reached the end of the...</td>\n",
       "    </tr>\n",
       "    <tr>\n",
       "      <th>success</th>\n",
       "      <td>True</td>\n",
       "    </tr>\n",
       "  </tbody>\n",
       "</table>\n",
       "</div>"
      ],
      "text/plain": [
       "sol                                                      None\n",
       "t_events                                                 [[]]\n",
       "nfev                                                      221\n",
       "njev                                                        0\n",
       "nlu                                                         0\n",
       "status                                                      0\n",
       "message     The solver successfully reached the end of the...\n",
       "success                                                  True\n",
       "dtype: object"
      ]
     },
     "execution_count": 11,
     "metadata": {},
     "output_type": "execute_result"
    }
   ],
   "source": [
    "details"
   ]
  },
  {
   "cell_type": "code",
   "execution_count": 12,
   "metadata": {},
   "outputs": [],
   "source": [
    "# Scaling the time steps to days\n",
    "results.index /= 60 * 60 * 24"
   ]
  },
  {
   "cell_type": "code",
   "execution_count": 13,
   "metadata": {},
   "outputs": [],
   "source": [
    "# Scaling the distance to million km\n",
    "x_earth = results.x_earth / 1e9;\n",
    "y_earth = results.y_earth / 1e9;"
   ]
  },
  {
   "cell_type": "code",
   "execution_count": 14,
   "metadata": {},
   "outputs": [
    {
     "data": {
      "image/png": "[encoded data removed]",
      "text/plain": [
       "<Figure size 432x288 with 1 Axes>"
      ]
     },
     "metadata": {},
     "output_type": "display_data"
    }
   ],
   "source": [
    "plot(x_earth, label='x')\n",
    "plot(y_earth, label='y')\n",
    "\n",
    "decorate(title='x, y Position from Earth to Sun vs Time',\n",
    "         xlabel='Time (day)',\n",
    "         ylabel='Distance from sun (million km)')"
   ]
  },
  {
   "cell_type": "code",
   "execution_count": 15,
   "metadata": {},
   "outputs": [],
   "source": [
    "#Scaling the distance to million km\n",
    "x_asteroid = results.x_asteroid / 1e9;\n",
    "y_asteroid = results.y_asteroid / 1e9;"
   ]
  },
  {
   "cell_type": "code",
   "execution_count": 16,
   "metadata": {},
   "outputs": [
    {
     "data": {
      "image/png": "[encoded data removed]",
      "text/plain": [
       "<Figure size 432x288 with 1 Axes>"
      ]
     },
     "metadata": {},
     "output_type": "display_data"
    }
   ],
   "source": [
    "plot(x_asteroid, label='x')\n",
    "plot(y_asteroid, label='y')\n",
    "\n",
    "decorate(title='x, y Position from asteroid to Sun vs Time',\n",
    "         xlabel='Time (day)',\n",
    "         ylabel='Distance from sun (million km)')"
   ]
  },
  {
   "cell_type": "code",
   "execution_count": 17,
   "metadata": {},
   "outputs": [],
   "source": [
    "def plot_orbit(results):\n",
    "    \"\"\"Takes the results and plots the orbitital path of all bodies on a cartesian plane\n",
    "    \n",
    "    results: Timeframe object containing results of run_ode_solver\n",
    "    \"\"\"\n",
    "    # Scaling the distance to million km\n",
    "    x_earth = results.x_earth / 1e9;\n",
    "    y_earth = results.y_earth / 1e9;\n",
    "    \n",
    "    #Scaling the distance to million km\n",
    "    x_asteroid = results.x_asteroid / 1e9;\n",
    "    y_asteroid = results.y_asteroid / 1e9;\n",
    "    \n",
    "    plot(x_earth, y_earth, label='earth')\n",
    "    plot(x_asteroid, y_asteroid, label='asteroid')\n",
    "\n",
    "    # Plot end points of earth and asteroid orbit\n",
    "    plot(results.x_earth.values[-1] / 1e9, results.y_earth.values[-1] / 1e9, 'ob')\n",
    "    plot(results.x_asteroid.values[-1] / 1e9, results.y_asteroid.values[-1] / 1e9, 'og')\n",
    "\n",
    "    # Plot sun as a circle with realistic radius\n",
    "    ax = plt.gca()\n",
    "\n",
    "    # Plot realistic sun size\n",
    "    # circle = patches.Circle((0,0), radius=.695, color='orange')\n",
    "\n",
    "    circle = patches.Circle((0,0), radius=10, color='orange')\n",
    "    elements = [circle]\n",
    "    ax.add_patch(circle)\n",
    "\n",
    "    decorate(title='Orbital Path of Bodies',\n",
    "             xlabel='x (million km)',\n",
    "             ylabel='y (million km)',\n",
    "             loc='upper right')\n",
    "\n",
    "    # Plot with equal aspect ratio\n",
    "    ax.set_aspect('equal')"
   ]
  },
  {
   "cell_type": "code",
   "execution_count": 18,
   "metadata": {},
   "outputs": [
    {
     "data": {
      "image/png": "[encoded data removed]",
      "text/plain": [
       "<Figure size 432x288 with 1 Axes>"
      ]
     },
     "metadata": {},
     "output_type": "display_data"
    }
   ],
   "source": [
    "plot_orbit(results)"
   ]
  },
  {
   "cell_type": "markdown",
   "metadata": {},
   "source": [
    "As seen in the graph above, the earth and the asteroid never collide given the initial set of parameters. Therefore, we must determine the correct set of variables that will result in the collision of the two bodies. We will first try by altering the simulation time, and to do let's find the period length of one orbit given the current conditions.  "
   ]
  },
  {
   "cell_type": "markdown",
   "metadata": {},
   "source": [
    "### Finding period"
   ]
  },
  {
   "cell_type": "markdown",
   "metadata": {},
   "source": [
    "To find the period of the asteroid's orbit, we must define an event function that stops the run ode solver when the asteroid has travled back to its initial position."
   ]
  },
  {
   "cell_type": "code",
   "execution_count": 19,
   "metadata": {},
   "outputs": [],
   "source": [
    "distances = TimeSeries()\n",
    "# Flag to check if asteroid has left bounding box\n",
    "left_box = False\n",
    "\n",
    "def event_func_period(state, t, system):\n",
    "    \"\"\"Stops run_ode_solver when asteroid travels one full period\n",
    "    \n",
    "    state: State object\n",
    "    t: time\n",
    "    system: System object\n",
    "    \n",
    "    returns: value indicating whether asteroid has traveled one period\n",
    "    \"\"\"\n",
    "    global left_box\n",
    "    x_earth, y_earth, vx_earth, vy_earth, x_asteroid, y_asteroid, vx_asteroid, vy_asteroid = state\n",
    "    unpack(system)\n",
    "    print('Earth: (' + str(x_earth) + ', ' + str(y_earth) + ')', 'Asteroid: (' + str(x_asteroid) + ', ' + str(y_asteroid) + ')' )\n",
    "    \n",
    "    result = 1\n",
    "    \n",
    "    # Get distance of asteroid from initial position in orbit, scale to million km\n",
    "    distance = get_displacement(Vector(x_asteroid, y_asteroid), dis_init_asteroid).mag / 1e9\n",
    "    distances[str(t)] = distance\n",
    "    \n",
    "    # If asteroid is back within 10 million km of it initial bounding box\n",
    "    if distance < 10:\n",
    "        if left_box:\n",
    "            print('################\\nIn bounding box of 100 km', 'Distance: ' + str(distance * UNITS.m),\n",
    "                  'Time: ' + str(t)+ '\\n################')\n",
    "            result = 0\n",
    "    elif not left_box:\n",
    "        print(\"################\\nAsteroid left bounding box. It's in orbit.\\n################\")\n",
    "        left_box = True\n",
    "    \n",
    "    return result"
   ]
  },
  {
   "cell_type": "code",
   "execution_count": 20,
   "metadata": {},
   "outputs": [
    {
     "name": "stdout",
     "output_type": "stream",
     "text": [
      "Earth: (147000000000.0, 0) Asteroid: (294000000000.0, 0)\n",
      "Earth: (147000000000.0, -0.0017720745419411387) Asteroid: (294000000000.0, 0.000927227925506293)\n",
      "Earth: (147000000000.0, -0.019492819961352527) Asteroid: (294000000000.0, 0.010199507180569223)\n",
      "Earth: (147000000000.0, -0.19670027415546637) Asteroid: (294000000000.0, 0.10292229973119853)\n",
      "Earth: (147000000000.0, -1.968774816096605) Asteroid: (294000000000.0, 1.0301502252374914)\n",
      "Earth: (147000000000.0, -19.689520235507995) Asteroid: (294000000000.0, 10.302429480300423)\n",
      "Earth: (147000000000.0, -196.89697442962188) Asteroid: (294000000000.0, 103.02522203092974)\n",
      "Earth: (147000000000.0, -1968.9715163707604) Asteroid: (294000000000.0, 1030.253147537223)\n",
      "Earth: (146999999999.99872, -19689.716935782086) Asteroid: (293999999999.9997, 10302.53240260015)\n",
      "Earth: (146999999999.87057, -196897.17112983819) Asteroid: (293999999999.96765, 103025.32495322569)\n",
      "Earth: (146999999987.05536, -1968971.7130132394) Asteroid: (293999999996.7639, 1030253.2504557427)\n",
      "Earth: (146999998705.5346, -19689717.07468728) Asteroid: (293999999676.3876, 10302532.501742596)\n",
      "Earth: (146999870553.5029, -196897113.5314822) Asteroid: (293999967638.7538, 103025321.27629371)\n",
      "Earth: (146987055795.72043, -1968913920.997973) Asteroid: (293996763881.1618, 1030249470.712184)\n",
      "Earth: (146115924195.65866, -16257674078.816093) Asteroid: (293778508430.6622, 8521667017.831411)\n",
      "Earth: (140247146457.30295, -44524172103.72473) Asteroid: (292293430167.95416, 23613347061.997963)\n",
      "################\n",
      "Asteroid left bounding box. It's in orbit.\n",
      "################\n",
      "Earth: (123219588488.21909, -81129708773.1695) Asteroid: (287852794790.40906, 44572807189.927345)\n",
      "Earth: (89954059273.0508, -117899234561.49597) Asteroid: (278556749014.9569, 69828366773.73222)\n",
      "Earth: (44606316686.66794 dimensionless, -142475064389.23895 dimensionless) Asteroid: (264267924612.77036 dimensionless, 95107747625.8316 dimensionless)\n",
      "Earth: (4576935143.804146 dimensionless, -149997203760.81418 dimensionless) Asteroid: (249571700212.01782 dimensionless, 113972726198.91855 dimensionless)\n",
      "Earth: (-36052842659.309204 dimensionless, -146454023230.77615 dimensionless) Asteroid: (231737773165.43118 dimensionless, 131565246704.82097 dimensionless)\n",
      "Earth: (-74050571590.124 dimensionless, -132183172956.68208 dimensionless) Asteroid: (210810978228.9413 dimensionless, 147396062203.74158 dimensionless)\n",
      "Earth: (-112603161159.83524 dimensionless, -102445945424.12752 dimensionless) Asteroid: (181402606838.60385 dimensionless, 163530926816.93094 dimensionless)\n",
      "Earth: (-140282952291.5307 dimensionless, -60406625297.79214 dimensionless) Asteroid: (146038157120.6494 dimensionless, 175878975180.15494 dimensionless)\n",
      "Earth: (-151831252187.01114 dimensionless, -17856203135.81617 dimensionless) Asteroid: (111043562433.56302 dimensionless, 181930591800.62872 dimensionless)\n",
      "Earth: (-152057787311.8688 dimensionless, 14846260518.189693 dimensionless) Asteroid: (82858135755.6695 dimensionless, 182779271484.64322 dimensionless)\n",
      "Earth: (-145176518874.72232 dimensionless, 46854604332.99133 dimensionless) Asteroid: (52971790667.33429 dimensionless, 179835263269.5928 dimensionless)\n",
      "Earth: (-127785454744.12158 dimensionless, 82555806767.28653 dimensionless) Asteroid: (15056024729.183327 dimensionless, 170067140363.3789 dimensionless)\n",
      "Earth: (-101648129824.88234 dimensionless, 112429063745.6291 dimensionless) Asteroid: (-23370660556.2294 dimensionless, 151996145941.27493 dimensionless)\n",
      "Earth: (-68440121910.07802 dimensionless, 134475884120.11719 dimensionless) Asteroid: (-60099608396.16302 dimensionless, 123803026869.09906 dimensionless)\n",
      "Earth: (-30410105420.06511 dimensionless, 147037523038.46 dimensionless) Asteroid: (-91074360318.04965 dimensionless, 84248546928.3765 dimensionless)\n",
      "Earth: (270848201.0208397 dimensionless, 149546009408.85052 dimensionless) Asteroid: (-107222463211.2481 dimensionless, 46814526153.44289 dimensionless)\n",
      "Earth: (24357996371.929333 dimensionless, 147073200978.27515 dimensionless) Asteroid: (-113372910632.6453 dimensionless, 14513609374.7706 dimensionless)\n",
      "Earth: (41474111981.595375 dimensionless, 142847130560.9119 dimensionless) Asteroid: (-113729893499.62157 dimensionless, -9557707842.83022 dimensionless)\n",
      "Earth: (58011102372.75903 dimensionless, 136627238624.1401 dimensionless) Asteroid: (-110588804748.02599 dimensionless, -33336896971.41405 dimensionless)\n",
      "Earth: (77422461547.21017 dimensionless, 126223721831.93799 dimensionless) Asteroid: (-102145819057.29767 dimensionless, -61484403044.25056 dimensionless)\n",
      "Earth: (101046221780.90424 dimensionless, 107688272744.977 dimensionless) Asteroid: (-83999643802.07294 dimensionless, -95589607196.32924 dimensionless)\n",
      "Earth: (124191281121.43309 dimensionless, 79261160003.03416 dimensionless) Asteroid: (-54828199999.587494 dimensionless, -128996963130.08563 dimensionless)\n",
      "Earth: (140215258073.92618 dimensionless, 44643185207.25497 dimensionless) Asteroid: (-20302445771.88481 dimensionless, -154072184922.3176 dimensionless)\n",
      "Earth: (146795350194.81808 dimensionless, 10106945619.675331 dimensionless) Asteroid: (12641930723.17162 dimensionless, -169439185588.33237 dimensionless)\n",
      "Earth: (145159176557.10782 dimensionless, -24996310381.661743 dimensionless) Asteroid: (45173396498.56011 dimensionless, -178597987199.84366 dimensionless)\n",
      "Earth: (135422623686.9208 dimensionless, -58707041516.98921 dimensionless) Asteroid: (76438873669.37947 dimensionless, -182618128175.17853 dimensionless)\n",
      "Earth: (113768786927.89015 dimensionless, -94939270861.16888 dimensionless) Asteroid: (111836422016.01483 dimensionless, -181905935625.15704 dimensionless)\n",
      "Earth: (83032711826.16415 dimensionless, -123604083229.63394 dimensionless) Asteroid: (144250253827.39633 dimensionless, -176284617634.1712 dimensionless)\n",
      "Earth: (36994981085.35385 dimensionless, -145342716300.98468 dimensionless) Asteroid: (179486877777.03833 dimensionless, -164207940840.7272 dimensionless)\n",
      "Earth: (-1111907100.7075348 dimensionless, -150732371791.9955 dimensionless) Asteroid: (203005294982.1861 dimensionless, -151989971636.62134 dimensionless)\n",
      "Earth: (-39387795538.89907 dimensionless, -146246349188.92505 dimensionless) Asteroid: (223855873479.08844 dimensionless, -137579538424.97888 dimensionless)\n",
      "Earth: (-75504199101.22519 dimensionless, -132033336554.02094 dimensionless) Asteroid: (242100396881.86075 dimensionless, -121243725412.44826 dimensionless)\n",
      "Earth: (-114200536373.95798 dimensionless, -101507169374.41805 dimensionless) Asteroid: (261290319188.6124 dimensionless, -98349489456.00964 dimensionless)\n",
      "Earth: (-141302629487.03278 dimensionless, -59245897657.731995 dimensionless) Asteroid: (276204354621.6583 dimensionless, -73163844385.74919 dimensionless)\n",
      "Earth: (-152954138728.37103 dimensionless, -10497329283.04097 dimensionless) Asteroid: (286422677707.09924 dimensionless, -46729374003.34004 dimensionless)\n",
      "Earth: (-150326480782.57376 dimensionless, 28942456860.335762 dimensionless) Asteroid: (291192537304.42725 dimensionless, -25365785420.601517 dimensionless)\n",
      "Earth: (-137462790430.22638 dimensionless, 66410243902.68985 dimensionless) Asteroid: (293098512900.30164 dimensionless, -3752141120.7687073 dimensionless)\n",
      "################\n",
      "In bounding box of 100 km Distance: 3.858917203191333 meter Time: 49940928.32694052 dimensionless\n",
      "################\n",
      "Earth: (-150326480782.57376 dimensionless, 28942456860.335762 dimensionless) Asteroid: (291192537304.42725 dimensionless, -25365785420.601517 dimensionless)\n",
      "Earth: (-137462790430.22638 dimensionless, 66410243902.689865 dimensionless) Asteroid: (293098512900.30164 dimensionless, -3752141120.7687035 dimensionless)\n",
      "################\n",
      "In bounding box of 100 km Distance: 3.858917203191329 meter Time: 49940928.32694052\n",
      "################\n"
     ]
    }
   ],
   "source": [
    "results, details = run_ode_solver(system, slope_func, max_step=20*UNITS.day, events=event_func_period, method='RK23')"
   ]
  },
  {
   "cell_type": "code",
   "execution_count": 21,
   "metadata": {},
   "outputs": [
    {
     "data": {
      "image/png": "[encoded data removed]",
      "text/plain": [
       "<Figure size 432x288 with 1 Axes>"
      ]
     },
     "metadata": {},
     "output_type": "display_data"
    }
   ],
   "source": [
    "plot(distances, label='asteroid')\n",
    "decorate(title='Distance of asteroid from Sun vs Time',\n",
    "         xlabel='Time (sec)',\n",
    "         ylabel='Distance from inital postion (million km)')"
   ]
  },
  {
   "cell_type": "markdown",
   "metadata": {},
   "source": [
    "As seen in the plot of distance against time, the asteroid travels one full orbit."
   ]
  },
  {
   "cell_type": "code",
   "execution_count": 22,
   "metadata": {},
   "outputs": [
    {
     "data": {
      "text/html": [
       "578.0200037840337 day"
      ],
      "text/latex": [
       "$578.0200037840337 day$"
      ],
      "text/plain": [
       "<Quantity(578.0200037840337, 'day')>"
      ]
     },
     "execution_count": 22,
     "metadata": {},
     "output_type": "execute_result"
    }
   ],
   "source": [
    "# Find the period of the asteroid\n",
    "t_final = get_last_label(results) * s\n",
    "period = t_final.to(UNITS.day)"
   ]
  },
  {
   "cell_type": "markdown",
   "metadata": {},
   "source": [
    "The period length seems to be 578 days\n",
    "\n",
    "Plotting the orbit paths, the asteroid can be seen to start and end its path at the same point."
   ]
  },
  {
   "cell_type": "code",
   "execution_count": 23,
   "metadata": {},
   "outputs": [
    {
     "data": {
      "image/png": "[encoded data removed]",
      "text/plain": [
       "<Figure size 432x288 with 1 Axes>"
      ]
     },
     "metadata": {},
     "output_type": "display_data"
    }
   ],
   "source": [
    "# Shows that asteroid ends where it began after calculated period\n",
    "plot_orbit(results)"
   ]
  },
  {
   "cell_type": "markdown",
   "metadata": {},
   "source": [
    "### Running Simulation for Multiple Periods to Test if Asteroid Will Hit (50 periods)\n",
    "To determine whether or not the asteroid and Earth hit, we will run the simulatior for 50 periods. "
   ]
  },
  {
   "cell_type": "code",
   "execution_count": 24,
   "metadata": {},
   "outputs": [
    {
     "data": {
      "text/html": [
       "<div>\n",
       "<style scoped>\n",
       "    .dataframe tbody tr th:only-of-type {\n",
       "        vertical-align: middle;\n",
       "    }\n",
       "\n",
       "    .dataframe tbody tr th {\n",
       "        vertical-align: top;\n",
       "    }\n",
       "\n",
       "    .dataframe thead th {\n",
       "        text-align: right;\n",
       "    }\n",
       "</style>\n",
       "<table border=\"1\" class=\"dataframe\">\n",
       "  <thead>\n",
       "    <tr style=\"text-align: right;\">\n",
       "      <th></th>\n",
       "      <th>values</th>\n",
       "    </tr>\n",
       "  </thead>\n",
       "  <tbody>\n",
       "    <tr>\n",
       "      <th>init</th>\n",
       "      <td>x_earth           147000000000.0 meter\n",
       "y_earth...</td>\n",
       "    </tr>\n",
       "    <tr>\n",
       "      <th>G</th>\n",
       "      <td>6.674e-11 meter ** 2 * newton / kilogram ** 2</td>\n",
       "    </tr>\n",
       "    <tr>\n",
       "      <th>m_sun</th>\n",
       "      <td>1.989e+30 kilogram</td>\n",
       "    </tr>\n",
       "    <tr>\n",
       "      <th>m_earth</th>\n",
       "      <td>5.972e+24 kilogram</td>\n",
       "    </tr>\n",
       "    <tr>\n",
       "      <th>m_asteroid</th>\n",
       "      <td>3200000000.0 kilogram</td>\n",
       "    </tr>\n",
       "    <tr>\n",
       "      <th>r_earth</th>\n",
       "      <td>6371000.0 meter</td>\n",
       "    </tr>\n",
       "    <tr>\n",
       "      <th>r_asteroid</th>\n",
       "      <td>236.0 meter</td>\n",
       "    </tr>\n",
       "    <tr>\n",
       "      <th>dis_init_asteroid</th>\n",
       "      <td>[294000000000.0 meter, 0.0 meter]</td>\n",
       "    </tr>\n",
       "    <tr>\n",
       "      <th>t_0</th>\n",
       "      <td>0 second</td>\n",
       "    </tr>\n",
       "    <tr>\n",
       "      <th>t_end</th>\n",
       "      <td>28901.000189201688 day</td>\n",
       "    </tr>\n",
       "  </tbody>\n",
       "</table>\n",
       "</div>"
      ],
      "text/plain": [
       "init                 x_earth           147000000000.0 meter\n",
       "y_earth...\n",
       "G                        6.674e-11 meter ** 2 * newton / kilogram ** 2\n",
       "m_sun                                               1.989e+30 kilogram\n",
       "m_earth                                             5.972e+24 kilogram\n",
       "m_asteroid                                       3200000000.0 kilogram\n",
       "r_earth                                                6371000.0 meter\n",
       "r_asteroid                                                 236.0 meter\n",
       "dis_init_asteroid                    [294000000000.0 meter, 0.0 meter]\n",
       "t_0                                                           0 second\n",
       "t_end                                           28901.000189201688 day\n",
       "dtype: object"
      ]
     },
     "execution_count": 24,
     "metadata": {},
     "output_type": "execute_result"
    }
   ],
   "source": [
    "system.t_end = 50 * period\n",
    "system"
   ]
  },
  {
   "cell_type": "code",
   "execution_count": 25,
   "metadata": {},
   "outputs": [
    {
     "name": "stdout",
     "output_type": "stream",
     "text": [
      "HITS EARTH!! MAYDAY!\n",
      "HITS EARTH!! MAYDAY!\n"
     ]
    }
   ],
   "source": [
    "results, details = run_ode_solver(system, slope_func, max_step=20*UNITS.day, events=event_func, method='RK23')"
   ]
  },
  {
   "cell_type": "markdown",
   "metadata": {},
   "source": [
    "It looks like the asteroid has hit earth. Let's look at how long it took."
   ]
  },
  {
   "cell_type": "code",
   "execution_count": 26,
   "metadata": {},
   "outputs": [
    {
     "data": {
      "text/html": [
       "<div>\n",
       "<style scoped>\n",
       "    .dataframe tbody tr th:only-of-type {\n",
       "        vertical-align: middle;\n",
       "    }\n",
       "\n",
       "    .dataframe tbody tr th {\n",
       "        vertical-align: top;\n",
       "    }\n",
       "\n",
       "    .dataframe thead th {\n",
       "        text-align: right;\n",
       "    }\n",
       "</style>\n",
       "<table border=\"1\" class=\"dataframe\">\n",
       "  <thead>\n",
       "    <tr style=\"text-align: right;\">\n",
       "      <th></th>\n",
       "      <th>values</th>\n",
       "    </tr>\n",
       "  </thead>\n",
       "  <tbody>\n",
       "    <tr>\n",
       "      <th>sol</th>\n",
       "      <td>None</td>\n",
       "    </tr>\n",
       "    <tr>\n",
       "      <th>t_events</th>\n",
       "      <td>[[1153785548.8917234]]</td>\n",
       "    </tr>\n",
       "    <tr>\n",
       "      <th>nfev</th>\n",
       "      <td>3341</td>\n",
       "    </tr>\n",
       "    <tr>\n",
       "      <th>njev</th>\n",
       "      <td>0</td>\n",
       "    </tr>\n",
       "    <tr>\n",
       "      <th>nlu</th>\n",
       "      <td>0</td>\n",
       "    </tr>\n",
       "    <tr>\n",
       "      <th>status</th>\n",
       "      <td>1</td>\n",
       "    </tr>\n",
       "    <tr>\n",
       "      <th>message</th>\n",
       "      <td>A termination event occurred.</td>\n",
       "    </tr>\n",
       "    <tr>\n",
       "      <th>success</th>\n",
       "      <td>True</td>\n",
       "    </tr>\n",
       "  </tbody>\n",
       "</table>\n",
       "</div>"
      ],
      "text/plain": [
       "sol                                  None\n",
       "t_events           [[1153785548.8917234]]\n",
       "nfev                                 3341\n",
       "njev                                    0\n",
       "nlu                                     0\n",
       "status                                  1\n",
       "message     A termination event occurred.\n",
       "success                              True\n",
       "dtype: object"
      ]
     },
     "execution_count": 26,
     "metadata": {},
     "output_type": "execute_result"
    }
   ],
   "source": [
    "details"
   ]
  },
  {
   "cell_type": "code",
   "execution_count": 27,
   "metadata": {},
   "outputs": [],
   "source": [
    "# Scaling the time steps to days\n",
    "results.index /= 60 * 60 * 24\n",
    "# Scaling the distance to million km\n",
    "x_earth = results.x_earth / 1e9;\n",
    "y_earth = results.y_earth / 1e9;"
   ]
  },
  {
   "cell_type": "code",
   "execution_count": 28,
   "metadata": {},
   "outputs": [],
   "source": [
    "#Scaling the distance to million km\n",
    "x_asteroid = results.x_asteroid / 1e9;\n",
    "y_asteroid = results.y_asteroid / 1e9;"
   ]
  },
  {
   "cell_type": "code",
   "execution_count": 29,
   "metadata": {},
   "outputs": [
    {
     "data": {
      "text/html": [
       "13353.99940846902 day"
      ],
      "text/latex": [
       "$13353.99940846902 day$"
      ],
      "text/plain": [
       "<Quantity(13353.99940846902, 'day')>"
      ]
     },
     "execution_count": 29,
     "metadata": {},
     "output_type": "execute_result"
    }
   ],
   "source": [
    "t_final = get_last_label(results) * UNITS.days"
   ]
  },
  {
   "cell_type": "code",
   "execution_count": 30,
   "metadata": {},
   "outputs": [
    {
     "data": {
      "text/html": [
       "36.5620387048074 year"
      ],
      "text/latex": [
       "$36.5620387048074 year$"
      ],
      "text/plain": [
       "<Quantity(36.5620387048074, 'year')>"
      ]
     },
     "execution_count": 30,
     "metadata": {},
     "output_type": "execute_result"
    }
   ],
   "source": [
    "# Time for asteroid collides with earth\n",
    "t_final.to(UNITS.year)"
   ]
  },
  {
   "cell_type": "markdown",
   "metadata": {},
   "source": [
    "We see that the Earth and asteroid collide after 36.56 years."
   ]
  },
  {
   "cell_type": "code",
   "execution_count": 31,
   "metadata": {
    "scrolled": false
   },
   "outputs": [
    {
     "data": {
      "image/png": "[encoded data removed]",
      "text/plain": [
       "<Figure size 432x288 with 1 Axes>"
      ]
     },
     "metadata": {},
     "output_type": "display_data"
    }
   ],
   "source": [
    "plot_orbit(results)"
   ]
  },
  {
   "cell_type": "markdown",
   "metadata": {},
   "source": [
    "### Implement the Gravity Tractor\n",
    "Now that we know that Earth will be in danger, it is time to save it! We will do this by applying a 5.4 N force to it over the entire time of the simulation. This force is applied by the gravity tractor in our simulation."
   ]
  },
  {
   "cell_type": "code",
   "execution_count": 47,
   "metadata": {},
   "outputs": [
    {
     "data": {
      "text/html": [
       "<div>\n",
       "<style scoped>\n",
       "    .dataframe tbody tr th:only-of-type {\n",
       "        vertical-align: middle;\n",
       "    }\n",
       "\n",
       "    .dataframe tbody tr th {\n",
       "        vertical-align: top;\n",
       "    }\n",
       "\n",
       "    .dataframe thead th {\n",
       "        text-align: right;\n",
       "    }\n",
       "</style>\n",
       "<table border=\"1\" class=\"dataframe\">\n",
       "  <thead>\n",
       "    <tr style=\"text-align: right;\">\n",
       "      <th></th>\n",
       "      <th>values</th>\n",
       "    </tr>\n",
       "  </thead>\n",
       "  <tbody>\n",
       "    <tr>\n",
       "      <th>init</th>\n",
       "      <td>x_earth           147000000000.0 meter\n",
       "y_earth...</td>\n",
       "    </tr>\n",
       "    <tr>\n",
       "      <th>G</th>\n",
       "      <td>6.674e-11 meter ** 2 * newton / kilogram ** 2</td>\n",
       "    </tr>\n",
       "    <tr>\n",
       "      <th>m_sun</th>\n",
       "      <td>1.989e+30 kilogram</td>\n",
       "    </tr>\n",
       "    <tr>\n",
       "      <th>m_earth</th>\n",
       "      <td>5.972e+24 kilogram</td>\n",
       "    </tr>\n",
       "    <tr>\n",
       "      <th>m_asteroid</th>\n",
       "      <td>3200000000.0 kilogram</td>\n",
       "    </tr>\n",
       "    <tr>\n",
       "      <th>r_earth</th>\n",
       "      <td>6371000.0 meter</td>\n",
       "    </tr>\n",
       "    <tr>\n",
       "      <th>r_asteroid</th>\n",
       "      <td>236.0 meter</td>\n",
       "    </tr>\n",
       "    <tr>\n",
       "      <th>dis_init_asteroid</th>\n",
       "      <td>[294000000000.0 meter, 0.0 meter]</td>\n",
       "    </tr>\n",
       "    <tr>\n",
       "      <th>t_0</th>\n",
       "      <td>0 second</td>\n",
       "    </tr>\n",
       "    <tr>\n",
       "      <th>t_end</th>\n",
       "      <td>28901.000189201688 day</td>\n",
       "    </tr>\n",
       "  </tbody>\n",
       "</table>\n",
       "</div>"
      ],
      "text/plain": [
       "init                 x_earth           147000000000.0 meter\n",
       "y_earth...\n",
       "G                        6.674e-11 meter ** 2 * newton / kilogram ** 2\n",
       "m_sun                                               1.989e+30 kilogram\n",
       "m_earth                                             5.972e+24 kilogram\n",
       "m_asteroid                                       3200000000.0 kilogram\n",
       "r_earth                                                6371000.0 meter\n",
       "r_asteroid                                                 236.0 meter\n",
       "dis_init_asteroid                    [294000000000.0 meter, 0.0 meter]\n",
       "t_0                                                           0 second\n",
       "t_end                                           28901.000189201688 day\n",
       "dtype: object"
      ]
     },
     "execution_count": 47,
     "metadata": {},
     "output_type": "execute_result"
    }
   ],
   "source": [
    "# Time set 50 periods to see the trajectory of asteroid after it passes earth\n",
    "system.t_end = 50 * period\n",
    "system"
   ]
  },
  {
   "cell_type": "markdown",
   "metadata": {},
   "source": [
    "### Spaceship Modeling Decisions\n",
    "The following [thruster](https://www.nasa.gov/multimedia/imagegallery/image_feature_2416.html) is able to produce roughly 5.4 N of force. Instead of modeling another body next to the asteroid whose resultant gravitational force would pull the asteroid, we assumed that the force produced by the thruster would equal the gravitational force acting between the asteroid and the spaceship. This means that in order for the spaceship and asteroid to stay a fixed distance apart, the thruster would have to constantly exert a force away from the asteroid. "
   ]
  },
  {
   "cell_type": "code",
   "execution_count": 48,
   "metadata": {},
   "outputs": [],
   "source": [
    "# Greatest force produced by an ion thrusted satellite\n",
    "force_spaceship = 5.4 * N;"
   ]
  },
  {
   "cell_type": "code",
   "execution_count": 49,
   "metadata": {},
   "outputs": [],
   "source": [
    "def slope_func(state, t, system):\n",
    "    \"\"\"Computes the change in state properties\n",
    "    \n",
    "    state: State object\n",
    "    t: time\n",
    "    system: System object\n",
    "    \n",
    "    returns: change in state properties\n",
    "    \"\"\"\n",
    "    x_earth, y_earth, vx_earth, vy_earth, x_asteroid, y_asteroid, vx_asteroid, vy_asteroid = state\n",
    "    unpack(system)    \n",
    "\n",
    "    force_earth = -universal_gravitation(state, system)\n",
    "    \n",
    "    dvxdt_earth = force_earth.x / m_earth\n",
    "    dvydt_earth = force_earth.y / m_earth\n",
    "    \n",
    "    force_asteroid = -force_on_asteroid(state, system)\n",
    "    \n",
    "    dvxdt_asteroid = force_asteroid.x / m_asteroid\n",
    "    # Takes into account the force the spaceship (gravity tractor) exerts on the asteroid\n",
    "    dvydt_asteroid = (force_asteroid.y - force_spaceship) / m_asteroid\n",
    "    \n",
    "    return vx_earth, vy_earth, dvxdt_earth, dvydt_earth, vx_asteroid, vy_asteroid, dvxdt_asteroid, dvydt_asteroid "
   ]
  },
  {
   "cell_type": "code",
   "execution_count": 50,
   "metadata": {},
   "outputs": [],
   "source": [
    "results, details = run_ode_solver(system, slope_func, max_step=20*UNITS.day, events=event_func, method='RK23')"
   ]
  },
  {
   "cell_type": "code",
   "execution_count": 51,
   "metadata": {},
   "outputs": [
    {
     "data": {
      "text/html": [
       "<div>\n",
       "<style scoped>\n",
       "    .dataframe tbody tr th:only-of-type {\n",
       "        vertical-align: middle;\n",
       "    }\n",
       "\n",
       "    .dataframe tbody tr th {\n",
       "        vertical-align: top;\n",
       "    }\n",
       "\n",
       "    .dataframe thead th {\n",
       "        text-align: right;\n",
       "    }\n",
       "</style>\n",
       "<table border=\"1\" class=\"dataframe\">\n",
       "  <thead>\n",
       "    <tr style=\"text-align: right;\">\n",
       "      <th></th>\n",
       "      <th>values</th>\n",
       "    </tr>\n",
       "  </thead>\n",
       "  <tbody>\n",
       "    <tr>\n",
       "      <th>sol</th>\n",
       "      <td>None</td>\n",
       "    </tr>\n",
       "    <tr>\n",
       "      <th>t_events</th>\n",
       "      <td>[[]]</td>\n",
       "    </tr>\n",
       "    <tr>\n",
       "      <th>nfev</th>\n",
       "      <td>6773</td>\n",
       "    </tr>\n",
       "    <tr>\n",
       "      <th>njev</th>\n",
       "      <td>0</td>\n",
       "    </tr>\n",
       "    <tr>\n",
       "      <th>nlu</th>\n",
       "      <td>0</td>\n",
       "    </tr>\n",
       "    <tr>\n",
       "      <th>status</th>\n",
       "      <td>0</td>\n",
       "    </tr>\n",
       "    <tr>\n",
       "      <th>message</th>\n",
       "      <td>The solver successfully reached the end of the...</td>\n",
       "    </tr>\n",
       "    <tr>\n",
       "      <th>success</th>\n",
       "      <td>True</td>\n",
       "    </tr>\n",
       "  </tbody>\n",
       "</table>\n",
       "</div>"
      ],
      "text/plain": [
       "sol                                                      None\n",
       "t_events                                                 [[]]\n",
       "nfev                                                     6773\n",
       "njev                                                        0\n",
       "nlu                                                         0\n",
       "status                                                      0\n",
       "message     The solver successfully reached the end of the...\n",
       "success                                                  True\n",
       "dtype: object"
      ]
     },
     "execution_count": 51,
     "metadata": {},
     "output_type": "execute_result"
    }
   ],
   "source": [
    "details"
   ]
  },
  {
   "cell_type": "code",
   "execution_count": 52,
   "metadata": {},
   "outputs": [],
   "source": [
    "# Scaling the time steps to days\n",
    "results.index /= 60 * 60 * 24"
   ]
  },
  {
   "cell_type": "code",
   "execution_count": 53,
   "metadata": {},
   "outputs": [
    {
     "data": {
      "image/png": "[encoded data removed]",
      "text/plain": [
       "<Figure size 432x288 with 1 Axes>"
      ]
     },
     "metadata": {},
     "output_type": "display_data"
    }
   ],
   "source": [
    "plot_orbit(results)"
   ]
  },
  {
   "cell_type": "markdown",
   "metadata": {},
   "source": [
    "### Results\n",
    "\n",
    "We observe above that the asteroid no longer collides with Earth after 50 periods. Given this result and the assumptions stated above, we are able to deflect asteroid 410777 using the largest ion-thruster we have. \n"
   ]
  },
  {
   "cell_type": "markdown",
   "metadata": {},
   "source": [
    "### Interpretation\n",
    "The model does not account for the other significant masses in the solar system. Thus, the results are not representative of the real asteroid. There is also room for improvement with the depth of the model. In addition to asking whether or not the gravity tractor will deflect the asteroid, we could also determine the latest time the spaceship has to get to the asteroid and still deflect it. \n",
    "\n",
    "We iterated multiple times during this project. We began by using the Earth and Sun orbital model. We then built the asteroid into the model. In a seperate notebook, we also tested the force of the spaceship on the asteroid. In the end, we integrated everything. Iteration helped us develop part of the model and refine our project idea. "
   ]
  }
 ],
 "metadata": {
  "kernelspec": {
   "display_name": "Python 3",
   "language": "python",
   "name": "python3"
  },
  "language_info": {
   "codemirror_mode": {
    "name": "ipython",
    "version": 3
   },
   "file_extension": ".py",
   "mimetype": "text/x-python",
   "name": "python",
   "nbconvert_exporter": "python",
   "pygments_lexer": "ipython3",
   "version": "3.6.5"
  }
 },
 "nbformat": 4,
 "nbformat_minor": 2
}
